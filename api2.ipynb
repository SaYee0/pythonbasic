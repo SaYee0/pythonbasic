{
 "cells": [
  {
   "cell_type": "code",
   "execution_count": 1,
   "id": "de58fc0b-00b8-43c1-baac-35ac741d31cc",
   "metadata": {},
   "outputs": [
    {
     "data": {
      "text/plain": [
       "True"
      ]
     },
     "execution_count": 1,
     "metadata": {},
     "output_type": "execute_result"
    }
   ],
   "source": [
    "import urllib.robotparser\n",
    "rp = urllib.robotparser.RobotFileParser()\n",
    "rp.set_url(\"https://edition.cnn.com/robots.txt\")\n",
    "rp.read()\n",
    "\n",
    "rp.can_fetch(useragent=\"*\", url =\"https://www.cnn.com/sitemap.xml\")\n",
    "\n",
    "\n",
    "# import urllib.robotparser:\n",
    "# This imports the robotparser module from the urllib package, which provides a way to parse robots.txt files used to control web crawlers.\n",
    "\n",
    "# rp = urllib.robotparser.RobotFileParser(): \n",
    "# This creates an instance of the RobotFileParser class, which will be used to parse the robots.txt file.\n",
    "\n",
    "# rp.set_url(\"https://www.reuters.com/robots.txt\"): \n",
    "# This sets the URL of the robots.txt file to be parsed.\n",
    "\n",
    "# rp.read(): \n",
    "# This reads the robots.txt file from the URL set in step 3 and parses it.\n",
    "\n",
    "# rp.can_fetch(useragent=\"*\", url =\"https://reuters.com/sitemap.xml\"): \n",
    "# This checks if the specified user agent (in this case, * which means any user agent) is allowed to fetch the specified URL (in this case, https://reuters.com/sitemap.xml) according to the rules specified in the robots.txt file.\n",
    "\n",
    "# sitemaps = rp.site_maps(): \n",
    "# This retrieves the list of sitemaps specified in the robots.txt file, if any, as a list of URLs. The site_maps method is specific to the RobotFileParser class and is used to retrieve the sitemaps specified in the Sitemap directive in the robots.txt file.\n",
    "\n",
    "# Note that the code is specifically designed to work with the robots.txt file and sitemaps for Reuters website."
   ]
  },
  {
   "cell_type": "code",
   "execution_count": 13,
   "id": "e57f773b-33b3-4732-be15-fb066365edfa",
   "metadata": {},
   "outputs": [
    {
     "data": {
      "text/plain": [
       "['https://www.cnn.com/sitemaps/cnn/index.xml',\n",
       " 'https://www.cnn.com/sitemaps/cnn/news.xml',\n",
       " 'https://www.cnn.com/sitemap/news.xml',\n",
       " 'https://www.cnn.com/sitemaps/sitemap-section.xml',\n",
       " 'https://www.cnn.com/sitemaps/sitemap-interactive.xml',\n",
       " 'https://www.cnn.com/ampstories/sitemap.xml',\n",
       " 'https://edition.cnn.com/sitemaps/news.xml',\n",
       " 'https://www.cnn.com/sitemap/article/cnn-underscored.xml',\n",
       " 'https://www.cnn.com/sitemap/section/cnn-underscored.xml',\n",
       " 'https://www.cnn.com/sitemap/section/politics.xml']"
      ]
     },
     "execution_count": 13,
     "metadata": {},
     "output_type": "execute_result"
    }
   ],
   "source": [
    "sitemaps = rp.site_maps()\n",
    "sitemaps\n",
    "\n"
   ]
  },
  {
   "cell_type": "code",
   "execution_count": 3,
   "id": "257b286d-a06f-451a-b222-32e942e111fd",
   "metadata": {},
   "outputs": [
    {
     "name": "stdout",
     "output_type": "stream",
     "text": [
      "Requirement already satisfied: xmltodict in c:\\users\\playdata\\anaconda3\\lib\\site-packages (0.13.0)\n",
      "Requirement already satisfied: requests in c:\\users\\playdata\\anaconda3\\lib\\site-packages (2.28.1)\n",
      "Requirement already satisfied: charset-normalizer<3,>=2 in c:\\users\\playdata\\anaconda3\\lib\\site-packages (from requests) (2.0.4)\n",
      "Requirement already satisfied: idna<4,>=2.5 in c:\\users\\playdata\\anaconda3\\lib\\site-packages (from requests) (3.3)\n",
      "Requirement already satisfied: certifi>=2017.4.17 in c:\\users\\playdata\\anaconda3\\lib\\site-packages (from requests) (2022.9.14)\n",
      "Requirement already satisfied: urllib3<1.27,>=1.21.1 in c:\\users\\playdata\\anaconda3\\lib\\site-packages (from requests) (1.26.11)\n"
     ]
    }
   ],
   "source": [
    "!pip install xmltodict\n",
    "!pip install requests"
   ]
  },
  {
   "cell_type": "code",
   "execution_count": 29,
   "id": "a0d5681c-81b8-498c-9584-5f15e33f06c6",
   "metadata": {},
   "outputs": [
    {
     "data": {
      "text/plain": [
       "['https://www.cnn.com/2023/03/05/asia/fire-rohingya-refugee-camp-bangladesh-intl/index.html',\n",
       " 'https://www.cnn.com/2023/03/05/entertainment/lynyrd-skynyrd-guitarist-gary-rossington-dies/index.html',\n",
       " 'https://www.cnn.com/2023/03/05/asia/ukraine-war-us-pacific-alliances-intl-hnk/index.html',\n",
       " 'https://edition.cnn.com/europe/live-news/russia-ukraine-war-news-03-06-23/index.html',\n",
       " 'https://edition.cnn.com/2023/03/06/europe/ukraine-missing-children-russia-intl-cmd/index.html',\n",
       " 'https://www.cnn.com/2023/03/06/politics/gop-2024-trump-hogan-hutchinson/index.html',\n",
       " 'https://www.cnn.com/2023/03/06/politics/trump-desantis-2024-showdown/index.html',\n",
       " 'https://edition.cnn.com/2023/03/06/europe/russia-ukraine-bakhmut-analysis-intl/index.html',\n",
       " 'https://www.cnn.com/2023/03/04/economy/china-two-sessions-gdp-growth-target-military-spending-intl-hnk/index.html',\n",
       " 'https://www.cnn.com/2023/03/04/world/un-oceans-treaty-biodiversity-climate-intl/index.html',\n",
       " 'https://www.cnn.com/2023/03/04/us/woman-missing-for-30-years-found-in-puerto-rico/index.html',\n",
       " 'https://www.cnn.com/2023/03/03/media/hybe-bts-sm-entertainment-kpop-intl-hnk/index.html',\n",
       " 'https://www.cnn.com/travel/article/3-year-cruise-mv-gemini/index.html',\n",
       " 'https://edition.cnn.com/2023/03/05/uk/harry-meghan-king-charles-coronation-intl-hnk/index.html',\n",
       " 'https://www.cnn.com/2023/03/05/health/keto-low-carb-high-fat-diets-heart-disease/index.html',\n",
       " 'https://www.cnn.com/2023/03/05/americas/southwest-airlines-havana-flight-issue/index.html',\n",
       " 'https://www.cnn.com/2023/03/05/asia/mh370-malaysia-missing-plane-anniversary-search-intl-hnk/index.html',\n",
       " 'https://www.cnn.com/2023/03/05/politics/fact-check-trump-cpac/index.html',\n",
       " 'https://www.cnn.com/2023/03/05/us/georgia-house-party-shooting/index.html',\n",
       " 'https://www.cnn.com/2023/03/05/politics/joe-biden-selma-bloody-sunday/index.html',\n",
       " 'https://www.cnn.com/2023/03/05/cnn10/ten-content-mon/index.html',\n",
       " 'https://www.cnn.com/2023/03/05/politics/pete-buttigieg-ohio-train-derailment/index.html',\n",
       " 'https://www.cnn.com/2023/03/05/opinions/chris-rock-oscars-slap-netflix-special-obeidallah/index.html',\n",
       " 'https://edition.cnn.com/2023/03/05/sport/texas-tech-basketball-coach-suspended/index.html',\n",
       " 'https://edition.cnn.com/europe/live-news/russia-ukraine-war-news-03-05-23/index.html',\n",
       " 'https://www.cnn.com/travel/article/portugal-food/index.html',\n",
       " 'https://www.cnn.com/travel/article/culinary-journey-hangzhou-longjing-tea-river-prawn/index.html',\n",
       " 'https://www.cnn.com/travel/article/chef-fools-diners-taste-test/index.html',\n",
       " 'https://www.cnn.com/travel/article/europes-best-food-festivals/index.html',\n",
       " 'https://www.cnn.com/2015/10/02/foodanddrink/whats-on-the-menu-callout-cnn-food/index.html',\n",
       " 'https://www.cnn.com/travel/article/asia-food-trends/index.html',\n",
       " 'https://www.cnn.com/travel/article/10-argentina-dishes/index.html',\n",
       " 'https://www.cnn.com/travel/article/san-sebastian-food/index.html',\n",
       " 'https://www.cnn.com/travel/article/2016-world-best-restaurant-awards/index.html',\n",
       " 'https://www.cnn.com/travel/article/best-condiments/index.html',\n",
       " 'https://www.cnn.com/travel/article/brussels-food-truck-festival-2016/index.html',\n",
       " 'https://www.cnn.com/travel/article/world-national-cakes/index.html',\n",
       " 'https://www.cnn.com/travel/article/breakfast-ideas-simple-easy/index.html',\n",
       " 'https://www.cnn.com/travel/article/cnn-food-fish-dish/index.html',\n",
       " 'https://www.cnn.com/travel/article/cnn-food-dessert-challenge/index.html',\n",
       " 'https://www.cnn.com/travel/article/oyster-safari-denmark/index.html',\n",
       " 'https://www.cnn.com/travel/article/cape-malay-cuisine-south-africa/index.html',\n",
       " 'https://www.cnn.com/travel/article/braai-south-africa-barbecue/index.html',\n",
       " 'https://www.cnn.com/travel/article/cnn-food-challenge-lunch/index.html',\n",
       " 'https://www.cnn.com/travel/article/cnn-food-challenge-vegetarian-results/index.html',\n",
       " 'https://www.cnn.com/travel/article/cnnfood-challenge-rice-results/index.html',\n",
       " 'https://www.cnn.com/2023/03/05/us/nyc-bronx-lithium-battery-fire/index.html',\n",
       " 'https://www.cnn.com/travel/article/new-york-sandwiches/index.html',\n",
       " 'https://www.cnn.com/2023/03/05/investing/fed-mary-daly-speech/index.html',\n",
       " 'https://www.cnn.com/2023/03/05/us/reticulated-python-discovered-new-york-trnd/index.html',\n",
       " 'https://www.cnn.com/2023/03/05/politics/eric-adams-lori-lightfoot-crime-cnntv/index.html',\n",
       " 'https://edition.cnn.com/2023/03/05/football/liverpool-manchester-united-premier-league-spt-intl/index.html',\n",
       " 'https://www.cnn.com/2023/03/05/economy/funko-pops-inventory/index.html',\n",
       " 'https://edition.cnn.com/2023/03/04/sport/jake-gyllenhaal-weigh-in-ufc-285-spt-intl/index.html',\n",
       " 'https://www.cnn.com/2023/03/05/us/california-gun-buyback-area-shooting/index.html',\n",
       " 'https://www.cnn.com/2023/03/05/us/willow-project-tiktok-petition-movement-climate/index.html',\n",
       " 'https://www.cnn.com/2023/03/05/media/kasie-hunt-baby-grey/index.html',\n",
       " 'https://www.cnn.com/2023/03/04/entertainment/chris-rock-netflix-live-special/index.html',\n",
       " 'https://www.cnn.com/2023/03/05/politics/jill-biden-nikki-haley-mental-test/index.html',\n",
       " 'https://www.cnn.com/2023/03/05/us/jimmy-carter-evangelicals-blake-cec/index.html',\n",
       " 'https://www.cnn.com/2023/03/05/politics/larry-hogan-republican-president-2024/index.html',\n",
       " 'https://www.cnn.com/travel/article/turbulence-jet-death/index.html',\n",
       " 'https://www.cnn.com/2023/03/05/entertainment/rachael-ray-talk-show-ending-trnd/index.html',\n",
       " 'https://edition.cnn.com/2023/03/05/motorsport/max-verstappen-bahrain-grand-prix-spt-intl/index.html',\n",
       " 'https://www.cnn.com/2023/03/05/politics/mark-milley-syria-isis-us-forces/index.html',\n",
       " 'https://www.cnn.com/2023/03/05/entertainment/travis-kelce-jason-kelce-saturday-night-live/index.html',\n",
       " 'https://www.cnn.com/2023/03/05/politics/hakeem-jeffries-dc-crime-law-cnntv/index.html',\n",
       " 'https://www.cnn.com/2023/03/05/politics/asa-hutchinson-republican-president-2024-cnntv/index.html',\n",
       " 'https://www.cnn.com/2023/03/05/us/maurice-hastings-wrongful-conviction-trnd/index.html',\n",
       " 'https://edition.cnn.com/2023/03/05/europe/greek-prime-minister-apologizes-intl/index.html',\n",
       " 'https://www.cnn.com/2023/03/03/politics/joe-biden-dc-crime-bill/index.html',\n",
       " 'https://www.cnn.com/2023/03/05/opinions/trump-desantis-republican-rivals-opinion-column-galant/index.html',\n",
       " 'https://www.cnn.com/2023/03/05/health/resilience-claire-bridges-model-covid-wellness/index.html',\n",
       " 'https://www.cnn.com/2023/03/05/us/five-things-march-5-trnd/index.html',\n",
       " 'https://www.cnn.com/2023/03/05/entertainment/cnn-choice-awards-movies-cec/index.html',\n",
       " 'https://edition.cnn.com/2023/03/05/sport/jon-jones-ufc-heavyweight-champion-spt-intl/index.html',\n",
       " 'https://www.cnn.com/2023/03/05/politics/biden-student-loan-forgiveness-scotus/index.html',\n",
       " 'https://www.cnn.com/2023/03/05/investing/stocks-week-ahead/index.html',\n",
       " 'https://www.cnn.com/2023/03/04/politics/kellyanne-george-conway-divorce/index.html',\n",
       " 'https://www.cnn.com/2023/03/04/us/clark-county-norfolk-southern-train-derailment/index.html',\n",
       " 'https://edition.cnn.com/2023/03/04/sport/ja-morant-gun-nba-instagram-trnd/index.html',\n",
       " 'https://edition.cnn.com/2023/03/05/europe/turkey-finland-sweden-nato-membership-intl-cmd/index.html',\n",
       " 'https://www.cnn.com/travel/article/least-visited-us-national-parks-2022/index.html',\n",
       " 'https://www.cnn.com/2023/03/05/us/alex-murdaugh-risky-decision-testify/index.html',\n",
       " 'https://www.cnn.com/2023/03/03/asia/south-korea-prime-minister-han-duck-soo-intl-hnk/index.html',\n",
       " 'https://www.cnn.com/2023/03/05/us/syria-turkey-earthquake-take-shelter-displaced-homeless/index.html',\n",
       " 'https://www.cnn.com/2023/03/05/asia/johor-malaysia-floods-intl-hnk/index.html',\n",
       " 'https://www.cnn.com/2023/03/05/us/mexican-gray-wolf-us-population-scn-trnd/index.html',\n",
       " 'https://www.cnn.com/2023/03/05/world/us-ukraine-f16-pilots-intl-hnk/index.html',\n",
       " 'https://www.cnn.com/2023/03/05/us/bald-eagle-hunt-nebraska-trnd/index.html',\n",
       " 'https://www.cnn.com/2023/03/04/politics/trump-cpac-speech/index.html',\n",
       " 'https://www.cnn.com/2023/03/04/middleeast/protests-iran-schoolgirls-poisoning-intl-hnk/index.html',\n",
       " 'https://www.cnn.com/2023/03/03/weather/winter-weather-us-south-tornado-storms-friday/index.html',\n",
       " 'https://www.cnn.com/2023/03/04/asia/hong-kong-murders-dismemberment-intl-hnk/index.html',\n",
       " 'https://www.cnn.com/2023/03/03/entertainment/tom-sizemore-dies/index.html',\n",
       " 'https://www.cnn.com/2023/03/03/us/ohio-train-derailment-east-palestine-friday/index.html',\n",
       " 'https://www.cnn.com/2023/03/04/world/tunisia-president-sub-saharan-african-countries/index.html',\n",
       " 'https://www.cnn.com/2023/03/02/opinions/third-party-presidential-election-spoiler-begala/index.html',\n",
       " 'https://edition.cnn.com/europe/live-news/russia-ukraine-war-news-03-04-23/index.html',\n",
       " 'https://www.cnn.com/2023/03/04/politics/tony-gonzales-censure-texas-republican-party/index.html',\n",
       " 'https://www.cnn.com/2023/03/04/us/tanker-explosion-frederick-county-maryland/index.html',\n",
       " 'https://www.cnn.com/2023/03/04/politics/nikki-haley-republican-government-spending-speech/index.html',\n",
       " 'https://www.cnn.com/2023/03/04/politics/january-6-prisoners-choir-trump/index.html',\n",
       " 'https://www.cnn.com/2023/03/04/us/ralphie-demon-dog-training-update-trnd/index.html',\n",
       " 'https://edition.cnn.com/2023/03/04/motorsport/nascar-chase-elliott-las-vegas-race/index.html',\n",
       " 'https://www.cnn.com/2023/03/04/opinions/covid-reinfection-updated-therapeutics-madad/index.html',\n",
       " 'https://www.cnn.com/travel/article/disneyland-guinness-record-jeff-reitz-cec/index.html',\n",
       " 'https://www.cnn.com/2023/03/04/business/east-palestine-derailment-single-person-rr-crew-rule/index.html',\n",
       " 'https://www.cnn.com/2023/03/01/economy/china-economic-financial-leadership-reshuffle-intl-hnk/index.html',\n",
       " 'https://www.cnn.com/2023/03/04/business/tesla-recall-model-y-bolts/index.html',\n",
       " 'https://www.cnn.com/2023/03/04/us/alex-murdaugh-paul-video-conviction/index.html',\n",
       " 'https://www.cnn.com/2023/03/04/politics/fact-check-cpac-2023/index.html',\n",
       " 'https://www.cnn.com/travel/article/bear-safety-tips-national-park-service-trnd/index.html',\n",
       " 'https://www.cnn.com/2023/03/04/politics/house-oversight-hearing-probe-hunter-biden/index.html',\n",
       " 'https://edition.cnn.com/2023/03/04/motorsport/max-verstappen-qualifying-bahrain-grand-prix-spt-intl/index.html',\n",
       " 'https://edition.cnn.com/2023/03/04/europe/russia-sergey-shoigu-ukraine-intl/index.html',\n",
       " 'https://www.cnn.com/2023/03/04/opinions/cocaine-bear-animal-movies-plot-twist-stewart/index.html',\n",
       " 'https://www.cnn.com/2023/03/04/world/brain-computers-science-newsletter-wt-scn/index.html',\n",
       " 'https://www.cnn.com/2023/03/04/business/bankman-fried-flip-phone-bail/index.html',\n",
       " 'https://edition.cnn.com/2023/03/04/sport/jon-jones-ufc-return-heavyweight-spt-intl/index.html',\n",
       " 'https://edition.cnn.com/2023/03/04/uk/king-charles-iii-coronation-oil-gbr-intl/index.html',\n",
       " 'https://www.cnn.com/style/article/rafael-vinoly-architect-dies-scli-intl/index.html',\n",
       " 'https://www.cnn.com/2023/03/04/politics/2020-election-investigation-trump-pence-testimony/index.html',\n",
       " 'https://www.cnn.com/2023/03/03/business/disneyland-zip-a-dee-doo-dah-removal/index.html',\n",
       " 'https://www.cnn.com/2023/03/04/health/bempedoic-acid-heart-statin-intolerance-study/index.html',\n",
       " 'https://www.cnn.com/2023/03/04/politics/marianne-williamson-democrat-president-biden-2024/index.html',\n",
       " 'https://www.cnn.com/2023/01/29/health/longevity-blue-zone-meals-wellness/index.html',\n",
       " 'https://www.cnn.com/style/article/aboriginal-spears-james-cook-cambridge-trnd/index.html',\n",
       " 'https://www.cnn.com/2023/03/04/entertainment/michael-b-jordan-creed-iii-corny-interview-plc/index.html',\n",
       " 'https://www.cnn.com/2023/03/04/politics/jim-jordan-fbi-employees-whistleblowers/index.html',\n",
       " 'https://www.cnn.com/2023/03/04/politics/republican-president-nomination-trump-desantis-2024/index.html',\n",
       " 'https://www.cnn.com/2023/03/04/business/boeing-ceo-pay/index.html',\n",
       " 'https://www.cnn.com/2023/03/04/politics/washington-dc-crime-bill-biden-what-matters/index.html',\n",
       " 'https://www.cnn.com/2023/03/04/us/texas-children-found-dead/index.html',\n",
       " 'https://edition.cnn.com/2023/03/04/sport/jordan-stolz-speed-skating-world-champion-spt-intl/index.html',\n",
       " 'https://edition.cnn.com/2023/03/04/sport/oleksandr-usyk-ukraine-rebuild-house-spt-intl/index.html',\n",
       " 'https://edition.cnn.com/2023/03/04/football/ronaldinho-son-joao-mendes-barcelona-academy-spt-intl/index.html',\n",
       " 'https://edition.cnn.com/2023/03/04/australia/cocaine-drug-bust-australia-us-intl/index.html',\n",
       " 'https://www.cnn.com/travel/article/travel-news-europe-etias-2024/index.html',\n",
       " 'https://www.cnn.com/2023/03/04/us/oregon-drought-water-shortages-farming-climate/index.html',\n",
       " 'https://www.cnn.com/2023/03/04/world/heinz-ketchup-boat-guy-new-boat-trnd/index.html',\n",
       " 'https://www.cnn.com/2023/03/04/tech/taiwan-foxconn-india-hnk-intl/index.html',\n",
       " 'https://www.cnn.com/2023/03/04/americas/colombia-cocaine-hippos-pablo-escobar-india-mexico-intl-hnk/index.html',\n",
       " 'https://www.cnn.com/2023/03/04/us/worlds-ugliest-dog-contest-2023-trnd/index.html']"
      ]
     },
     "execution_count": 29,
     "metadata": {},
     "output_type": "execute_result"
    }
   ],
   "source": [
    "import xmltodict\n",
    "import requests\n",
    "\n",
    "\n",
    "\n",
    "# url0 = sitemaps[0]\n",
    "url = sitemaps[1]\n",
    "# url2 = sitemaps[2]\n",
    "# url3 = sitemaps[3]\n",
    "\n",
    "# url0, url1, url2, url3 = sitemaps\n",
    "# print(url0)\n",
    "# print()\n",
    "\n",
    "news = xmltodict.parse(requests.get(url).text)\n",
    "# print(news)\n",
    "list_a = [i[\"loc\"] for i in news[\"urlset\"][\"url\"]]\n",
    "list_a\n",
    "\n",
    "# print(sitemaps0['sitemapindex']['@xmlns'])\n",
    "# print()\n",
    "# print(sitemaps0['sitemapindex']['sitemap'][0][\"loc\"])\n",
    "# print()\n",
    "# list_a = [url['loc'] for url in sitemaps0['sitemapindex']['sitemap']]\n",
    "# display(list_a)"
   ]
  },
  {
   "cell_type": "code",
   "execution_count": 43,
   "id": "99e4c098-21d7-4d0a-8c53-e23490e8debc",
   "metadata": {},
   "outputs": [],
   "source": [
    "response = requests.get(list_a[0])"
   ]
  },
  {
   "cell_type": "code",
   "execution_count": null,
   "id": "e72eda5b-a967-4a1a-92f4-e56d0762c75e",
   "metadata": {},
   "outputs": [],
   "source": [
    "urls = xmltodict.parse(response.text)\n",
    "\n",
    "# urls['urlset']['@xmlns']\n",
    "# urls['urlset']['@xmlns:image']\n",
    "urls['urlset']['url']\n",
    "\n",
    "list_b = [url['loc'] for url in urls['urlset']['url']]\n",
    "display(list_b)\n",
    "len(list_b)\n",
    "\n",
    "print(list_b[0].split(\"/\"))"
   ]
  },
  {
   "cell_type": "code",
   "execution_count": 65,
   "id": "62dbc0aa-ffd9-4190-94e6-087f8d74e2b6",
   "metadata": {},
   "outputs": [
    {
     "ename": "FileNotFoundError",
     "evalue": "[Errno 2] No such file or directory: 'datas/battery-start-up-freyr-accelerates-us-plans-ira-support-2023-03-01.html'",
     "output_type": "error",
     "traceback": [
      "\u001b[1;31m---------------------------------------------------------------------------\u001b[0m",
      "\u001b[1;31mFileNotFoundError\u001b[0m                         Traceback (most recent call last)",
      "Cell \u001b[1;32mIn[65], line 16\u001b[0m\n\u001b[0;32m     14\u001b[0m response \u001b[39m=\u001b[39m session\u001b[39m.\u001b[39mget(url)\n\u001b[0;32m     15\u001b[0m \u001b[39mif\u001b[39;00m response\u001b[39m.\u001b[39mok:\n\u001b[1;32m---> 16\u001b[0m     \u001b[39mwith\u001b[39;00m \u001b[39mopen\u001b[39;49m(\u001b[39m\"\u001b[39;49m\u001b[39mdatas/\u001b[39;49m\u001b[39m\"\u001b[39;49m \u001b[39m+\u001b[39;49m file, \u001b[39m\"\u001b[39;49m\u001b[39mw+b\u001b[39;49m\u001b[39m\"\u001b[39;49m) \u001b[39mas\u001b[39;00m f:\n\u001b[0;32m     17\u001b[0m         f\u001b[39m.\u001b[39mwrite(response\u001b[39m.\u001b[39mtext\u001b[39m.\u001b[39mencode(\u001b[39m'\u001b[39m\u001b[39mutf-8\u001b[39m\u001b[39m'\u001b[39m))      \n\u001b[0;32m     18\u001b[0m \u001b[39melse\u001b[39;00m:\n",
      "File \u001b[1;32m~\\AppData\\Roaming\\Python\\Python311\\site-packages\\IPython\\core\\interactiveshell.py:282\u001b[0m, in \u001b[0;36m_modified_open\u001b[1;34m(file, *args, **kwargs)\u001b[0m\n\u001b[0;32m    275\u001b[0m \u001b[39mif\u001b[39;00m file \u001b[39min\u001b[39;00m {\u001b[39m0\u001b[39m, \u001b[39m1\u001b[39m, \u001b[39m2\u001b[39m}:\n\u001b[0;32m    276\u001b[0m     \u001b[39mraise\u001b[39;00m \u001b[39mValueError\u001b[39;00m(\n\u001b[0;32m    277\u001b[0m         \u001b[39mf\u001b[39m\u001b[39m\"\u001b[39m\u001b[39mIPython won\u001b[39m\u001b[39m'\u001b[39m\u001b[39mt let you open fd=\u001b[39m\u001b[39m{\u001b[39;00mfile\u001b[39m}\u001b[39;00m\u001b[39m by default \u001b[39m\u001b[39m\"\u001b[39m\n\u001b[0;32m    278\u001b[0m         \u001b[39m\"\u001b[39m\u001b[39mas it is likely to crash IPython. If you know what you are doing, \u001b[39m\u001b[39m\"\u001b[39m\n\u001b[0;32m    279\u001b[0m         \u001b[39m\"\u001b[39m\u001b[39myou can use builtins\u001b[39m\u001b[39m'\u001b[39m\u001b[39m open.\u001b[39m\u001b[39m\"\u001b[39m\n\u001b[0;32m    280\u001b[0m     )\n\u001b[1;32m--> 282\u001b[0m \u001b[39mreturn\u001b[39;00m io_open(file, \u001b[39m*\u001b[39;49margs, \u001b[39m*\u001b[39;49m\u001b[39m*\u001b[39;49mkwargs)\n",
      "\u001b[1;31mFileNotFoundError\u001b[0m: [Errno 2] No such file or directory: 'datas/battery-start-up-freyr-accelerates-us-plans-ira-support-2023-03-01.html'"
     ]
    }
   ],
   "source": [
    "# 지금까지는 Url을 추출한거고, 이제는 다운로드받는 것임\n",
    "\n",
    "# %%time\n",
    "# session 추상화\n",
    "session = requests.Session()\n",
    "# This creates a new Session object from the requests module. \n",
    "# A Session object is a way to persist certain parameters across multiple requests, such as cookies, headers, and authentication.\n",
    "\n",
    "#앞의 5개의 링크만 가져와봅시다. \n",
    "for url in list_b[:5]:\n",
    "    file = url.split(\"/\")[-2] + '.html' \n",
    "    #This creates a filename for the downloaded HTML file by taking the second-to-last component of the URL path and adding a .html extension\n",
    "    \n",
    "    response = session.get(url)\n",
    "    if response.ok:\n",
    "        with open(\"datas/\" + file, \"w+b\") as f:\n",
    "            f.write(response.text.encode('utf-8'))      \n",
    "    else:\n",
    "        print(f\"error with URL: {url}\")"
   ]
  },
  {
   "cell_type": "code",
   "execution_count": null,
   "id": "4ab213c5-b1b0-45b1-a274-a0689fde9dfc",
   "metadata": {},
   "outputs": [
    {
     "name": "stdout",
     "output_type": "stream",
     "text": [
      "england-captain-stokes-has-no-regrets-over-follow-on-2023-02-28\n"
     ]
    }
   ],
   "source": [
    "a = 'https://www.reuters.com/lifestyle/sports/england-captain-stokes-has-no-regrets-over-follow-on-2023-02-28/'\n",
    "\n",
    "print(a.split(\"/\")[-2])"
   ]
  },
  {
   "cell_type": "code",
   "execution_count": null,
   "id": "c3d7f9e0-68fb-4f68-946d-bf6488905147",
   "metadata": {},
   "outputs": [],
   "source": [
    "# filename.txt 파일을 쓰기 모드(w)로 열기\n",
    "# open() 함수는 파일 객체 반환\n",
    "file = open('filename.txt', 'w', encoding=\"utf-8\") #파일의 경로를 지정한 것이다. \n",
    "# 파일 객체의 write() 메서드를 통해 문자열을 파일에 작성 가능\n",
    "file.write(\"헤헤\")\n",
    "# 파일에 대한 처리가 끝났다면 반드시 파일 객체를 닫아줘야 한다.\n",
    "file.close()"
   ]
  },
  {
   "cell_type": "code",
   "execution_count": null,
   "id": "e149ffdd-bf04-422f-8aba-47d09b5ed2ee",
   "metadata": {},
   "outputs": [
    {
     "name": "stdout",
     "output_type": "stream",
     "text": [
      "헤헤\n"
     ]
    }
   ],
   "source": [
    "with open('filename.txt', 'r', encoding=\"utf-8\") as file:\n",
    "    print(file.read())"
   ]
  },
  {
   "cell_type": "code",
   "execution_count": null,
   "id": "c48a590c-9d7a-4b5b-9892-dd43b681a0e9",
   "metadata": {},
   "outputs": [
    {
     "data": {
      "text/plain": [
       "['./datas/england-captain-stokes-has-no-regrets-over-follow-on-2023-02-28.html',\n",
       " './datas/global-markets-view-europe-2023-02-28.html',\n",
       " './datas/home-zara-fast-slow-fashion-collide-2023-02-28.html',\n",
       " './datas/indias-adani-plans-repay-up-790-mln-share-backed-loans-by-march-sources-2023-02-28.html',\n",
       " './datas/smith-says-australia-batsmen-will-ditch-risky-tempo-third-test-2023-02-28.html']"
      ]
     },
     "execution_count": 100,
     "metadata": {},
     "output_type": "execute_result"
    }
   ],
   "source": [
    "import os\n",
    "path = './datas/'\n",
    "files = [path + file for file in os.listdir(path)]\n",
    "files"
   ]
  },
  {
   "cell_type": "code",
   "execution_count": null,
   "id": "d58a7a92-46e5-47e9-8ba3-28b286f45200",
   "metadata": {},
   "outputs": [],
   "source": [
    "with open(files[2], \"r\", encoding=\"utf-8\") as f:\n",
    "    html = f.read()\n",
    "    print(html)"
   ]
  },
  {
   "cell_type": "code",
   "execution_count": null,
   "id": "1059354e-a061-4ab6-9919-e6ef378a3ed7",
   "metadata": {},
   "outputs": [
    {
     "name": "stdout",
     "output_type": "stream",
     "text": [
      "A CORUNA, Spain/LONDON, Feb 28 (Reuters) - In Spain's A Coruna, two contrasting fashion business models collide - pitching the growing demands for the clothing industry to become more sustainable against the constant need to drive sales.\n"
     ]
    }
   ],
   "source": [
    "from bs4 import BeautifulSoup\n",
    "soup = BeautifulSoup(html, 'html.parser')\n",
    "title = soup.select_one(\"\")\n",
    "print(title.text)"
   ]
  },
  {
   "cell_type": "code",
   "execution_count": null,
   "id": "7c2151f7-89a2-4e33-97fb-a644bada114a",
   "metadata": {},
   "outputs": [],
   "source": []
  }
 ],
 "metadata": {
  "kernelspec": {
   "display_name": "Python 3 (ipykernel)",
   "language": "python",
   "name": "python3"
  },
  "language_info": {
   "codemirror_mode": {
    "name": "ipython",
    "version": 3
   },
   "file_extension": ".py",
   "mimetype": "text/x-python",
   "name": "python",
   "nbconvert_exporter": "python",
   "pygments_lexer": "ipython3",
   "version": "3.9.13"
  },
  "vscode": {
   "interpreter": {
    "hash": "58496957f9930441dc88e018ce02f2bb61c64ca08581fc9f8af5f5688906fe1d"
   }
  }
 },
 "nbformat": 4,
 "nbformat_minor": 5
}

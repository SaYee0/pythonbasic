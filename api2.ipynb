{
 "cells": [
  {
   "cell_type": "code",
   "execution_count": 4,
   "id": "de58fc0b-00b8-43c1-baac-35ac741d31cc",
   "metadata": {},
   "outputs": [
    {
     "data": {
      "text/plain": [
       "True"
      ]
     },
     "execution_count": 4,
     "metadata": {},
     "output_type": "execute_result"
    }
   ],
   "source": [
    "import urllib.robotparser\n",
    "rp = urllib.robotparser.RobotFileParser()\n",
    "rp.set_url(\"https://www.reuters.com/robots.txt\")\n",
    "rp.read()\n",
    "\n",
    "rp.can_fetch(useragent=\"*\", url =\"https://reuters.com/sitemap.xml\")"
   ]
  },
  {
   "cell_type": "code",
   "execution_count": 5,
   "id": "e57f773b-33b3-4732-be15-fb066365edfa",
   "metadata": {},
   "outputs": [
    {
     "data": {
      "text/plain": [
       "['https://www.reuters.com/arc/outboundfeeds/sitemap-index/?outputType=xml',\n",
       " 'https://www.reuters.com/arc/outboundfeeds/news-sitemap-index/?outputType=xml',\n",
       " 'https://www.reuters.com/sitemap_video_index.xml',\n",
       " 'https://www.reuters.com/brandfeature/sitemap']"
      ]
     },
     "execution_count": 5,
     "metadata": {},
     "output_type": "execute_result"
    }
   ],
   "source": [
    "sitemaps = rp.site_maps()\n",
    "sitemaps"
   ]
  },
  {
   "cell_type": "code",
   "execution_count": 6,
   "id": "257b286d-a06f-451a-b222-32e942e111fd",
   "metadata": {},
   "outputs": [
    {
     "name": "stdout",
     "output_type": "stream",
     "text": [
      "Collecting xmltodict\n",
      "  Downloading xmltodict-0.13.0-py2.py3-none-any.whl (10.0 kB)\n",
      "Installing collected packages: xmltodict\n",
      "Successfully installed xmltodict-0.13.0\n"
     ]
    }
   ],
   "source": [
    "!pip install xmltodict"
   ]
  },
  {
   "cell_type": "code",
   "execution_count": 7,
   "id": "a0d5681c-81b8-498c-9584-5f15e33f06c6",
   "metadata": {},
   "outputs": [],
   "source": [
    "import xmltodict\n",
    "import requests\n",
    "\n",
    "url = sitemaps[0]\n",
    "sitemaps = xmltodict.parse(requests.get(url).text)"
   ]
  },
  {
   "cell_type": "code",
   "execution_count": null,
   "id": "8c867c0b-5510-49dd-9303-c29b36c9427c",
   "metadata": {},
   "outputs": [],
   "source": [
    "sitemaps['sitemapindex'].keys()\n",
    "sitemaps['sitemapindex']['sitemap']\n",
    "\n",
    "\n",
    "\n",
    "\n",
    "\n",
    "\n",
    "# sitemaps['sitemapindex']['sitemap'][0]\n",
    "\n",
    "# sitemaps['sitemapindex']['sitemap'][0]['loc']\n",
    "\n",
    "\n",
    "# list_a = [i['loc'] for i in sitemaps['sitemapindex']['sitemap']]\n"
   ]
  },
  {
   "cell_type": "code",
   "execution_count": null,
   "id": "bb1a4f9d-e99e-4a77-985a-0cd4a028e8c5",
   "metadata": {},
   "outputs": [],
   "source": [
    "list_a = [i['loc'] for i in sitemaps['sitemapindex']['sitemap']]\n",
    "display(list_a) #print가 아니라 display로 써야 이쁘게 나온다.\n",
    "\n"
   ]
  },
  {
   "cell_type": "code",
   "execution_count": 43,
   "id": "99e4c098-21d7-4d0a-8c53-e23490e8debc",
   "metadata": {},
   "outputs": [],
   "source": [
    "response = requests.get(list_a[0])"
   ]
  },
  {
   "cell_type": "code",
   "execution_count": 44,
   "id": "e72eda5b-a967-4a1a-92f4-e56d0762c75e",
   "metadata": {},
   "outputs": [],
   "source": [
    "urls = xmltodict.parse(response.text)"
   ]
  },
  {
   "cell_type": "code",
   "execution_count": null,
   "id": "337340a8-5d37-4ff5-9369-7f6dd45c3f65",
   "metadata": {},
   "outputs": [],
   "source": [
    "urls"
   ]
  },
  {
   "cell_type": "code",
   "execution_count": null,
   "id": "ae66ed4a-509b-4e23-8e25-e1ee097902fa",
   "metadata": {},
   "outputs": [],
   "source": [
    "# urls['urlset'].keys()\n",
    "\n",
    "# urls['urlset']['url'][0].keys()\n",
    "\n",
    "\n",
    "\n",
    "news_urls =  [i['loc'] for i in urls['urlset']['url']]\n",
    "print(len(news_urls))\n",
    "print()\n",
    "display(news_urls)"
   ]
  },
  {
   "cell_type": "code",
   "execution_count": 84,
   "id": "62dbc0aa-ffd9-4190-94e6-087f8d74e2b6",
   "metadata": {},
   "outputs": [
    {
     "name": "stdout",
     "output_type": "stream",
     "text": [
      "Wall time: 1.86 s\n"
     ]
    }
   ],
   "source": [
    "%%time\n",
    "# session 추상화\n",
    "session = requests.Session()\n",
    "\n",
    "#앞의 5개의 링크만 가져와봅시다. \n",
    "for url in news_urls[:5]:\n",
    "    file = url.split(\"/\")[-2] + '.html'\n",
    "    \n",
    "    response = session.get(url)\n",
    "    if response.ok:\n",
    "        with open(\"datas/\"+file, \"w+b\") as f:\n",
    "            f.write(response.text.encode('utf-8'))      \n",
    "    else:\n",
    "        print(f\"error widh URL: {news_urls}\")"
   ]
  },
  {
   "cell_type": "code",
   "execution_count": 88,
   "id": "4ab213c5-b1b0-45b1-a274-a0689fde9dfc",
   "metadata": {},
   "outputs": [
    {
     "name": "stdout",
     "output_type": "stream",
     "text": [
      "england-captain-stokes-has-no-regrets-over-follow-on-2023-02-28\n"
     ]
    }
   ],
   "source": [
    "a = 'https://www.reuters.com/lifestyle/sports/england-captain-stokes-has-no-regrets-over-follow-on-2023-02-28/'\n",
    "\n",
    "print(a.split(\"/\")[-2])"
   ]
  },
  {
   "cell_type": "code",
   "execution_count": 97,
   "id": "c3d7f9e0-68fb-4f68-946d-bf6488905147",
   "metadata": {},
   "outputs": [],
   "source": [
    "# filename.txt 파일을 쓰기 모드(w)로 열기\n",
    "# open() 함수는 파일 객체 반환\n",
    "file = open('filename.txt', 'w', encoding=\"utf-8\") #파일의 경로를 지정한 것이다. \n",
    "# 파일 객체의 write() 메서드를 통해 문자열을 파일에 작성 가능\n",
    "file.write(\"헤헤\")\n",
    "# 파일에 대한 처리가 끝났다면 반드시 파일 객체를 닫아줘야 한다.\n",
    "file.close()"
   ]
  },
  {
   "cell_type": "code",
   "execution_count": 104,
   "id": "e149ffdd-bf04-422f-8aba-47d09b5ed2ee",
   "metadata": {},
   "outputs": [
    {
     "name": "stdout",
     "output_type": "stream",
     "text": [
      "헤헤\n"
     ]
    }
   ],
   "source": [
    "with open('filename.txt', 'r', encoding=\"utf-8\") as file:\n",
    "    print(file.read())"
   ]
  },
  {
   "cell_type": "code",
   "execution_count": 100,
   "id": "c48a590c-9d7a-4b5b-9892-dd43b681a0e9",
   "metadata": {},
   "outputs": [
    {
     "data": {
      "text/plain": [
       "['./datas/england-captain-stokes-has-no-regrets-over-follow-on-2023-02-28.html',\n",
       " './datas/global-markets-view-europe-2023-02-28.html',\n",
       " './datas/home-zara-fast-slow-fashion-collide-2023-02-28.html',\n",
       " './datas/indias-adani-plans-repay-up-790-mln-share-backed-loans-by-march-sources-2023-02-28.html',\n",
       " './datas/smith-says-australia-batsmen-will-ditch-risky-tempo-third-test-2023-02-28.html']"
      ]
     },
     "execution_count": 100,
     "metadata": {},
     "output_type": "execute_result"
    }
   ],
   "source": [
    "import os\n",
    "path = './datas/'\n",
    "files = [path + file for file in os.listdir(path)]\n",
    "files"
   ]
  },
  {
   "cell_type": "code",
   "execution_count": null,
   "id": "d58a7a92-46e5-47e9-8ba3-28b286f45200",
   "metadata": {},
   "outputs": [],
   "source": [
    "with open(files[2], \"r\", encoding=\"utf-8\") as f:\n",
    "    html = f.read()\n",
    "    print(html)"
   ]
  },
  {
   "cell_type": "code",
   "execution_count": 113,
   "id": "1059354e-a061-4ab6-9919-e6ef378a3ed7",
   "metadata": {},
   "outputs": [
    {
     "name": "stdout",
     "output_type": "stream",
     "text": [
      "A CORUNA, Spain/LONDON, Feb 28 (Reuters) - In Spain's A Coruna, two contrasting fashion business models collide - pitching the growing demands for the clothing industry to become more sustainable against the constant need to drive sales.\n"
     ]
    }
   ],
   "source": [
    "from bs4 import BeautifulSoup\n",
    "soup = BeautifulSoup(html, 'html.parser')\n",
    "title = soup.select_one(\"\")\n",
    "print(title.text)"
   ]
  },
  {
   "cell_type": "code",
   "execution_count": null,
   "id": "8865a135-e270-44bb-a86d-c1ab068fdf3c",
   "metadata": {},
   "outputs": [],
   "source": []
  }
 ],
 "metadata": {
  "kernelspec": {
   "display_name": "Python 3 (ipykernel)",
   "language": "python",
   "name": "python3"
  },
  "language_info": {
   "codemirror_mode": {
    "name": "ipython",
    "version": 3
   },
   "file_extension": ".py",
   "mimetype": "text/x-python",
   "name": "python",
   "nbconvert_exporter": "python",
   "pygments_lexer": "ipython3",
   "version": "3.9.13"
  }
 },
 "nbformat": 4,
 "nbformat_minor": 5
}

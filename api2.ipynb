{
 "cells": [
  {
   "cell_type": "code",
   "execution_count": 9,
   "id": "de58fc0b-00b8-43c1-baac-35ac741d31cc",
   "metadata": {},
   "outputs": [
    {
     "data": {
      "text/plain": [
       "['https://www.reuters.com/arc/outboundfeeds/sitemap-index/?outputType=xml',\n",
       " 'https://www.reuters.com/arc/outboundfeeds/news-sitemap-index/?outputType=xml',\n",
       " 'https://www.reuters.com/sitemap_video_index.xml',\n",
       " 'https://www.reuters.com/brandfeature/sitemap']"
      ]
     },
     "execution_count": 9,
     "metadata": {},
     "output_type": "execute_result"
    }
   ],
   "source": [
    "import urllib.robotparser\n",
    "rp = urllib.robotparser.RobotFileParser()\n",
    "rp.set_url(\"https://www.reuters.com/robots.txt\")\n",
    "rp.read()\n",
    "\n",
    "rp.can_fetch(useragent=\"*\", url =\"https://reuters.com/sitemap.xml\")\n",
    "\n",
    "\n",
    "# import urllib.robotparser:\n",
    "# This imports the robotparser module from the urllib package, which provides a way to parse robots.txt files used to control web crawlers.\n",
    "\n",
    "# rp = urllib.robotparser.RobotFileParser(): \n",
    "# This creates an instance of the RobotFileParser class, which will be used to parse the robots.txt file.\n",
    "\n",
    "# rp.set_url(\"https://www.reuters.com/robots.txt\"): \n",
    "# This sets the URL of the robots.txt file to be parsed.\n",
    "\n",
    "# rp.read(): \n",
    "# This reads the robots.txt file from the URL set in step 3 and parses it.\n",
    "\n",
    "# rp.can_fetch(useragent=\"*\", url =\"https://reuters.com/sitemap.xml\"): \n",
    "# This checks if the specified user agent (in this case, * which means any user agent) is allowed to fetch the specified URL (in this case, https://reuters.com/sitemap.xml) according to the rules specified in the robots.txt file.\n",
    "\n",
    "# sitemaps = rp.site_maps(): \n",
    "# This retrieves the list of sitemaps specified in the robots.txt file, if any, as a list of URLs. The site_maps method is specific to the RobotFileParser class and is used to retrieve the sitemaps specified in the Sitemap directive in the robots.txt file.\n",
    "\n",
    "# Note that the code is specifically designed to work with the robots.txt file and sitemaps for Reuters website."
   ]
  },
  {
   "cell_type": "code",
   "execution_count": 20,
   "id": "e57f773b-33b3-4732-be15-fb066365edfa",
   "metadata": {},
   "outputs": [
    {
     "data": {
      "text/plain": [
       "['https://www.reuters.com/arc/outboundfeeds/sitemap-index/?outputType=xml',\n",
       " 'https://www.reuters.com/arc/outboundfeeds/news-sitemap-index/?outputType=xml',\n",
       " 'https://www.reuters.com/sitemap_video_index.xml',\n",
       " 'https://www.reuters.com/brandfeature/sitemap']"
      ]
     },
     "execution_count": 20,
     "metadata": {},
     "output_type": "execute_result"
    }
   ],
   "source": [
    "sitemaps = rp.site_maps()\n",
    "sitemaps\n",
    "\n"
   ]
  },
  {
   "cell_type": "code",
   "execution_count": 15,
   "id": "257b286d-a06f-451a-b222-32e942e111fd",
   "metadata": {},
   "outputs": [
    {
     "name": "stdout",
     "output_type": "stream",
     "text": [
      "Requirement already satisfied: xmltodict in c:\\users\\say\\appdata\\local\\programs\\python\\python311\\lib\\site-packages (0.13.0)\n"
     ]
    },
    {
     "name": "stderr",
     "output_type": "stream",
     "text": [
      "\n",
      "[notice] A new release of pip available: 22.3.1 -> 23.0.1\n",
      "[notice] To update, run: python.exe -m pip install --upgrade pip\n"
     ]
    },
    {
     "name": "stdout",
     "output_type": "stream",
     "text": [
      "Collecting requests\n",
      "  Downloading requests-2.28.2-py3-none-any.whl (62 kB)\n",
      "     ---------------------------------------- 62.8/62.8 kB 3.3 MB/s eta 0:00:00\n",
      "Collecting charset-normalizer<4,>=2\n",
      "  Downloading charset_normalizer-3.0.1-cp311-cp311-win_amd64.whl (96 kB)\n",
      "     ---------------------------------------- 96.0/96.0 kB 5.7 MB/s eta 0:00:00\n",
      "Collecting idna<4,>=2.5\n",
      "  Downloading idna-3.4-py3-none-any.whl (61 kB)\n",
      "     ---------------------------------------- 61.5/61.5 kB 3.4 MB/s eta 0:00:00\n",
      "Collecting urllib3<1.27,>=1.21.1\n",
      "  Downloading urllib3-1.26.14-py2.py3-none-any.whl (140 kB)\n",
      "     -------------------------------------- 140.6/140.6 kB 8.7 MB/s eta 0:00:00\n",
      "Collecting certifi>=2017.4.17\n",
      "  Downloading certifi-2022.12.7-py3-none-any.whl (155 kB)\n",
      "     -------------------------------------- 155.3/155.3 kB 4.7 MB/s eta 0:00:00\n",
      "Installing collected packages: charset-normalizer, urllib3, idna, certifi, requests\n",
      "Successfully installed certifi-2022.12.7 charset-normalizer-3.0.1 idna-3.4 requests-2.28.2 urllib3-1.26.14\n"
     ]
    },
    {
     "name": "stderr",
     "output_type": "stream",
     "text": [
      "\n",
      "[notice] A new release of pip available: 22.3.1 -> 23.0.1\n",
      "[notice] To update, run: python.exe -m pip install --upgrade pip\n"
     ]
    }
   ],
   "source": [
    "!pip install xmltodict\n",
    "!pip install requests"
   ]
  },
  {
   "cell_type": "code",
   "execution_count": 66,
   "id": "a0d5681c-81b8-498c-9584-5f15e33f06c6",
   "metadata": {},
   "outputs": [
    {
     "name": "stdout",
     "output_type": "stream",
     "text": [
      "https://www.reuters.com/arc/outboundfeeds/sitemap-index/?outputType=xml\n",
      "\n",
      "http://www.sitemaps.org/schemas/sitemap/0.9\n",
      "\n",
      "https://www.reuters.com/arc/outboundfeeds/sitemap/?outputType=xml\n",
      "\n"
     ]
    },
    {
     "data": {
      "text/plain": [
       "['https://www.reuters.com/arc/outboundfeeds/sitemap/?outputType=xml',\n",
       " 'https://www.reuters.com/arc/outboundfeeds/sitemap/?outputType=xml&from=100',\n",
       " 'https://www.reuters.com/arc/outboundfeeds/sitemap/?outputType=xml&from=200',\n",
       " 'https://www.reuters.com/arc/outboundfeeds/sitemap/?outputType=xml&from=300',\n",
       " 'https://www.reuters.com/arc/outboundfeeds/sitemap/?outputType=xml&from=400',\n",
       " 'https://www.reuters.com/arc/outboundfeeds/sitemap/?outputType=xml&from=500',\n",
       " 'https://www.reuters.com/arc/outboundfeeds/sitemap/?outputType=xml&from=600',\n",
       " 'https://www.reuters.com/arc/outboundfeeds/sitemap/?outputType=xml&from=700',\n",
       " 'https://www.reuters.com/arc/outboundfeeds/sitemap/?outputType=xml&from=800',\n",
       " 'https://www.reuters.com/arc/outboundfeeds/sitemap/?outputType=xml&from=900',\n",
       " 'https://www.reuters.com/arc/outboundfeeds/sitemap/?outputType=xml&from=1000',\n",
       " 'https://www.reuters.com/arc/outboundfeeds/sitemap/?outputType=xml&from=1100',\n",
       " 'https://www.reuters.com/arc/outboundfeeds/sitemap/?outputType=xml&from=1200',\n",
       " 'https://www.reuters.com/arc/outboundfeeds/sitemap/?outputType=xml&from=1300',\n",
       " 'https://www.reuters.com/arc/outboundfeeds/sitemap/?outputType=xml&from=1400',\n",
       " 'https://www.reuters.com/arc/outboundfeeds/sitemap/?outputType=xml&from=1500',\n",
       " 'https://www.reuters.com/arc/outboundfeeds/sitemap/?outputType=xml&from=1600',\n",
       " 'https://www.reuters.com/arc/outboundfeeds/sitemap/?outputType=xml&from=1700',\n",
       " 'https://www.reuters.com/arc/outboundfeeds/sitemap/?outputType=xml&from=1800',\n",
       " 'https://www.reuters.com/arc/outboundfeeds/sitemap/?outputType=xml&from=1900',\n",
       " 'https://www.reuters.com/arc/outboundfeeds/sitemap/?outputType=xml&from=2000',\n",
       " 'https://www.reuters.com/arc/outboundfeeds/sitemap/?outputType=xml&from=2100',\n",
       " 'https://www.reuters.com/arc/outboundfeeds/sitemap/?outputType=xml&from=2200',\n",
       " 'https://www.reuters.com/arc/outboundfeeds/sitemap/?outputType=xml&from=2300',\n",
       " 'https://www.reuters.com/arc/outboundfeeds/sitemap/?outputType=xml&from=2400',\n",
       " 'https://www.reuters.com/arc/outboundfeeds/sitemap/?outputType=xml&from=2500',\n",
       " 'https://www.reuters.com/arc/outboundfeeds/sitemap/?outputType=xml&from=2600',\n",
       " 'https://www.reuters.com/arc/outboundfeeds/sitemap/?outputType=xml&from=2700',\n",
       " 'https://www.reuters.com/arc/outboundfeeds/sitemap/?outputType=xml&from=2800',\n",
       " 'https://www.reuters.com/arc/outboundfeeds/sitemap/?outputType=xml&from=2900',\n",
       " 'https://www.reuters.com/arc/outboundfeeds/sitemap/?outputType=xml&from=3000',\n",
       " 'https://www.reuters.com/arc/outboundfeeds/sitemap/?outputType=xml&from=3100',\n",
       " 'https://www.reuters.com/arc/outboundfeeds/sitemap/?outputType=xml&from=3200',\n",
       " 'https://www.reuters.com/arc/outboundfeeds/sitemap/?outputType=xml&from=3300',\n",
       " 'https://www.reuters.com/arc/outboundfeeds/sitemap/?outputType=xml&from=3400',\n",
       " 'https://www.reuters.com/arc/outboundfeeds/sitemap/?outputType=xml&from=3500',\n",
       " 'https://www.reuters.com/arc/outboundfeeds/sitemap/?outputType=xml&from=3600',\n",
       " 'https://www.reuters.com/arc/outboundfeeds/sitemap/?outputType=xml&from=3700',\n",
       " 'https://www.reuters.com/arc/outboundfeeds/sitemap/?outputType=xml&from=3800',\n",
       " 'https://www.reuters.com/arc/outboundfeeds/sitemap/?outputType=xml&from=3900',\n",
       " 'https://www.reuters.com/arc/outboundfeeds/sitemap/?outputType=xml&from=4000',\n",
       " 'https://www.reuters.com/arc/outboundfeeds/sitemap/?outputType=xml&from=4100',\n",
       " 'https://www.reuters.com/arc/outboundfeeds/sitemap/?outputType=xml&from=4200',\n",
       " 'https://www.reuters.com/arc/outboundfeeds/sitemap/?outputType=xml&from=4300',\n",
       " 'https://www.reuters.com/arc/outboundfeeds/sitemap/?outputType=xml&from=4400',\n",
       " 'https://www.reuters.com/arc/outboundfeeds/sitemap/?outputType=xml&from=4500',\n",
       " 'https://www.reuters.com/arc/outboundfeeds/sitemap/?outputType=xml&from=4600',\n",
       " 'https://www.reuters.com/arc/outboundfeeds/sitemap/?outputType=xml&from=4700',\n",
       " 'https://www.reuters.com/arc/outboundfeeds/sitemap/?outputType=xml&from=4800',\n",
       " 'https://www.reuters.com/arc/outboundfeeds/sitemap/?outputType=xml&from=4900',\n",
       " 'https://www.reuters.com/arc/outboundfeeds/sitemap/?outputType=xml&from=5000',\n",
       " 'https://www.reuters.com/arc/outboundfeeds/sitemap/?outputType=xml&from=5100',\n",
       " 'https://www.reuters.com/arc/outboundfeeds/sitemap/?outputType=xml&from=5200',\n",
       " 'https://www.reuters.com/arc/outboundfeeds/sitemap/?outputType=xml&from=5300',\n",
       " 'https://www.reuters.com/arc/outboundfeeds/sitemap/?outputType=xml&from=5400',\n",
       " 'https://www.reuters.com/arc/outboundfeeds/sitemap/?outputType=xml&from=5500',\n",
       " 'https://www.reuters.com/arc/outboundfeeds/sitemap/?outputType=xml&from=5600',\n",
       " 'https://www.reuters.com/arc/outboundfeeds/sitemap/?outputType=xml&from=5700',\n",
       " 'https://www.reuters.com/arc/outboundfeeds/sitemap/?outputType=xml&from=5800',\n",
       " 'https://www.reuters.com/arc/outboundfeeds/sitemap/?outputType=xml&from=5900',\n",
       " 'https://www.reuters.com/arc/outboundfeeds/sitemap/?outputType=xml&from=6000',\n",
       " 'https://www.reuters.com/arc/outboundfeeds/sitemap/?outputType=xml&from=6100',\n",
       " 'https://www.reuters.com/arc/outboundfeeds/sitemap/?outputType=xml&from=6200',\n",
       " 'https://www.reuters.com/arc/outboundfeeds/sitemap/?outputType=xml&from=6300',\n",
       " 'https://www.reuters.com/arc/outboundfeeds/sitemap/?outputType=xml&from=6400',\n",
       " 'https://www.reuters.com/arc/outboundfeeds/sitemap/?outputType=xml&from=6500',\n",
       " 'https://www.reuters.com/arc/outboundfeeds/sitemap/?outputType=xml&from=6600',\n",
       " 'https://www.reuters.com/arc/outboundfeeds/sitemap/?outputType=xml&from=6700',\n",
       " 'https://www.reuters.com/arc/outboundfeeds/sitemap/?outputType=xml&from=6800',\n",
       " 'https://www.reuters.com/arc/outboundfeeds/sitemap/?outputType=xml&from=6900',\n",
       " 'https://www.reuters.com/arc/outboundfeeds/sitemap/?outputType=xml&from=7000',\n",
       " 'https://www.reuters.com/arc/outboundfeeds/sitemap/?outputType=xml&from=7100',\n",
       " 'https://www.reuters.com/arc/outboundfeeds/sitemap/?outputType=xml&from=7200',\n",
       " 'https://www.reuters.com/arc/outboundfeeds/sitemap/?outputType=xml&from=7300',\n",
       " 'https://www.reuters.com/arc/outboundfeeds/sitemap/?outputType=xml&from=7400',\n",
       " 'https://www.reuters.com/arc/outboundfeeds/sitemap/?outputType=xml&from=7500',\n",
       " 'https://www.reuters.com/arc/outboundfeeds/sitemap/?outputType=xml&from=7600',\n",
       " 'https://www.reuters.com/arc/outboundfeeds/sitemap/?outputType=xml&from=7700',\n",
       " 'https://www.reuters.com/arc/outboundfeeds/sitemap/?outputType=xml&from=7800',\n",
       " 'https://www.reuters.com/arc/outboundfeeds/sitemap/?outputType=xml&from=7900',\n",
       " 'https://www.reuters.com/arc/outboundfeeds/sitemap/?outputType=xml&from=8000',\n",
       " 'https://www.reuters.com/arc/outboundfeeds/sitemap/?outputType=xml&from=8100',\n",
       " 'https://www.reuters.com/arc/outboundfeeds/sitemap/?outputType=xml&from=8200',\n",
       " 'https://www.reuters.com/arc/outboundfeeds/sitemap/?outputType=xml&from=8300',\n",
       " 'https://www.reuters.com/arc/outboundfeeds/sitemap/?outputType=xml&from=8400',\n",
       " 'https://www.reuters.com/arc/outboundfeeds/sitemap/?outputType=xml&from=8500',\n",
       " 'https://www.reuters.com/arc/outboundfeeds/sitemap/?outputType=xml&from=8600',\n",
       " 'https://www.reuters.com/arc/outboundfeeds/sitemap/?outputType=xml&from=8700',\n",
       " 'https://www.reuters.com/arc/outboundfeeds/sitemap/?outputType=xml&from=8800',\n",
       " 'https://www.reuters.com/arc/outboundfeeds/sitemap/?outputType=xml&from=8900',\n",
       " 'https://www.reuters.com/arc/outboundfeeds/sitemap/?outputType=xml&from=9000',\n",
       " 'https://www.reuters.com/arc/outboundfeeds/sitemap/?outputType=xml&from=9100',\n",
       " 'https://www.reuters.com/arc/outboundfeeds/sitemap/?outputType=xml&from=9200',\n",
       " 'https://www.reuters.com/arc/outboundfeeds/sitemap/?outputType=xml&from=9300',\n",
       " 'https://www.reuters.com/arc/outboundfeeds/sitemap/?outputType=xml&from=9400',\n",
       " 'https://www.reuters.com/arc/outboundfeeds/sitemap/?outputType=xml&from=9500',\n",
       " 'https://www.reuters.com/arc/outboundfeeds/sitemap/?outputType=xml&from=9600',\n",
       " 'https://www.reuters.com/arc/outboundfeeds/sitemap/?outputType=xml&from=9700',\n",
       " 'https://www.reuters.com/arc/outboundfeeds/sitemap/?outputType=xml&from=9800',\n",
       " 'https://www.reuters.com/arc/outboundfeeds/sitemap/?outputType=xml&from=9900']"
      ]
     },
     "metadata": {},
     "output_type": "display_data"
    }
   ],
   "source": [
    "import xmltodict\n",
    "import requests\n",
    "\n",
    "# url0 = sitemaps[0]\n",
    "# url1 = sitemaps[1]\n",
    "# url2 = sitemaps[2]\n",
    "# url3 = sitemaps[3]\n",
    "\n",
    "url0, url1, url2, url3 = sitemaps\n",
    "print(url0)\n",
    "print()\n",
    "\n",
    "sitemaps0 = xmltodict.parse(requests.get(url0).text)\n",
    "# print(sitemaps0)\n",
    "\n",
    "print(sitemaps0['sitemapindex']['@xmlns'])\n",
    "print()\n",
    "print(sitemaps0['sitemapindex']['sitemap'][0][\"loc\"])\n",
    "print()\n",
    "list_a = [url['loc'] for url in sitemaps0['sitemapindex']['sitemap']]\n",
    "display(list_a)"
   ]
  },
  {
   "cell_type": "code",
   "execution_count": 43,
   "id": "99e4c098-21d7-4d0a-8c53-e23490e8debc",
   "metadata": {},
   "outputs": [],
   "source": [
    "response = requests.get(list_a[0])"
   ]
  },
  {
   "cell_type": "code",
   "execution_count": 59,
   "id": "e72eda5b-a967-4a1a-92f4-e56d0762c75e",
   "metadata": {},
   "outputs": [
    {
     "data": {
      "text/plain": [
       "['https://www.reuters.com/technology/battery-start-up-freyr-accelerates-us-plans-ira-support-2023-03-01/',\n",
       " 'https://www.reuters.com/world/us/norfolk-southern-ceo-testify-before-us-senate-panel-derailment-2023-03-01/',\n",
       " 'https://www.reuters.com/world/europe/two-trains-collide-greece-dozens-feared-injured-2023-03-01/',\n",
       " 'https://www.reuters.com/markets/deals/uk-competition-watchdog-okays-baker-hughes-altus-deal-2023-03-01/',\n",
       " 'https://www.reuters.com/business/energy/pipeline-operator-enbridge-invest-24-bln-infrastructure-renewable-energy-2023-03-01/',\n",
       " 'https://www.reuters.com/markets/deals/canada-pension-plan-invest-california-oil-venture-alongside-ikav-2023-03-01/',\n",
       " 'https://www.reuters.com/business/canadian-factory-activity-rises-7-month-high-improving-demand-2023-03-01/',\n",
       " 'https://www.reuters.com/legal/legalindustry/us-homeland-security-privacy-chief-joins-ip-law-firm-finnegan-2023-03-01/',\n",
       " 'https://www.reuters.com/markets/commodities/us-epa-proposes-expanded-sales-higher-ethanol-gasoline-midwest-states-2023-03-01/',\n",
       " 'https://www.reuters.com/markets/europe/spain-slams-ferrovials-dutch-domicile-plan-ungrateful-2023-03-01/',\n",
       " 'https://www.reuters.com/business/autos-transportation/ev-startups-lucid-rivian-see-demand-fade-supply-chain-issues-linger-2023-03-01/',\n",
       " 'https://www.reuters.com/business/healthcare-pharmaceuticals/qiagen-partners-with-sophia-genetics-next-generation-sequencing-kits-2023-03-01/',\n",
       " 'https://www.reuters.com/business/finance/china-willing-play-constructive-role-debt-talks-2023-03-01/',\n",
       " 'https://www.reuters.com/business/sustainable-business/enbridge-commits-1-bln-company-turning-food-waste-energy-2023-03-01/',\n",
       " 'https://www.reuters.com/business/sustainable-business/cargill-testing-new-sail-technology-cargo-ships-cut-emissions-2023-03-01/',\n",
       " 'https://www.reuters.com/business/healthcare-pharmaceuticals/vaccine-maker-novavaxs-frankfurt-shares-plunge-26-2023-03-01/',\n",
       " 'https://www.reuters.com/lifestyle/sports/malan-guides-england-past-bangladesh-low-scoring-odi-2023-03-01/',\n",
       " 'https://www.reuters.com/lifestyle/sports/roma-coach-mourinho-given-two-game-suspension-after-seeing-red-cremonese-2023-03-01/',\n",
       " 'https://www.reuters.com/business/energy/totalenergies-buys-cepsas-upstream-assets-abu-dhabi-2023-03-01/',\n",
       " 'https://www.reuters.com/business/finance/ubs-loses-bid-stop-chinese-businessmans-500-mln-london-lawsuit-2023-03-01/',\n",
       " 'https://www.reuters.com/legal/legalindustry/law-firm-steptoe-johnson-posts-revenue-gains-more-challenging-year-2023-03-01/',\n",
       " 'https://www.reuters.com/world/asia-pacific/bears-rescued-illegal-bile-farm-vietnam-2023-03-01/',\n",
       " 'https://www.reuters.com/business/retail-consumer/higher-inflation-risks-give-russia-no-room-cut-rates-this-year-2023-03-01/',\n",
       " 'https://www.reuters.com/world/africa/botswana-mining-growth-seen-flat-amid-dim-diamond-outlook-2023-03-01/',\n",
       " 'https://www.reuters.com/business/sustainable-business/eu-should-act-quickly-question-e-fuels-combustion-engine-phaseout-german-govt-2023-03-01/',\n",
       " 'https://www.reuters.com/business/autos-transportation/siemens-spin-out-motors-drives-business-innomotics-2023-03-01/',\n",
       " 'https://www.reuters.com/world/middle-east/turkish-cenbanks-cheap-export-loan-scheme-has-reached-maximum-limit-sources-2023-03-01/',\n",
       " 'https://www.reuters.com/markets/asia/global-economy-asias-factory-activity-stalls-china-bright-spot-2023-03-01/',\n",
       " 'https://www.reuters.com/business/autos-transportation/teslas-new-mexico-plant-could-create-up-6000-jobs-foreign-ministry-official-2023-03-01/',\n",
       " 'https://www.reuters.com/world/africa/egypts-net-foreign-assets-decline-by-17-billion-january-2023-03-01/',\n",
       " 'https://www.reuters.com/world/europe/what-has-changed-pro-brexit-conservatives-question-uk-pm-sunaks-deal-2023-03-01/',\n",
       " 'https://www.reuters.com/world/europe/pope-francis-again-cuts-perks-cardinals-vatican-managers-2023-03-01/',\n",
       " 'https://www.reuters.com/business/healthcare-pharmaceuticals/reata-shares-surge-after-surprise-fda-nod-rare-disease-drug-2023-03-01/',\n",
       " 'https://www.reuters.com',\n",
       " 'https://www.reuters.com/technology/youtube-child-data-gathering-faces-uk-scrutiny-after-complaint-2023-03-01/',\n",
       " 'https://www.reuters.com/world/europe/germany-unveils-guidelines-give-foreign-policy-a-more-female-face-2023-03-01/',\n",
       " 'https://www.reuters.com/business/retail-consumer/theater-chain-amc-falls-8-worries-slower-box-office-recovery-2023-03-01/',\n",
       " 'https://www.reuters.com/world/europe/russia-will-not-rejoin-nuclear-treaty-unless-us-changes-ukraine-stance-deputy-2023-03-01/',\n",
       " 'https://www.reuters.com/breakingviews/euronext-ceo-tests-limits-ma-playbook-2023-03-01/',\n",
       " 'https://www.reuters.com/world/americas/canadians-say-trudeau-needs-tougher-response-wake-china-actions-poll-2023-03-01/',\n",
       " 'https://www.reuters.com/business/healthcare-pharmaceuticals/amplifon-expects-acquisitions-boost-revenue-after-record-full-year-results-2023-03-01/',\n",
       " 'https://www.reuters.com/markets/deals/chinas-weibo-ups-stake-inmyshow-digital-with-315-mln-acquisition-2023-03-01/',\n",
       " 'https://www.reuters.com/business/media-telecom/russian-internet-speeds-drop-hardware-shortage-research-finds-2023-03-01/',\n",
       " 'https://www.reuters.com/business/healthcare-pharmaceuticals/lilly-cut-insulin-prices-by-70-fourth-quarter-2023-03-01/',\n",
       " 'https://www.reuters.com/world/asia-pacific/crisis-hit-sri-lankas-public-workers-protest-power-tariff-tax-hikes-2023-03-01/',\n",
       " 'https://www.reuters.com/world/africa/nigerias-obi-challenge-presidential-election-result-court-2023-03-01/',\n",
       " 'https://www.reuters.com/lifestyle/sports/reals-vinicius-one-best-world-right-now-ancelotti-2023-03-01/',\n",
       " 'https://www.reuters.com/world/uk/prince-harry-meghan-lose-second-home-uk-tabloid-2023-03-01/',\n",
       " 'https://www.reuters.com/world/india/indias-bajaj-finserv-gets-regulatory-license-start-mutual-fund-business-2023-03-01/',\n",
       " 'https://www.reuters.com/world/americas/canada-home-prices-drop-12-2023-still-remain-unaffordable-many-2023-03-01/',\n",
       " 'https://www.reuters.com',\n",
       " 'https://www.reuters.com/markets/commodities/india-cheers-return-king-coal-industry-sees-buoyant-future-russell-2023-03-01/',\n",
       " 'https://www.reuters.com/world/africa/bola-tinubu-godfather-lagos-nigerias-president-elect-2023-03-01/',\n",
       " 'https://www.reuters.com/markets/europe/italy-posts-firm-growth-2022-budget-deficit-overshoots-2023-03-01/',\n",
       " 'https://www.reuters.com/markets/europe/german-finmin-lindner-must-expect-further-rises-ecb-rates-2023-03-01/',\n",
       " 'https://www.reuters.com/world/europe/greece-arrests-station-manager-over-deadly-train-collision-sources-2023-03-01/',\n",
       " 'https://www.reuters.com/markets/europe/eu-lawmakers-set-up-clash-with-member-states-over-share-trade-ban-2023-03-01/',\n",
       " 'https://www.reuters.com/lifestyle/sports/susie-wolff-run-new-all-female-f1-academy-2023-03-01/',\n",
       " 'https://www.reuters.com/markets/currencies/investors-pull-around-6-billion-out-binances-stablecoin-2023-03-01/',\n",
       " 'https://www.reuters.com/world/iaeas-grossi-visit-iran-friday-2023-03-01/',\n",
       " 'https://www.reuters.com/world/africa/egypt-use-daylight-saving-time-again-bid-save-energy-2023-03-01/',\n",
       " 'https://www.reuters.com/business/energy/petronas-clean-energy-arm-sees-india-australia-key-rapid-growth-plans-2023-03-01/',\n",
       " 'https://www.reuters.com/business/retail-consumer/abercrombie-fitch-posts-fall-quarterly-profit-2023-03-01/',\n",
       " 'https://www.reuters.com/world/americas/chiles-economic-activity-starts-2023-positive-note-2023-03-01/',\n",
       " 'https://www.reuters.com/business/retail-consumer/dollar-tree-sees-strong-annual-sales-strong-demand-discounted-items-2023-03-01/',\n",
       " 'https://www.reuters.com/lifestyle/sports/preview-motor-racing-verstappen-aiming-his-best-start-season-2023-03-01/',\n",
       " 'https://www.reuters.com/technology/us-require-companies-winning-chipmaking-subsidies-share-excess-profits-2023-02-28/',\n",
       " 'https://www.reuters.com/world/asia-pacific/london-dogs-head-thailand-sniff-out-pangolin-smugglers-2023-02-28/',\n",
       " 'https://www.reuters.com/world/blinken-has-no-plans-meet-russian-chinese-counterparts-delhi-g20-meetings-2023-03-01/',\n",
       " 'https://www.reuters.com/business/energy/enbridge-buy-us-gulf-coast-gas-storage-facility-335-million-2023-03-01/',\n",
       " 'https://www.reuters.com/technology/trump-backed-spac-digital-world-appeal-nasdaq-delisting-notice-2023-03-01/',\n",
       " 'https://www.reuters.com/world/americas/tsx-set-begin-march-with-gains-tracking-global-mood-2023-03-01/',\n",
       " 'https://www.reuters.com/world/europe/finnish-parliament-passes-nato-bill-2023-03-01/',\n",
       " 'https://www.reuters.com/world/china-work-with-belarus-promote-bilateral-relations-state-media-2023-03-01/',\n",
       " 'https://www.reuters.com/technology/turkey-fines-tiktok-175-mln-lira-weak-data-protection-measures-2023-03-01/',\n",
       " 'https://www.reuters.com/lifestyle/sports/indore-pitch-draws-criticism-after-spin-mayhem-2023-03-01/',\n",
       " 'https://www.reuters.com/business/healthcare-pharmaceuticals/eu-silence-over-pfizer-covid-contract-talks-is-problem-that-wont-go-away-2023-03-01/',\n",
       " 'https://www.reuters.com/business/bank-mexicos-mejia-says-pace-rate-hikes-could-slow-down-2023-03-01/',\n",
       " 'https://www.reuters.com/business/media-telecom/telecom-operator-veon-confirms-deal-with-british-satellite-firm-oneweb-2023-03-01/',\n",
       " 'https://www.reuters.com/markets/us/us-mortgage-interest-rates-remain-highest-level-since-november-mba-2023-03-01/',\n",
       " 'https://www.reuters.com/business/retail-consumer/kohls-misses-quarterly-comparable-sales-estimates-2023-03-01/',\n",
       " 'https://www.reuters.com/world/europe/ukraine-is-fiercely-resisting-russian-assault-bakhmut-mercenary-boss-2023-03-01/',\n",
       " 'https://www.reuters.com/markets/europe/irish-inflation-ticks-back-up-8-february-flash-estimate-2023-03-01/',\n",
       " 'https://www.reuters.com/markets/currencies/sterling-subdued-after-bailey-says-nothing-decided-future-rate-hikes-2023-03-01/',\n",
       " 'https://www.reuters.com/world/europe/soils-war-toxic-legacy-ukraines-breadbasket-2023-03-01/',\n",
       " 'https://www.reuters.com/business/finance/national-bank-canada-posts-lower-first-quarter-profit-2023-03-01/',\n",
       " 'https://www.reuters.com/world/china/condoms-cosmetics-china-sales-grow-lockdowns-end-2023-03-01/',\n",
       " 'https://www.reuters.com/world/uk/cold-weather-bad-planning-blame-uk-salad-crisis-spain-says-2023-03-01/',\n",
       " 'https://www.reuters.com/business/autos-transportation/pirelli-shareholder-accord-boosts-ma-speculation-with-brembo-analysts-say-2023-03-01/',\n",
       " 'https://www.reuters.com/breakingviews/uk-housebuilders-face-slow-painful-refurb-2023-03-01/',\n",
       " 'https://www.reuters.com/lifestyle/sports/alphatauri-f1-team-will-not-be-sold-says-tost-2023-03-01/',\n",
       " 'https://www.reuters.com/world/europe/relatives-pay-respects-toll-italy-migrant-boat-wreck-rises-67-2023-03-01/',\n",
       " 'https://www.reuters.com/business/healthcare-pharmaceuticals/fbi-director-says-china-lab-leak-likely-caused-covid-pandemic-2023-03-01/',\n",
       " 'https://www.reuters.com/business/energy/japan-promote-gas-lng-hydrogen-investment-during-g7-presidency-2023-02-28/',\n",
       " 'https://www.reuters.com/business/hedge-funds-that-did-best-2022-could-fare-worst-2023-bnp-2023-03-01/',\n",
       " 'https://www.reuters.com/podcasts/spiral-violence-occupied-west-bank-podcast-2023-03-01/',\n",
       " 'https://www.reuters.com/business/energy/germanys-gas-bill-surged-109-last-year-despite-slashed-buying-2023-03-01/',\n",
       " 'https://www.reuters.com/business/healthcare-pharmaceuticals/safrican-drugmaker-aspen-reports-15-drop-interim-profit-2023-03-01/',\n",
       " 'https://www.reuters.com/legal/can-republicans-topple-bidens-esg-investing-rule-court-2023-03-01/',\n",
       " 'https://www.reuters.com/business/energy/uaes-masdar-invest-12-bln-british-battery-storage-tech-2023-03-01/']"
      ]
     },
     "metadata": {},
     "output_type": "display_data"
    },
    {
     "name": "stdout",
     "output_type": "stream",
     "text": [
      "['https:', '', 'www.reuters.com', 'technology', 'battery-start-up-freyr-accelerates-us-plans-ira-support-2023-03-01', '']\n"
     ]
    }
   ],
   "source": [
    "urls = xmltodict.parse(response.text)\n",
    "\n",
    "# urls['urlset']['@xmlns']\n",
    "# urls['urlset']['@xmlns:image']\n",
    "urls['urlset']['url']\n",
    "\n",
    "list_b = [url['loc'] for url in urls['urlset']['url']]\n",
    "display(list_b)\n",
    "len(list_b)\n",
    "\n",
    "print(list_b[0].split(\"/\"))"
   ]
  },
  {
   "cell_type": "code",
   "execution_count": 65,
   "id": "62dbc0aa-ffd9-4190-94e6-087f8d74e2b6",
   "metadata": {},
   "outputs": [
    {
     "ename": "FileNotFoundError",
     "evalue": "[Errno 2] No such file or directory: 'datas/battery-start-up-freyr-accelerates-us-plans-ira-support-2023-03-01.html'",
     "output_type": "error",
     "traceback": [
      "\u001b[1;31m---------------------------------------------------------------------------\u001b[0m",
      "\u001b[1;31mFileNotFoundError\u001b[0m                         Traceback (most recent call last)",
      "Cell \u001b[1;32mIn[65], line 16\u001b[0m\n\u001b[0;32m     14\u001b[0m response \u001b[39m=\u001b[39m session\u001b[39m.\u001b[39mget(url)\n\u001b[0;32m     15\u001b[0m \u001b[39mif\u001b[39;00m response\u001b[39m.\u001b[39mok:\n\u001b[1;32m---> 16\u001b[0m     \u001b[39mwith\u001b[39;00m \u001b[39mopen\u001b[39;49m(\u001b[39m\"\u001b[39;49m\u001b[39mdatas/\u001b[39;49m\u001b[39m\"\u001b[39;49m \u001b[39m+\u001b[39;49m file, \u001b[39m\"\u001b[39;49m\u001b[39mw+b\u001b[39;49m\u001b[39m\"\u001b[39;49m) \u001b[39mas\u001b[39;00m f:\n\u001b[0;32m     17\u001b[0m         f\u001b[39m.\u001b[39mwrite(response\u001b[39m.\u001b[39mtext\u001b[39m.\u001b[39mencode(\u001b[39m'\u001b[39m\u001b[39mutf-8\u001b[39m\u001b[39m'\u001b[39m))      \n\u001b[0;32m     18\u001b[0m \u001b[39melse\u001b[39;00m:\n",
      "File \u001b[1;32m~\\AppData\\Roaming\\Python\\Python311\\site-packages\\IPython\\core\\interactiveshell.py:282\u001b[0m, in \u001b[0;36m_modified_open\u001b[1;34m(file, *args, **kwargs)\u001b[0m\n\u001b[0;32m    275\u001b[0m \u001b[39mif\u001b[39;00m file \u001b[39min\u001b[39;00m {\u001b[39m0\u001b[39m, \u001b[39m1\u001b[39m, \u001b[39m2\u001b[39m}:\n\u001b[0;32m    276\u001b[0m     \u001b[39mraise\u001b[39;00m \u001b[39mValueError\u001b[39;00m(\n\u001b[0;32m    277\u001b[0m         \u001b[39mf\u001b[39m\u001b[39m\"\u001b[39m\u001b[39mIPython won\u001b[39m\u001b[39m'\u001b[39m\u001b[39mt let you open fd=\u001b[39m\u001b[39m{\u001b[39;00mfile\u001b[39m}\u001b[39;00m\u001b[39m by default \u001b[39m\u001b[39m\"\u001b[39m\n\u001b[0;32m    278\u001b[0m         \u001b[39m\"\u001b[39m\u001b[39mas it is likely to crash IPython. If you know what you are doing, \u001b[39m\u001b[39m\"\u001b[39m\n\u001b[0;32m    279\u001b[0m         \u001b[39m\"\u001b[39m\u001b[39myou can use builtins\u001b[39m\u001b[39m'\u001b[39m\u001b[39m open.\u001b[39m\u001b[39m\"\u001b[39m\n\u001b[0;32m    280\u001b[0m     )\n\u001b[1;32m--> 282\u001b[0m \u001b[39mreturn\u001b[39;00m io_open(file, \u001b[39m*\u001b[39;49margs, \u001b[39m*\u001b[39;49m\u001b[39m*\u001b[39;49mkwargs)\n",
      "\u001b[1;31mFileNotFoundError\u001b[0m: [Errno 2] No such file or directory: 'datas/battery-start-up-freyr-accelerates-us-plans-ira-support-2023-03-01.html'"
     ]
    }
   ],
   "source": [
    "# 지금까지는 Url을 추출한거고, 이제는 다운로드받는 것임\n",
    "\n",
    "# %%time\n",
    "# session 추상화\n",
    "session = requests.Session()\n",
    "# This creates a new Session object from the requests module. \n",
    "# A Session object is a way to persist certain parameters across multiple requests, such as cookies, headers, and authentication.\n",
    "\n",
    "#앞의 5개의 링크만 가져와봅시다. \n",
    "for url in list_b[:5]:\n",
    "    file = url.split(\"/\")[-2] + '.html' \n",
    "    #This creates a filename for the downloaded HTML file by taking the second-to-last component of the URL path and adding a .html extension\n",
    "    \n",
    "    response = session.get(url)\n",
    "    if response.ok:\n",
    "        with open(\"datas/\" + file, \"w+b\") as f:\n",
    "            f.write(response.text.encode('utf-8'))      \n",
    "    else:\n",
    "        print(f\"error with URL: {url}\")"
   ]
  },
  {
   "cell_type": "code",
   "execution_count": null,
   "id": "4ab213c5-b1b0-45b1-a274-a0689fde9dfc",
   "metadata": {},
   "outputs": [
    {
     "name": "stdout",
     "output_type": "stream",
     "text": [
      "england-captain-stokes-has-no-regrets-over-follow-on-2023-02-28\n"
     ]
    }
   ],
   "source": [
    "a = 'https://www.reuters.com/lifestyle/sports/england-captain-stokes-has-no-regrets-over-follow-on-2023-02-28/'\n",
    "\n",
    "print(a.split(\"/\")[-2])"
   ]
  },
  {
   "cell_type": "code",
   "execution_count": null,
   "id": "c3d7f9e0-68fb-4f68-946d-bf6488905147",
   "metadata": {},
   "outputs": [],
   "source": [
    "# filename.txt 파일을 쓰기 모드(w)로 열기\n",
    "# open() 함수는 파일 객체 반환\n",
    "file = open('filename.txt', 'w', encoding=\"utf-8\") #파일의 경로를 지정한 것이다. \n",
    "# 파일 객체의 write() 메서드를 통해 문자열을 파일에 작성 가능\n",
    "file.write(\"헤헤\")\n",
    "# 파일에 대한 처리가 끝났다면 반드시 파일 객체를 닫아줘야 한다.\n",
    "file.close()"
   ]
  },
  {
   "cell_type": "code",
   "execution_count": null,
   "id": "e149ffdd-bf04-422f-8aba-47d09b5ed2ee",
   "metadata": {},
   "outputs": [
    {
     "name": "stdout",
     "output_type": "stream",
     "text": [
      "헤헤\n"
     ]
    }
   ],
   "source": [
    "with open('filename.txt', 'r', encoding=\"utf-8\") as file:\n",
    "    print(file.read())"
   ]
  },
  {
   "cell_type": "code",
   "execution_count": null,
   "id": "c48a590c-9d7a-4b5b-9892-dd43b681a0e9",
   "metadata": {},
   "outputs": [
    {
     "data": {
      "text/plain": [
       "['./datas/england-captain-stokes-has-no-regrets-over-follow-on-2023-02-28.html',\n",
       " './datas/global-markets-view-europe-2023-02-28.html',\n",
       " './datas/home-zara-fast-slow-fashion-collide-2023-02-28.html',\n",
       " './datas/indias-adani-plans-repay-up-790-mln-share-backed-loans-by-march-sources-2023-02-28.html',\n",
       " './datas/smith-says-australia-batsmen-will-ditch-risky-tempo-third-test-2023-02-28.html']"
      ]
     },
     "execution_count": 100,
     "metadata": {},
     "output_type": "execute_result"
    }
   ],
   "source": [
    "import os\n",
    "path = './datas/'\n",
    "files = [path + file for file in os.listdir(path)]\n",
    "files"
   ]
  },
  {
   "cell_type": "code",
   "execution_count": null,
   "id": "d58a7a92-46e5-47e9-8ba3-28b286f45200",
   "metadata": {},
   "outputs": [],
   "source": [
    "with open(files[2], \"r\", encoding=\"utf-8\") as f:\n",
    "    html = f.read()\n",
    "    print(html)"
   ]
  },
  {
   "cell_type": "code",
   "execution_count": null,
   "id": "1059354e-a061-4ab6-9919-e6ef378a3ed7",
   "metadata": {},
   "outputs": [
    {
     "name": "stdout",
     "output_type": "stream",
     "text": [
      "A CORUNA, Spain/LONDON, Feb 28 (Reuters) - In Spain's A Coruna, two contrasting fashion business models collide - pitching the growing demands for the clothing industry to become more sustainable against the constant need to drive sales.\n"
     ]
    }
   ],
   "source": [
    "from bs4 import BeautifulSoup\n",
    "soup = BeautifulSoup(html, 'html.parser')\n",
    "title = soup.select_one(\"\")\n",
    "print(title.text)"
   ]
  },
  {
   "cell_type": "code",
   "execution_count": null,
   "id": "8865a135-e270-44bb-a86d-c1ab068fdf3c",
   "metadata": {},
   "outputs": [],
   "source": []
  }
 ],
 "metadata": {
  "kernelspec": {
   "display_name": "Python 3",
   "language": "python",
   "name": "python3"
  },
  "language_info": {
   "codemirror_mode": {
    "name": "ipython",
    "version": 3
   },
   "file_extension": ".py",
   "mimetype": "text/x-python",
   "name": "python",
   "nbconvert_exporter": "python",
   "pygments_lexer": "ipython3",
   "version": "3.11.1"
  },
  "vscode": {
   "interpreter": {
    "hash": "58496957f9930441dc88e018ce02f2bb61c64ca08581fc9f8af5f5688906fe1d"
   }
  }
 },
 "nbformat": 4,
 "nbformat_minor": 5
}

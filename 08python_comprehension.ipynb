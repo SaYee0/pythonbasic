{
 "cells": [
  {
   "cell_type": "code",
   "execution_count": 4,
   "id": "119f4652-cd4b-48ff-a078-6f5a9c059e00",
   "metadata": {},
   "outputs": [
    {
     "name": "stdout",
     "output_type": "stream",
     "text": [
      "[1, 2, 3, 4, 5]\n",
      "[1, 4, 9, 16, 25]\n",
      "['호호', '호호', '호호', '호호', '호호']\n"
     ]
    }
   ],
   "source": [
    "# list comprehension \n",
    "# 리스트 정의법 = [표현식(expression) for 변수 in iterable]\n",
    "\n",
    "list_a = [i for i in (1,2,3,4,5)]\n",
    "print(list_a)\n",
    "\n",
    "list_b = [i ** 2 for i in list_a]\n",
    "print(list_b)\n",
    "\n",
    "list_c = [\"호호\" for i in range(5)]\n",
    "print(list_c)"
   ]
  },
  {
   "cell_type": "code",
   "execution_count": 7,
   "id": "13f3de3e-6f79-49eb-b9dc-1fb7b4790f59",
   "metadata": {},
   "outputs": [
    {
     "name": "stdout",
     "output_type": "stream",
     "text": [
      "[1, 4, 9, 16, 25, 36, 49, 64, 81]\n"
     ]
    }
   ],
   "source": [
    "result = [i**2 for i in range(1,10)]\n",
    "print(result)"
   ]
  },
  {
   "cell_type": "code",
   "execution_count": 9,
   "id": "ad4f8a06-10bf-424b-a082-c860aac959d7",
   "metadata": {},
   "outputs": [
    {
     "name": "stdout",
     "output_type": "stream",
     "text": [
      "[1, 3, 5, 7, 9]\n"
     ]
    }
   ],
   "source": [
    "result = [2*i-1 for i in range(1,6)]\n",
    "print(result)"
   ]
  },
  {
   "cell_type": "code",
   "execution_count": 19,
   "id": "bbe2ad5b-0a3f-4b10-9ae0-98b4e825a398",
   "metadata": {},
   "outputs": [
    {
     "name": "stdout",
     "output_type": "stream",
     "text": [
      "a\n",
      "26\n",
      "['a', 'b', 'c', 'd', 'e', 'f', 'g', 'h', 'i', 'j', 'k', 'l', 'm', 'n', 'o', 'p', 'q', 'r', 's', 't', 'u', 'v', 'w', 'x', 'y', 'z']\n",
      "['a', 'b', 'c', 'd', 'e', 'f', 'g', 'h', 'i', 'j', 'k', 'l', 'm', 'n', 'o', 'p', 'q', 'r', 's', 't', 'u', 'v', 'w', 'x', 'y', 'z']\n"
     ]
    }
   ],
   "source": [
    "alphabet = \"abcdefghijklmnopqrstuvwxyz\"\n",
    "print(alphabet[0])\n",
    "print(len(alphabet))\n",
    "\n",
    "a = [i for i in \"abcdefghijklmnopqrstuvwxyz\"]\n",
    "print(a)\n",
    "\n",
    "b = [alphabet[i] for i in range(len(alphabet))]\n",
    "print(b)"
   ]
  },
  {
   "cell_type": "code",
   "execution_count": 28,
   "id": "7ba069e7-1935-499c-bf66-f3bea849ae69",
   "metadata": {},
   "outputs": [
    {
     "name": "stdout",
     "output_type": "stream",
     "text": [
      "['2', '3', '4', '5', '6', '7', '8', '9', '10', 'J', 'Q', 'K', 'A']\n",
      "['2', '3', '4', '5', '6', '7', '8', '9', '10', 'J', 'Q', 'K', 'A']\n"
     ]
    }
   ],
   "source": [
    "x = \"JQKA\"\n",
    "\n",
    "a = [str(i) for i in range(2,11)]+[i for i in x]\n",
    "print(a)\n",
    "\n",
    "b = [str(i) for i in range(2,11)]\n",
    "b.extend([i for i in x])\n",
    "print(b)"
   ]
  },
  {
   "cell_type": "code",
   "execution_count": 37,
   "id": "3c4b8f0d-7b54-4c05-a7e9-bc38b0c0cf6e",
   "metadata": {},
   "outputs": [
    {
     "name": "stdout",
     "output_type": "stream",
     "text": [
      "['2', '3', '4', '5', '6', '7', '8', '9', '10', 'J', 'Q', 'K', 'A']\n",
      "[['two', '3', '4', '5', '6', '7', '8', '9', '10', 'J', 'Q', 'K', 'A'], ['two', '3', '4', '5', '6', '7', '8', '9', '10', 'J', 'Q', 'K', 'A'], ['two', '3', '4', '5', '6', '7', '8', '9', '10', 'J', 'Q', 'K', 'A'], ['two', '3', '4', '5', '6', '7', '8', '9', '10', 'J', 'Q', 'K', 'A']]\n",
      "\n",
      "list_c\n",
      " [['two', '3', '4', '5', '6', '7', '8', '9', '10', 'J', 'Q', 'K', 'A'], ['two', '3', '4', '5', '6', '7', '8', '9', '10', 'J', 'Q', 'K', 'A'], ['two', '3', '4', '5', '6', '7', '8', '9', '10', 'J', 'Q', 'K', 'A'], ['two', '3', '4', '5', '6', '7', '8', '9', '10', 'J', 'Q', 'K', 'A']]\n"
     ]
    }
   ],
   "source": [
    "x = \"JQKA\"\n",
    "\n",
    "a = [str(i) for i in range(2,11)]+[i for i in x]\n",
    "print(a)\n",
    "a[0] = \"two\"\n",
    "# 이때 오리지날 리스트에서 요소가 하나 바뀌면 그것을 사용한 모든 리스트의 값이 바뀌게 된다.\n",
    "# 그 이유는 오리지날 리스트의 주소값을 그대로 사용했기 때문이다. (=동일한 객체)\n",
    "\n",
    "b = [a,a,a,a]\n",
    "print(b)\n",
    "\n",
    "c = [a for i in range(4)]\n",
    "print(\"\\nlist_c\\n\",c)"
   ]
  },
  {
   "cell_type": "code",
   "execution_count": 41,
   "id": "c59fce95-285c-48d6-88c8-eb63b6b08434",
   "metadata": {},
   "outputs": [
    {
     "name": "stdout",
     "output_type": "stream",
     "text": [
      "2185625918208\n",
      "2185626095360\n",
      "True\n",
      "False\n"
     ]
    }
   ],
   "source": [
    "# is의 정확한 용도는 같은 객체인지 확인하는 것(= 주소가 같은지)이다.\n",
    "# 리스트를 전체 슬라이싱을 하면 주소가 달라진다. 즉 다른 객체가 되는 것이다. \n",
    "# 그래서 전체 슬라이싱을 한 리스트를 사용하면  \n",
    "# 본래 리스트가 변화하더라도 나중 리스트가 변화하지 않게 된다.\n",
    "\n",
    "old_list = list(range(10))\n",
    "new_list = old_list[:]\n",
    "\n",
    "print(id(old_list))\n",
    "print(id(new_list))\n",
    "print(old_list == new_list) # 리스트 안에 요소는 같지만 \n",
    "print(old_list is new_list) # 엄연히 주소가 다른 리스트다.(다른 객체다.)"
   ]
  },
  {
   "cell_type": "code",
   "execution_count": null,
   "id": "3e19e332-557f-4157-910f-0d5bad0d6df7",
   "metadata": {},
   "outputs": [],
   "source": []
  }
 ],
 "metadata": {
  "kernelspec": {
   "display_name": "Python 3 (ipykernel)",
   "language": "python",
   "name": "python3"
  },
  "language_info": {
   "codemirror_mode": {
    "name": "ipython",
    "version": 3
   },
   "file_extension": ".py",
   "mimetype": "text/x-python",
   "name": "python",
   "nbconvert_exporter": "python",
   "pygments_lexer": "ipython3",
   "version": "3.9.13"
  }
 },
 "nbformat": 4,
 "nbformat_minor": 5
}

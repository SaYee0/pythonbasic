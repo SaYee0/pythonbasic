{
 "cells": [
  {
   "cell_type": "code",
   "execution_count": null,
   "id": "119f4652-cd4b-48ff-a078-6f5a9c059e00",
   "metadata": {},
   "outputs": [],
   "source": [
    "# list comprehension \n",
    "# 리스트 정의법 = [표현식(expression) for 변수 in iterable]\n",
    "\n",
    "list_a = [i for i in (1,2,3,4,5)]\n",
    "print(list_a)\n",
    "\n",
    "list_b = [i ** 2 for i in list_a]\n",
    "print(list_b)\n",
    "\n",
    "list_c = [\"호호\" for i in range(5)]\n",
    "print(list_c)"
   ]
  },
  {
   "cell_type": "code",
   "execution_count": null,
   "id": "13f3de3e-6f79-49eb-b9dc-1fb7b4790f59",
   "metadata": {},
   "outputs": [],
   "source": [
    "result = [i**2 for i in range(1,10)]\n",
    "print(result)"
   ]
  },
  {
   "cell_type": "code",
   "execution_count": null,
   "id": "ad4f8a06-10bf-424b-a082-c860aac959d7",
   "metadata": {},
   "outputs": [],
   "source": [
    "result = [2*i-1 for i in range(1,6)]\n",
    "print(result)\n"
   ]
  },
  {
   "cell_type": "code",
   "execution_count": null,
   "id": "1136466b-5800-4019-abdb-14995de1b041",
   "metadata": {},
   "outputs": [],
   "source": [
    "# for문 뒤에 if문을 써서 True인 것만 출력하게끔 할 수 있다.\n",
    "# 대괄호는 범위가 명확해서 대괄호 범위 안에서는 들여쓰기로 인한 에러가 생기지 않는다. \n",
    "# 따라서 가독성을 위해 아래와 같이 들여쓰기를 해주는 것이 바람직하다. \n",
    "\n",
    "aa = [i*2 for i in range(10) \n",
    "          if i % 2 == 0]\n",
    "print(aa)"
   ]
  },
  {
   "cell_type": "code",
   "execution_count": null,
   "id": "76894746-cf0f-4ab9-bfec-e8966841a248",
   "metadata": {},
   "outputs": [],
   "source": [
    "# for문을 여러개 중첩할 수 있다. 이때는 뒤에있는 for부터 작동된다. \n",
    "bb = [j for i in range(10) \n",
    "        for j in range(5)]\n",
    "cc = [i for i in range(10) \n",
    "        for j in range(5)]\n",
    "dd = [(i,j) for i in range(10) \n",
    "            for j in range(5)]\n",
    "\n",
    "print(bb)\n",
    "print(cc)\n",
    "print(dd)"
   ]
  },
  {
   "cell_type": "code",
   "execution_count": null,
   "id": "bbe2ad5b-0a3f-4b10-9ae0-98b4e825a398",
   "metadata": {},
   "outputs": [],
   "source": [
    "alphabet = \"abcdefghijklmnopqrstuvwxyz\"\n",
    "print(alphabet[0])\n",
    "print(len(alphabet))\n",
    "\n",
    "a = [i for i in \"abcdefghijklmnopqrstuvwxyz\"]\n",
    "print(a)\n",
    "\n",
    "b = [alphabet[i] for i in range(len(alphabet))]\n",
    "print(b)\n",
    "\n",
    "print(list(\"abcdefghijklmnopqrstuvwxyz\"))"
   ]
  },
  {
   "cell_type": "code",
   "execution_count": null,
   "id": "7ba069e7-1935-499c-bf66-f3bea849ae69",
   "metadata": {},
   "outputs": [],
   "source": [
    "x = \"JQKA\"\n",
    "lis=list(\"JQKA\")\n",
    "print(lis)\n",
    "\n",
    "a = [str(i) for i in range(2,11)]+[i for i in x]\n",
    "print(a)\n",
    "\n",
    "b = [str(i) for i in range(2,11)]\n",
    "b.extend([i for i in x])\n",
    "print(b)"
   ]
  },
  {
   "cell_type": "code",
   "execution_count": null,
   "id": "3c4b8f0d-7b54-4c05-a7e9-bc38b0c0cf6e",
   "metadata": {},
   "outputs": [],
   "source": [
    "x = \"JQKA\"\n",
    "\n",
    "a = [str(i) for i in range(2,11)]+[i for i in x]\n",
    "print(a)\n",
    "a[0] = \"two\"\n",
    "# 이때 오리지날 리스트에서 요소가 하나 바뀌면 그것을 사용한 모든 리스트의 값이 바뀌게 된다.\n",
    "# 그 이유는 오리지날 리스트의 주소값을 그대로 사용했기 때문이다. (=동일한 객체)\n",
    "\n",
    "b = [a,a,a,a]\n",
    "print(\"\\nlist_b\\n\", b)\n",
    "\n",
    "c = [a for i in range(4)]\n",
    "print(\"\\nlist_c\\n\",c)"
   ]
  },
  {
   "cell_type": "code",
   "execution_count": null,
   "id": "c59fce95-285c-48d6-88c8-eb63b6b08434",
   "metadata": {},
   "outputs": [],
   "source": [
    "# is의 정확한 용도는 같은 객체인지 확인하는 것(= 주소가 같은지)이다.\n",
    "# 리스트를 전체 슬라이싱을 하면 주소가 달라진다. 즉 다른 객체가 되는 것이다. \n",
    "# 그래서 전체 슬라이싱을 한 리스트를 사용하면  \n",
    "# 본래 리스트가 변화하더라도 나중 리스트가 변화하지 않게 된다.\n",
    "\n",
    "old_list = list(range(10))\n",
    "new_list = old_list[:] #전체를 슬라이싱해서 복사함\n",
    "\n",
    "print(id(old_list))\n",
    "print(id(new_list))\n",
    "print(old_list == new_list) # 리스트 안에 요소는 같지만 \n",
    "print(old_list is new_list) # 엄연히 주소가 다른 리스트다.(다른 객체다.)\n",
    "\n",
    "\n",
    "for i, v in enumerate(old_list): #enumerate함수는 ()안의 iterable의 i(인덱스)와 v(밸류)를 언팩킹하여 프린트한다\n",
    "    print(i,v, sep=\" \", end ='\\t')"
   ]
  },
  {
   "cell_type": "code",
   "execution_count": null,
   "id": "3e19e332-557f-4157-910f-0d5bad0d6df7",
   "metadata": {},
   "outputs": [],
   "source": []
  },
  {
   "cell_type": "code",
   "execution_count": null,
   "id": "35ea1666-899e-48b2-ad73-8a17901766dc",
   "metadata": {},
   "outputs": [],
   "source": [
    "old_list = list(range(10))\n",
    "new_list = old_list[:] #전체를 슬라이싱해서 복사함\n",
    "\n",
    "print(old_list)\n",
    "print(new_list)\n",
    "\n",
    "new_list[0] = \"하하\"\n",
    "\n",
    "print(old_list)\n",
    "print(new_list)\n",
    "\n",
    "print(id(old_list))\n",
    "print(id(new_list))"
   ]
  },
  {
   "cell_type": "code",
   "execution_count": null,
   "id": "0422299c-a1df-4f1a-ac28-276116a4c40d",
   "metadata": {},
   "outputs": [],
   "source": [
    "# 리스트명.copy()  ===> 이 매서드를 사용하면 다른 객체로 복사된다.\n",
    "list_a = [1,2,3]\n",
    "list_b = list_a.copy()\n",
    "\n",
    "print(list_a)\n",
    "print(list_b)\n",
    "\n",
    "list_a[0] = \"하하\"\n",
    "list_b[1] = \"호호\"\n",
    "\n",
    "print(list_a)\n",
    "print(list_b)"
   ]
  },
  {
   "cell_type": "code",
   "execution_count": null,
   "id": "0ebf45cc-cb3a-41f9-b8fc-844de338ec60",
   "metadata": {},
   "outputs": [],
   "source": [
    "# 얕은 복사는 리스트안의 리스트에서만 해당된다고 일단 생각하자.\n",
    "# 복사하는 방법은 [:]슬라이싱 복사와 .copy()매서드 복사가 있는데 둘다 얕은 복사다. \n",
    "# 리스트를 카피하면 리스트는 다른 주소, 하지만 리스트 안의 리스트는 동일한 주소 \n",
    "\n",
    "list_c = [[1,2],3,4]\n",
    "list_d = list_c.copy()\n",
    "list_e = list_c[:]\n",
    "\n",
    "print(list_c)\n",
    "print(list_d)\n",
    "print(list_e)\n",
    "\n",
    "print(list_c is list_d)\n",
    "print(list_c is list_e)\n",
    "\n",
    "print(list_c[0] is list_d[0])\n",
    "print(list_c[1] is list_d[1])\n",
    "\n",
    "print(list_c[0] is list_e[0])\n",
    "print(list_c[1] is list_e[1])\n",
    "\n",
    "\n",
    "list_c[0][0] = \"하하\"\n",
    "list_c[1] = \"호호\"\n",
    "\n",
    "print(list_c)\n",
    "print(list_d)\n",
    "print(list_e)"
   ]
  },
  {
   "cell_type": "code",
   "execution_count": null,
   "id": "fcae7c81-33b3-4c36-98da-f7d4cc86c174",
   "metadata": {},
   "outputs": [],
   "source": [
    "# 깊은 복사 Deep Copy ::: PPT 참고할 것\n",
    "import.copy\n",
    "deepcopy()"
   ]
  },
  {
   "cell_type": "code",
   "execution_count": null,
   "id": "768a2512-eb5c-4e36-94b0-dabdeb56e930",
   "metadata": {},
   "outputs": [],
   "source": [
    "# 중첩 리스트\n",
    "zz = [[1,2,3,4],[5,6]]\n",
    "\n",
    "for i in zz:\n",
    "    for j in i:\n",
    "        print(j)"
   ]
  },
  {
   "cell_type": "code",
   "execution_count": null,
   "id": "c41f6378-3898-476c-a89f-80f37426358d",
   "metadata": {},
   "outputs": [],
   "source": [
    "Say = [[1,2,3,4,5],[6,7]]\n",
    "i = 0\n",
    "\n",
    "while i < len(Say):\n",
    "    j = 0\n",
    "    while j < len(Say[i]):\n",
    "        print(Say[i][j])\n",
    "        j = j + 1\n",
    "    i = i + 1"
   ]
  },
  {
   "cell_type": "code",
   "execution_count": null,
   "id": "84defe1e-76d5-45f2-bd3b-561bd88d0a20",
   "metadata": {},
   "outputs": [],
   "source": [
    "gen = (i for i in range(10))\n",
    "type(gen)"
   ]
  },
  {
   "cell_type": "code",
   "execution_count": null,
   "id": "14726be4-f4cb-4f69-bd1d-683334dd044b",
   "metadata": {},
   "outputs": [],
   "source": [
    "a = ['alpha','bravo','charlie','delta','echo','foxtrot','golf','hotel','india']\n",
    "b = [a[i] for i in range(len(a)) if len(a[i]) == 5]     \n",
    "print(b)\n",
    "\n",
    "a = ['alpha','bravo','charlie','delta','echo','foxtrot','golf','hotel','india']\n",
    "c = [i for i in a if len(i) == 5 ]\n",
    "print(c)"
   ]
  },
  {
   "cell_type": "code",
   "execution_count": null,
   "id": "02abb807-f7b7-411e-ad64-309bd1ede66e",
   "metadata": {},
   "outputs": [],
   "source": [
    "a = ['alpha','bravo','charlie','delta','echo','foxtrot','golf','hotel','india']\n",
    "\n",
    "def five(i):\n",
    "    if len(i) == 5:\n",
    "        return i\n",
    "\n",
    "b = list(filter(five, a))     \n",
    "print(b)"
   ]
  },
  {
   "cell_type": "code",
   "execution_count": null,
   "id": "9924468f-40ef-41d2-baa5-697a725fbbef",
   "metadata": {},
   "outputs": [],
   "source": [
    "# num1, num2 = map(int,input(\"두 정수 a,b를 공백을 두고 입력하세요(단, a<b)\").split())\n",
    "\n",
    "while True:\n",
    "    num1, num2 = map(int, input(\"정수 두개 입력하세요\").split())\n",
    "    if num1 < 1 or num1 > 20:\n",
    "        print(\"첫번째 값의 범위는 1~20 입니다.\")\n",
    "    elif num2 < 10 or num2 > 30:\n",
    "        print(\"두번째 값의 범위는 10~30 입니다.\")\n",
    "    elif num1 >= num2:\n",
    "        print(\"첫번째 입력값은 두번째 입력값보다 작게 입력하세요.\")\n",
    "    else:\n",
    "        break\n",
    "    continue\n",
    "\n",
    "lis = [2**i for i in range(num1, num2+1) if i != (num1+1) and i != (num2 - 1)]         \n",
    "print(lis)"
   ]
  },
  {
   "cell_type": "code",
   "execution_count": null,
   "id": "ce6c96ef-bf4c-48ae-b05f-0f10608f0ee0",
   "metadata": {},
   "outputs": [],
   "source": [
    "\n",
    "num = int(input(\"2부터 입력하신 수까지의 모든 소수를 찾는 프로그램입니다.\\n찾는 범위를 입력하세요\"))\n",
    "result = []\n",
    "a = True\n",
    "\n",
    "for i in range(2, num+1):\n",
    "    for j in range(2, i):\n",
    "        if i % j == 0:\n",
    "            a = False\n",
    "            break\n",
    "    if a:\n",
    "        result.append(i)\n",
    "    \n",
    "print(result)"
   ]
  },
  {
   "cell_type": "code",
   "execution_count": 1,
   "id": "43e7fb64-e981-4532-96e3-a5565d4313ab",
   "metadata": {},
   "outputs": [
    {
     "name": "stdin",
     "output_type": "stream",
     "text": [
      "2부터 입력하신 수까지의 모든 소수를 찾는 프로그램입니다.\n",
      "찾는 범위를 입력하세요:  100\n"
     ]
    },
    {
     "name": "stdout",
     "output_type": "stream",
     "text": [
      "[2, 3, 5, 7, 11, 13, 17, 19, 23, 29, 31, 37, 41, 43, 47, 53, 59, 61, 67, 71, 73, 79, 83, 89, 97]\n"
     ]
    }
   ],
   "source": [
    "num = int(input(\"2부터 입력하신 수까지의 모든 소수를 찾는 프로그램입니다.\\n찾는 범위를 입력하세요: \"))\n",
    "result = []\n",
    "\n",
    "\n",
    "# a = True\n",
    "for i in range(2, num+1):\n",
    "    a = True\n",
    "    for j in range(2, i):\n",
    "        if i % j == 0:\n",
    "            a = False\n",
    "            break\n",
    "    if a:\n",
    "        result.append(i)\n",
    "\n",
    "print(result)"
   ]
  },
  {
   "cell_type": "code",
   "execution_count": null,
   "id": "836f4ad9-293f-44c7-a6e0-402c57f76cb4",
   "metadata": {},
   "outputs": [],
   "source": [
    "# 임의의 정수 만드는 randint\n",
    "import random\n",
    "random_list = [random.randint(1,100) for i in range(1)]\n",
    "print(random_list)"
   ]
  },
  {
   "cell_type": "code",
   "execution_count": null,
   "id": "e282803e-8096-4c6f-a6d0-6f6b63d031e8",
   "metadata": {},
   "outputs": [],
   "source": [
    "import random\n",
    "random_list = [random.randint(1,100) for i in range(1)]\n",
    "answer = int(random_list[0])\n",
    "\n",
    "i = 0 \n",
    "result = []\n",
    "while True:\n",
    "    num = int(input(\"숫자를 입력하세요\"))\n",
    "    if answer < num:\n",
    "        i += 1\n",
    "        result.append(num)\n",
    "        print(\"그보다 작습니다.\")\n",
    "    elif answer > num:\n",
    "        i += 1\n",
    "        result.append(num)\n",
    "        print(\"그보다 큽니다.\")\n",
    "    elif not 1 <= answer <= 100 :\n",
    "        i += 1\n",
    "        result.append(num)\n",
    "        print(\"1~100 사이의 숫자를 입력하세요.\")\n",
    "    else: \n",
    "        i += 1\n",
    "        result.append(num)\n",
    "        print(f'''맞췄습니다!\n",
    "        {i}번 만에 맞추셨습니다!\n",
    "        입력한 숫자는 다음과 같습니다 {result}''')\n",
    "        break"
   ]
  },
  {
   "cell_type": "code",
   "execution_count": 2,
   "id": "3028d3b8-4d3c-42ed-8d9c-1b01bb17c34e",
   "metadata": {},
   "outputs": [],
   "source": [
    "import random\n",
    "random_list = [random.randint(1,100) for i in range(1)]\n",
    "answer = int(random_list[0])\n"
   ]
  },
  {
   "cell_type": "code",
   "execution_count": 3,
   "id": "e9553d07-0d89-4430-a6b4-d3999ffe8959",
   "metadata": {},
   "outputs": [
    {
     "name": "stdout",
     "output_type": "stream",
     "text": [
      "{1, 2, 3, 4}\n",
      "{2, 4, 5}\n",
      "{1, 2, 3, 4, 5}\n",
      "{1, 2, 3, 4, 5}\n"
     ]
    }
   ],
   "source": [
    "#  세트 자료형\n",
    "# 세트는 막 활용도가 높지는 않으니, 그냥 쭈욱 살펴보면서 넘어갈 것\n",
    "\n",
    "A = {i for i in range(1,5)}\n",
    "B = {j for j in range(2,6) if j != 3}\n",
    "print(A)\n",
    "print(B)\n",
    "print(set.union(A,B)) # .union(,) : 합집합 기호\n",
    "print(A|B)  # |: 합집합 기호"
   ]
  },
  {
   "cell_type": "code",
   "execution_count": 4,
   "id": "4475a554-a644-4dea-b712-2bc2f69c2e4a",
   "metadata": {},
   "outputs": [
    {
     "name": "stdout",
     "output_type": "stream",
     "text": [
      "{1, 2, 3, 4}\n",
      "{2, 4, 5}\n",
      "{2, 4}\n",
      "{2, 4}\n"
     ]
    }
   ],
   "source": [
    "#  세트 교집합 \n",
    "A = {i for i in range(1,5)}\n",
    "B = {j for j in range(2,6) if j != 3}\n",
    "print(A)\n",
    "print(B)\n",
    "print(set.intersection(A,B)) # .intersection( , ): 교집합 기호\n",
    "print(A&B) # &: 교집합 기호"
   ]
  },
  {
   "cell_type": "code",
   "execution_count": 5,
   "id": "9fbebae0-daa5-4fa4-96dc-8d76371d5bb4",
   "metadata": {},
   "outputs": [
    {
     "name": "stdout",
     "output_type": "stream",
     "text": [
      "{1, 2, 3, 4}\n",
      "{2, 4, 5}\n",
      "{1, 3}\n",
      "{1, 3}\n"
     ]
    }
   ],
   "source": [
    "#  세트 차집합 \n",
    "A = {i for i in range(1,5)}\n",
    "B = {j for j in range(2,6) if j != 3}\n",
    "print(A)\n",
    "print(B)\n",
    "print(set.difference(A,B)) # .difference( , ): 차집합 기호\n",
    "print(A-B) # -: 차집합 기호"
   ]
  },
  {
   "cell_type": "code",
   "execution_count": 6,
   "id": "b664ed52-e6f6-4359-8e72-cb2395b3ee0f",
   "metadata": {},
   "outputs": [
    {
     "name": "stdout",
     "output_type": "stream",
     "text": [
      "{1, 2, 3, 4}\n",
      "{2, 4, 5}\n",
      "{1, 3, 5}\n",
      "{1, 3, 5}\n"
     ]
    }
   ],
   "source": [
    "#  세트 대칭차집합 \n",
    "A = {i for i in range(1,5)}\n",
    "B = {j for j in range(2,6) if j != 3}\n",
    "print(A)\n",
    "print(B)\n",
    "print(set.symmetric_difference(A,B)) # .symmetric_difference( , ): 대칭차집합 기호\n",
    "print(A^B) # ^: 차집합 기호"
   ]
  },
  {
   "cell_type": "code",
   "execution_count": 9,
   "id": "81e44bcf-34f6-4d3f-a91a-3e8713808617",
   "metadata": {},
   "outputs": [
    {
     "name": "stdout",
     "output_type": "stream",
     "text": [
      "{1, 2, 3, 4}\n",
      "{2, 4, 5}\n",
      "None\n",
      "{1, 2, 3, 4, 5}\n"
     ]
    }
   ],
   "source": [
    "#  세트 업데이트\n",
    "A = {i for i in range(1,5)}\n",
    "B = {j for j in range(2,6) if j != 3}\n",
    "print(A)\n",
    "print(B)\n",
    "A.update(B) # 업데이트 기호\n",
    "print(A)"
   ]
  },
  {
   "cell_type": "code",
   "execution_count": 10,
   "id": "174a333f-2d45-46b8-99f1-e63d88684597",
   "metadata": {},
   "outputs": [
    {
     "name": "stdout",
     "output_type": "stream",
     "text": [
      "{1, 2, 3, 4}\n",
      "{2, 4, 5}\n",
      "{2, 4}\n"
     ]
    }
   ],
   "source": [
    "#  세트 인터섹션 업데이트\n",
    "A = {i for i in range(1,5)}\n",
    "B = {j for j in range(2,6) if j != 3}\n",
    "print(A)\n",
    "print(B)\n",
    "A.intersection_update(B) # A &= B \n",
    "print(A)"
   ]
  },
  {
   "cell_type": "code",
   "execution_count": 11,
   "id": "1c9a847d-abea-4c48-aa53-cbd720508d80",
   "metadata": {},
   "outputs": [
    {
     "name": "stdout",
     "output_type": "stream",
     "text": [
      "{1, 2, 3, 4}\n",
      "{2, 4, 5}\n",
      "{1, 3}\n"
     ]
    }
   ],
   "source": [
    "#  세트 디퍼런스 업데이트\n",
    "A = {i for i in range(1,5)}\n",
    "B = {j for j in range(2,6) if j != 3}\n",
    "print(A)\n",
    "print(B)\n",
    "A.difference_update(B) # A -= B \n",
    "print(A)"
   ]
  },
  {
   "cell_type": "code",
   "execution_count": 12,
   "id": "47e4b265-1135-4420-b282-403727c0d3ca",
   "metadata": {},
   "outputs": [
    {
     "name": "stdout",
     "output_type": "stream",
     "text": [
      "{1, 2, 3, 4}\n",
      "{2, 4, 5}\n",
      "{1, 3, 5}\n"
     ]
    }
   ],
   "source": [
    "#  세트 디퍼런스 업데이트\n",
    "A = {i for i in range(1,5)}\n",
    "B = {j for j in range(2,6) if j != 3}\n",
    "print(A)\n",
    "print(B)\n",
    "A.symmetric_difference_update(B) # A ^= B \n",
    "print(A)"
   ]
  },
  {
   "cell_type": "code",
   "execution_count": 15,
   "id": "b642d8f9-13e9-4b5a-abde-b5ce120037fa",
   "metadata": {},
   "outputs": [
    {
     "name": "stdout",
     "output_type": "stream",
     "text": [
      "{1, 2}\n",
      "{0, 1, 2}\n",
      "True\n"
     ]
    }
   ],
   "source": [
    "#  부분집합\n",
    "A = {i for i in range(1,3)}\n",
    "B = {j for j in range(0,3)}\n",
    "print(A)\n",
    "print(B)\n",
    "print(A.issubset(B)) "
   ]
  },
  {
   "cell_type": "code",
   "execution_count": 19,
   "id": "e7ed04a5-6d17-4bc3-99eb-1ef369512ffb",
   "metadata": {},
   "outputs": [
    {
     "name": "stdout",
     "output_type": "stream",
     "text": [
      "{0, 1, 2}\n",
      "{1, 2}\n",
      "True\n",
      "True\n"
     ]
    }
   ],
   "source": [
    "# 상위집합\n",
    "A = {i for i in range(0,3)}\n",
    "B = {j for j in range(1,3)}\n",
    "print(A)\n",
    "print(B)\n",
    "print(A.issuperset(B)) \n",
    "print(A>B) "
   ]
  },
  {
   "cell_type": "code",
   "execution_count": 22,
   "id": "4ac62488-5af9-44e4-bee7-c9dbd72d89cf",
   "metadata": {},
   "outputs": [
    {
     "name": "stdout",
     "output_type": "stream",
     "text": [
      "{0, 1, 2}\n",
      "{0, 1, 2}\n",
      "True\n"
     ]
    }
   ],
   "source": [
    "\n",
    "A = {i for i in range(0,3)}\n",
    "B = {j for j in range(0,3)}\n",
    "print(A)\n",
    "print(B)\n",
    "print(A==B) "
   ]
  },
  {
   "cell_type": "code",
   "execution_count": 24,
   "id": "91b02b9e-018c-4751-a925-a027d8926249",
   "metadata": {},
   "outputs": [
    {
     "name": "stdout",
     "output_type": "stream",
     "text": [
      "{0, 1, 2}\n",
      "{0, 1, 2}\n",
      "False\n"
     ]
    }
   ],
   "source": [
    "A = {i for i in range(0,3)}\n",
    "B = {j for j in range(0,3)}\n",
    "print(A)\n",
    "print(B)\n",
    "print(A.isdisjoint(B)) "
   ]
  },
  {
   "cell_type": "code",
   "execution_count": 25,
   "id": "005ce8a2-50bd-4dea-9465-add451ce64a8",
   "metadata": {},
   "outputs": [
    {
     "name": "stdout",
     "output_type": "stream",
     "text": [
      "{1, 2, 3, 4}\n"
     ]
    }
   ],
   "source": [
    "list_sample = [1, 2, 2, 3, 3, 3, 4, 4, 4, 4]\n",
    "a = set(list_sample)\n",
    "print(a)"
   ]
  }
 ],
 "metadata": {
  "kernelspec": {
   "display_name": "Python 3 (ipykernel)",
   "language": "python",
   "name": "python3"
  },
  "language_info": {
   "codemirror_mode": {
    "name": "ipython",
    "version": 3
   },
   "file_extension": ".py",
   "mimetype": "text/x-python",
   "name": "python",
   "nbconvert_exporter": "python",
   "pygments_lexer": "ipython3",
   "version": "3.9.13"
  }
 },
 "nbformat": 4,
 "nbformat_minor": 5
}

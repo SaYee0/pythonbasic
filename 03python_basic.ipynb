{
 "cells": [
  {
   "cell_type": "code",
   "execution_count": 1,
   "id": "46bcb138-441e-473c-b846-6d588919cf4a",
   "metadata": {},
   "outputs": [
    {
     "name": "stdout",
     "output_type": "stream",
     "text": [
      "안녕하세요\n",
      "나는 파이썬을 공부하고 있습니다\n",
      "반갑습니다\n"
     ]
    }
   ],
   "source": [
    "print('안녕하세요\\n나는 파이썬을 공부하고 있습니다\\n반갑습니다')"
   ]
  },
  {
   "cell_type": "code",
   "execution_count": 2,
   "id": "0fb3e8eb-ca4b-4e4c-9454-f892dbec729e",
   "metadata": {},
   "outputs": [
    {
     "name": "stdout",
     "output_type": "stream",
     "text": [
      "안녕하세요\n",
      "나는 파이썬을 공부하고 있습니다\n",
      "반갑습니다\n"
     ]
    }
   ],
   "source": [
    "print('''안녕하세요\n",
    "나는 파이썬을 공부하고 있습니다\n",
    "반갑습니다''')"
   ]
  },
  {
   "cell_type": "code",
   "execution_count": 2,
   "id": "e04d7759-006b-48ad-a9d6-5ad0fa95acda",
   "metadata": {},
   "outputs": [
    {
     "name": "stdout",
     "output_type": "stream",
     "text": [
      "\n",
      "안녕하세요\n",
      "나는 파이썬을 공부하고 있습니다\n",
      "반갑습니다\n",
      "\n"
     ]
    }
   ],
   "source": [
    "print('''\n",
    "안녕하세요\n",
    "나는 파이썬을 공부하고 있습니다\n",
    "반갑습니다\n",
    "''')"
   ]
  },
  {
   "cell_type": "code",
   "execution_count": 4,
   "id": "f61b4f4b-7c14-4edd-a7b5-50b9ad4e02b9",
   "metadata": {},
   "outputs": [
    {
     "name": "stdout",
     "output_type": "stream",
     "text": [
      "안녕하세요\n",
      "나는 파이썬을 공부하고 있습니다\n",
      "반갑습니다\n"
     ]
    }
   ],
   "source": [
    "print('''\\\n",
    "안녕하세요\n",
    "나는 파이썬을 공부하고 있습니다\n",
    "반갑습니다\\\n",
    "''')\n",
    "\n",
    "# 아래처럼은 안된다. 왜냐하면 백슬래시가 엔터를 먹은 게 아니라 따옴표 한개를 먹어서 문장이 완성되지 않았기 때문\n",
    "print('''\\\n",
    "안녕하세요\n",
    "나는 파이썬을 공부하고 있습니다\n",
    "반갑습니다\n",
    "\\''')"
   ]
  },
  {
   "cell_type": "code",
   "execution_count": 8,
   "id": "dea4e6a7-2c9a-4719-9208-0f498c982157",
   "metadata": {},
   "outputs": [
    {
     "name": "stdout",
     "output_type": "stream",
     "text": [
      "\"안녕하세요.\"\n",
      "나는 파이썬을 공부하고 있습니다.\n",
      "반갑습니다.\n"
     ]
    }
   ],
   "source": [
    "print('\"안녕하세요.\"\\n나는 파이썬을 공부하고 있습니다.\\n반갑습니다.')"
   ]
  },
  {
   "cell_type": "code",
   "execution_count": 9,
   "id": "e2baef9b-4c51-4c7f-834c-ef6d24a7c6b3",
   "metadata": {},
   "outputs": [
    {
     "name": "stdout",
     "output_type": "stream",
     "text": [
      "\"안녕하세요.\"\n",
      "나는 파이썬을 공부하고 있습니다.\n",
      "반갑습니다.\n"
     ]
    }
   ],
   "source": [
    "print(\"\"\"\\\"안녕하세요.\\\"\n",
    "나는 파이썬을 공부하고 있습니다.\n",
    "반갑습니다.\"\"\")"
   ]
  },
  {
   "cell_type": "code",
   "execution_count": 10,
   "id": "4f3962e1-1cb9-4927-bd14-19462930bbd4",
   "metadata": {},
   "outputs": [
    {
     "name": "stdout",
     "output_type": "stream",
     "text": [
      "\"안녕하세요.\"\n",
      "나는 파이썬을 공부하고 있습니다.\n",
      "반갑습니다.\n"
     ]
    }
   ],
   "source": [
    "print(\"\"\"\\\n",
    "\\\"안녕하세요.\\\"\n",
    "나는 파이썬을 공부하고 있습니다.\n",
    "반갑습니다.\\\n",
    "\"\"\")"
   ]
  },
  {
   "cell_type": "code",
   "execution_count": 19,
   "id": "0fc885c0-0f05-4d22-be4c-0c1c00cc7842",
   "metadata": {},
   "outputs": [
    {
     "name": "stdout",
     "output_type": "stream",
     "text": [
      "너무 너무 너무 너무 너무 너무 파이썬 공부가 즐겁습니다\n"
     ]
    }
   ],
   "source": [
    "print(6*'너무 '+'파이썬 공부가 즐겁습니다')"
   ]
  },
  {
   "cell_type": "code",
   "execution_count": 6,
   "id": "e70950fe-0c9b-4b56-bab4-a00c8838fac2",
   "metadata": {},
   "outputs": [
    {
     "name": "stdout",
     "output_type": "stream",
     "text": [
      "너무너무너무너무너무너무 파이썬 공부가 즐겁습니다\n",
      "너무너무너무너무너무너무파이썬 공부가 즐겁습니다\n",
      "너무너무너무너무너무너무파이썬 공부가 즐겁습니다\n"
     ]
    }
   ],
   "source": [
    "# 문자열을 더할 때의 차이점을 느껴야 한다. 아래를 실행해볼 것\n",
    "\n",
    "# print('','') 콤마 방식은 결과값에 자동으로 한 칸씩 띄어진다.\n",
    "print(6*'너무','파이썬 공부가 즐겁습니다')\n",
    "# 기본 디폴트 값이 스페이스바로 되어 있기 때문. sep을 통해 조정할 수 있다.\n",
    "print(6*'너무','파이썬 공부가 즐겁습니다', sep='')\n",
    "\n",
    "# print(''+'') 더하기 방식은 결과값이 띄워지는 것 없이 붙는다. \n",
    "print(6*'너무'+'파이썬 공부가 즐겁습니다')"
   ]
  },
  {
   "cell_type": "code",
   "execution_count": 7,
   "id": "3cf01220-f734-4537-8f09-1131c5083533",
   "metadata": {},
   "outputs": [
    {
     "name": "stdout",
     "output_type": "stream",
     "text": [
      "n\n",
      "o\n",
      "n\n",
      "h\n",
      "\n"
     ]
    }
   ],
   "source": [
    "# 인덱스 : 앞에서부터 0, 뒤에서부터는 -1\n",
    "word1 = 'python'\n",
    "print(word1[5])\n",
    "print(word1[4])\n",
    "print(word1[-1])\n",
    "print(word1[-3])\n",
    "print()\n",
    "\n",
    "#범위를 넘어가면 인덱스에러(Index Error발생)\n",
    "# print(word[20])"
   ]
  },
  {
   "cell_type": "code",
   "execution_count": 19,
   "id": "53715460-e1d1-4ca7-8405-b77e096909ca",
   "metadata": {},
   "outputs": [
    {
     "name": "stdout",
     "output_type": "stream",
     "text": [
      "동해\n",
      "동해물과 백두산\n",
      "과 백두산이\n",
      "동해물과 \n",
      "두산\n",
      "\n",
      "동물\n",
      "물백이\n",
      "이산두백 과물해동\n",
      "동물 두이\n",
      "동물 두이\n"
     ]
    }
   ],
   "source": [
    "# 슬라이스 : [이상(포함):미만(제외)] 둘 간의 차이만큼 뜬다.\n",
    "word2 = '동해물과 백두산이'\n",
    "print(word2[0:2])\n",
    "print(word2[:8])\n",
    "print(word2[3:])\n",
    "print(word2[:-4])\n",
    "print(word2[-3:-1])\n",
    "print(word2[-1:-3])\n",
    "print(word2[0:4:2])\n",
    "print(word2[:9:2])\n",
    "print(word2[::-1])\n",
    "\n",
    "word5 = '중요한 것은 꺽이지 않는 마음'\n",
    "print(word5[2::-1])\n",
    "print(word5[0:5:-1])"
   ]
  },
  {
   "cell_type": "code",
   "execution_count": 20,
   "id": "a9e10920-304e-4713-8cb5-261e36e38bbb",
   "metadata": {},
   "outputs": [
    {
     "name": "stdout",
     "output_type": "stream",
     "text": [
      "[1, 2, 100, 4, 5]\n",
      "[100, 200, 300, 100, 4, 5]\n",
      "[100, '나는', '자연인', '이다', 200, 300, 100, 4, 5]\n"
     ]
    }
   ],
   "source": [
    "cube = [1,2,3,4,5]\n",
    "cube[2] = 100\n",
    "print(cube)\n",
    "\n",
    "cube[0:2] = [100, 200, 300]\n",
    "print(cube)\n",
    "\n",
    "cube[1:1] = ['나는','자연인','이다']\n",
    "print(cube)"
   ]
  },
  {
   "cell_type": "code",
   "execution_count": 75,
   "id": "b13099c1-dcf6-4feb-830c-15f9e4dee7a3",
   "metadata": {},
   "outputs": [
    {
     "name": "stdout",
     "output_type": "stream",
     "text": [
      "[1, 2, 3, 4, 5, 6]\n",
      "[1, 2, 3] [4, 5, 6]\n"
     ]
    }
   ],
   "source": [
    "# 리스트는 덧셈과 컴마가 다르군\n",
    "a = [1,2,3]\n",
    "b = [4,5,6]\n",
    "print(a+b)\n",
    "print(a,b) #리스트의 요소로 리스트도 가능하군"
   ]
  },
  {
   "cell_type": "code",
   "execution_count": 77,
   "id": "cf786150-b700-421c-b859-21ede240a337",
   "metadata": {},
   "outputs": [
    {
     "name": "stdout",
     "output_type": "stream",
     "text": [
      "True\n",
      "False\n"
     ]
    }
   ],
   "source": [
    "# 리스트에 특정 요소를 포함하고 있는지 확인하는 법\n",
    "a = [1,2,3,4,5]\n",
    "print(5 in a)\n",
    "print(6 in a)"
   ]
  },
  {
   "cell_type": "code",
   "execution_count": 24,
   "id": "a2c9b643-e8af-4fa6-b9d1-28660047d7e7",
   "metadata": {},
   "outputs": [
    {
     "name": "stdout",
     "output_type": "stream",
     "text": [
      "True\n"
     ]
    }
   ],
   "source": [
    "# 연습문제\n",
    "# 5과목 중에서 60점 미만 하나라도 과락 있으면 False, 없으면 True\n",
    "# 포인트는 논리연산자 사용 !! 비교연산자는 항상 잘 사용하고 있다. \n",
    "# 무조건 and를 사용해야 한다. &가 아니라 !!!!\n",
    "scores = [88,73,89,61,77]\n",
    "print(scores[0]>=60 and scores[1]>=60 and scores[2]>=60 and scores[3]>=60 and scores[4]>=60)"
   ]
  },
  {
   "cell_type": "code",
   "execution_count": 95,
   "id": "24b61e89-5cb0-4220-a6b0-ede836ceba87",
   "metadata": {},
   "outputs": [
    {
     "name": "stdout",
     "output_type": "stream",
     "text": [
      "5\n",
      "[1, 2, 3, 4]\n"
     ]
    }
   ],
   "source": [
    "# pop은 마지막 요소 하나를 추출해 낸다. 잘라내기로 보면 된다. \n",
    "numbers = [1,2,3,4,5]\n",
    "print(numbers.pop())\n",
    "print(numbers)"
   ]
  },
  {
   "cell_type": "code",
   "execution_count": 97,
   "id": "16ed5f2c-5893-41e5-ab6b-9f2e1f8dbbc7",
   "metadata": {},
   "outputs": [
    {
     "name": "stdout",
     "output_type": "stream",
     "text": [
      "2\n",
      "0\n"
     ]
    }
   ],
   "source": [
    "numbers = [1,2,3,4,5]\n",
    "\n",
    "# 리스트에서 1자리에 뭐 있니? : 2 있어\n",
    "print(numbers[1])\n",
    "\n",
    "# 리스트에서 첫 번째 1이 어디에 있니? : 0에 있어\n",
    "print(numbers.index(1))"
   ]
  },
  {
   "cell_type": "code",
   "execution_count": 27,
   "id": "2ff16132-96ea-4817-aa06-70841a642376",
   "metadata": {},
   "outputs": [
    {
     "name": "stdout",
     "output_type": "stream",
     "text": [
      "[1, 2, 3, 4, 5]\n",
      "[5, 2, 3, 1, 4]\n",
      "[1, 2, 3, 4, 5]\n"
     ]
    }
   ],
   "source": [
    "# sort와 sorted\n",
    "# sort는 리스트 자체를 바꾸고, sorted는 리스트를 바꾸지 않고 값만 반환한다. \n",
    "\n",
    "numbers = [5,2,3,1,4]\n",
    "\n",
    "a = sorted(numbers)\n",
    "print(a)\n",
    "print(numbers) #기존 리스트는 안 바뀐 상태 \n",
    "\n",
    "numbers.sort()\n",
    "print(numbers) #기존 리스트가 바뀐 상태"
   ]
  },
  {
   "cell_type": "code",
   "execution_count": 106,
   "id": "1460cad5-a6b8-43d1-aaf0-c2d9a3791832",
   "metadata": {},
   "outputs": [],
   "source": [
    "# # 튜플(tuple)은 리스트와 비슷하지만 \n",
    "# 1. 삭제 및 수정이 불가능하며(immutable) \n",
    "# 2. 대괄호가 아니라 소괄호를 사용한다. \n",
    "# 3. 하지만 튜플은 리스트에 비해 처리속도가 빠르다는 장점이 있다. "
   ]
  },
  {
   "cell_type": "code",
   "execution_count": 28,
   "id": "48c54b11-52cf-4c50-bafb-5c4d3accf776",
   "metadata": {},
   "outputs": [
    {
     "name": "stdout",
     "output_type": "stream",
     "text": [
      "['아버지', '가방에', '들어가신다']\n"
     ]
    }
   ],
   "source": [
    "# split은 ()안에 있는 것을 기준으로 \"문자열\"을 쪼개서 \"문자열\"의 \"리스트\"로 반환하는 매서드다.\n",
    "result = '아버지 가방에 들어가신다'.split()\n",
    "print(result)"
   ]
  },
  {
   "cell_type": "code",
   "execution_count": 140,
   "id": "937ad82c-51b1-4919-a6c7-0b60a9fa0fd7",
   "metadata": {},
   "outputs": [
    {
     "name": "stdin",
     "output_type": "stream",
     "text": [
      "hh:mm:ss의 형태로 시간을 입력해주세요:  12:55:30\n"
     ]
    },
    {
     "name": "stdout",
     "output_type": "stream",
     "text": [
      "\n",
      "실행결과\n",
      "시:12\n",
      "분:55\n",
      "초:30\n"
     ]
    }
   ],
   "source": [
    "#split연습문제\n",
    "time = input(\"hh:mm:ss의 형태로 시간을 입력해주세요: \")\n",
    "print()\n",
    "print(\"실행결과\")\n",
    "print(\"시:\",time.split(\":\")[0],sep='')\n",
    "print(\"분:\",time.split(\":\")[1],sep='')\n",
    "print(\"초:\",time.split(\":\")[2],sep='')"
   ]
  },
  {
   "cell_type": "code",
   "execution_count": 145,
   "id": "704c5e84-a49f-4618-921d-9b347aa5eb8c",
   "metadata": {},
   "outputs": [
    {
     "name": "stdin",
     "output_type": "stream",
     "text": [
      "hh:mm:ss의 형태로 시간을 입력해주세요:  12:30:55\n"
     ]
    },
    {
     "name": "stdout",
     "output_type": "stream",
     "text": [
      "\n",
      "실행결과 \n",
      "시: 12 \n",
      "분: 30 \n",
      "초: 55\n"
     ]
    }
   ],
   "source": [
    "time = input(\"hh:mm:ss의 형태로 시간을 입력해주세요: \")\n",
    "print()\n",
    "print(\"실행결과\",\"\\n시:\",time.split(\":\")[0],\"\\n분:\",time.split(\":\")[1],\"\\n초:\",time.split(\":\")[2])"
   ]
  },
  {
   "cell_type": "code",
   "execution_count": 35,
   "id": "7c224adc-1876-4066-8a03-11c813bb5a42",
   "metadata": {},
   "outputs": [
    {
     "name": "stdin",
     "output_type": "stream",
     "text": [
      "hh:mm:ss의 형태로 시간을 입력해주세요: 12:45:78\n"
     ]
    },
    {
     "name": "stdout",
     "output_type": "stream",
     "text": [
      "12\n",
      "<class 'str'>\n",
      "시 : 12\n",
      "분 : 45\n",
      "초 : 78\n"
     ]
    }
   ],
   "source": [
    "# split연습문제 _ unpacking을 활용한 풀이 \n",
    "\n",
    "h,m,s = input(\"hh:mm:ss의 형태로 시간을 입력해주세요:\").split(\":\")\n",
    "print(h)\n",
    "print(type(h))\n",
    "\n",
    "print(f\"시 : {h}\")\n",
    "print(f\"분 : {m}\")\n",
    "print(f\"초 : {s}\")"
   ]
  },
  {
   "cell_type": "code",
   "execution_count": 1,
   "id": "c2867cf6-0114-45fc-ad81-3f8e368c884e",
   "metadata": {},
   "outputs": [
    {
     "name": "stdout",
     "output_type": "stream",
     "text": [
      "[1, 3, 2, 8]\n"
     ]
    }
   ],
   "source": [
    "# map함수 사용하기 \n",
    "\n",
    "a = [1.2, 3.6, 2.6, 8.5]\n",
    "a = list(map(int, a)) #map안의 함수인 int에는 소괄호가 들어가지 않는다.\n",
    "print(a)"
   ]
  },
  {
   "cell_type": "code",
   "execution_count": 13,
   "id": "9b8bc7ed-bc1a-47d6-b404-c5ab2ac07429",
   "metadata": {},
   "outputs": [
    {
     "name": "stdin",
     "output_type": "stream",
     "text": [
      "국어, 영어, 수학, 과학 점수를 알려주세요 87,54,98,65\n"
     ]
    },
    {
     "name": "stdout",
     "output_type": "stream",
     "text": [
      "\n",
      "87,54,98,65\n",
      "\n",
      "['87', '54', '98', '65']\n",
      "\n",
      "[87, 54, 98, 65]\n",
      "\n",
      "76.0\n",
      "실행 결과: \n",
      "평균 점수는 76.0 입니다.\n"
     ]
    }
   ],
   "source": [
    "# map함수 연습문제\n",
    "kor,eng,mat,sci = input(\"국어, 영어, 수학, 과학 점수를 알려주세요\".split(\",\"))\n",
    "print()\n",
    "\n",
    "print(score)\n",
    "print()\n",
    "\n",
    "score = score.split(\",\")\n",
    "print(score)\n",
    "print()\n",
    "\n",
    "score = list(map(int, score))\n",
    "print(score)\n",
    "print()\n",
    "\n",
    "avg = (score[0]+score[1]+score[2]+score[3])/len(score)\n",
    "print(avg)\n",
    "\n",
    "print(\"실행 결과:\",\"\\n평균 점수는\",avg,\"입니다.\")"
   ]
  },
  {
   "cell_type": "code",
   "execution_count": 17,
   "id": "45a8e815-0726-4a75-8414-bbe40b0d3e7e",
   "metadata": {},
   "outputs": [
    {
     "name": "stdin",
     "output_type": "stream",
     "text": [
      "국어, 영어, 수학, 과학 점수를 알려주세요 45,78,98,65\n"
     ]
    },
    {
     "name": "stdout",
     "output_type": "stream",
     "text": [
      "45\n",
      "78\n",
      "98\n",
      "65\n"
     ]
    }
   ],
   "source": [
    "kor,eng,mat,sci = input(\"국어, 영어, 수학, 과학 점수를 알려주세요\").split(\",\")\n",
    "print(kor)\n",
    "print(eng)\n",
    "print(mat)\n",
    "print(sci)"
   ]
  },
  {
   "cell_type": "code",
   "execution_count": 20,
   "id": "06da1c03-57b5-4350-b2ca-86474bbdab07",
   "metadata": {},
   "outputs": [
    {
     "name": "stdout",
     "output_type": "stream",
     "text": [
      "None\n",
      "[1, 3]\n"
     ]
    }
   ],
   "source": [
    "a = [1,2,3]\n",
    "print(a.remove(2))\n",
    "print(a)"
   ]
  },
  {
   "cell_type": "code",
   "execution_count": 27,
   "id": "4eff6663-03af-40f8-a3d1-69a1d55c08a4",
   "metadata": {},
   "outputs": [
    {
     "name": "stdout",
     "output_type": "stream",
     "text": [
      "아에이오우\n",
      "1__!__2__!__3__!__4__!__5very good5555555\n"
     ]
    }
   ],
   "source": [
    "# 기본적으로 print문 키워드의 디폴트 값은 sep=' '으로, end='\\n' 으로 되어 있다.  \n",
    "\n",
    "print(\"아에이오우\",end='\\n')\n",
    "print(1,2,3,4,5,sep='__!__', end='very good')\n",
    "print(5555555)"
   ]
  },
  {
   "cell_type": "code",
   "execution_count": 28,
   "id": "dc047b9c-f028-430c-bb2a-1a4e251f639d",
   "metadata": {},
   "outputs": [
    {
     "name": "stdout",
     "output_type": "stream",
     "text": [
      "2023/10/23\n",
      "12:45:78\n"
     ]
    }
   ],
   "source": [
    "print(2023,10,23,sep='/')\n",
    "print(12,45,78,sep=':')"
   ]
  },
  {
   "cell_type": "code",
   "execution_count": 30,
   "id": "3b55efdc-c66d-46d8-ac71-78d63973fd1e",
   "metadata": {},
   "outputs": [
    {
     "name": "stdin",
     "output_type": "stream",
     "text": [
      "사과와 귤을 몇개 드릴까요?? 10,20\n"
     ]
    },
    {
     "name": "stdout",
     "output_type": "stream",
     "text": [
      "14000\n"
     ]
    }
   ],
   "source": [
    "# input문으로 str받기 \n",
    "how_much = input(\"사과와 귤을 몇개 드릴까요??\")\n",
    "\n",
    "# 하나의 str을 두 개로 쪼개기\n",
    "how_much = how_much.split(',')\n",
    "\n",
    "# 쪼갠거 리스트로 만들기 \n",
    "# 이 작업은 필요가 없다 !!! 이미 스플릿으로 쪼갠 것은 리스트화 되기 때문이다 !!!\n",
    "how_much = list(how_much)\n",
    "\n",
    "# map으로 한번에 int 만들기 \n",
    "how_much = map(int, how_much)\n",
    "\n",
    "# map 형식 list로 만들기 \n",
    "how_much = list(how_much)\n",
    "\n",
    "# 계산하기 \n",
    "print(how_much[0]*1000 + how_much[1]*200) "
   ]
  },
  {
   "cell_type": "code",
   "execution_count": 31,
   "id": "0b967e7c-4cb1-4f48-a318-2728938216b2",
   "metadata": {},
   "outputs": [
    {
     "name": "stdin",
     "output_type": "stream",
     "text": [
      "사과와 귤을 몇개 드릴까요? 10,20\n"
     ]
    },
    {
     "name": "stdout",
     "output_type": "stream",
     "text": [
      "14000\n"
     ]
    }
   ],
   "source": [
    "# 축약본\n",
    "how_much = list(input(\"사과와 귤을 몇개 드릴까요?\").split(','))\n",
    "how_much = list(map(int, how_much))\n",
    "print(how_much[0]*1000 + how_much[1]*200)"
   ]
  },
  {
   "cell_type": "code",
   "execution_count": 46,
   "id": "7b736326-aefd-4ed0-8eb8-cb9036ae17d0",
   "metadata": {},
   "outputs": [
    {
     "name": "stdin",
     "output_type": "stream",
     "text": [
      "사과와 귤을 몇개 드릴까요? 10,20\n"
     ]
    },
    {
     "data": {
      "text/plain": [
       "int"
      ]
     },
     "execution_count": 46,
     "metadata": {},
     "output_type": "execute_result"
    }
   ],
   "source": [
    "# 쌤 풀이\n",
    "price1 = 1000\n",
    "price2 = 200\n",
    "fruit1, fruit2 = map(int,input(\"사과와 귤을 몇개 드릴까요?\").split(','))\n",
    "type(fruit1)"
   ]
  },
  {
   "cell_type": "code",
   "execution_count": 47,
   "id": "2dcd6639-d369-47ba-b093-315bdb47cf2f",
   "metadata": {},
   "outputs": [
    {
     "name": "stdout",
     "output_type": "stream",
     "text": [
      "나는 자연인이었지만 지금은 문명인이다\n",
      "나는 1이고 자연인이고 True이다\n",
      "나는 (1, 2, 3)이었지만 지금은 [1, 2, 3], 123이다\n"
     ]
    }
   ],
   "source": [
    "# 쩜 포맷 \n",
    "\n",
    "print(\"나는 {}이었지만 지금은 {}이다\".format('자연인', '문명인'))\n",
    "print(\"나는 {}이고 {}이고 {}이다\".format(1,'자연인',True))\n",
    "a = 123\n",
    "print(\"나는 {}이었지만 지금은 {}, {}이다\".format((1,2,3),[1,2,3], a))"
   ]
  },
  {
   "cell_type": "code",
   "execution_count": 51,
   "id": "7f37f1b2-2e45-44d3-a20f-d0a2fcc71a38",
   "metadata": {},
   "outputs": [
    {
     "name": "stdout",
     "output_type": "stream",
     "text": [
      "나는 123살이고 오렌지를 좋아한다.\n",
      "        나는 123살이고 \n",
      "        오렌지를 좋아한다.        \n"
     ]
    }
   ],
   "source": [
    "# f-string\n",
    "a = 123\n",
    "b = '오렌지'\n",
    "print(f\"나는 {a}살이고 {b}를 좋아한다.\")\n",
    "print(f\"\"\"\\\n",
    "        나는 {a}살이고 \n",
    "        {b}를 좋아한다.\\\n",
    "        \"\"\")"
   ]
  },
  {
   "cell_type": "code",
   "execution_count": 17,
   "id": "494f5d62-dd71-475f-9361-03afaa13e9a0",
   "metadata": {},
   "outputs": [
    {
     "name": "stdout",
     "output_type": "stream",
     "text": [
      "1\n",
      "0\n"
     ]
    }
   ],
   "source": [
    "if '3':\n",
    "    print(1)\n",
    "\n",
    "print(0)\n",
    "    \n",
    "if '':\n",
    "    print(1)\n",
    "# 문자열의 경우 값이 있으면 True로 판단하도록 설계되어 있어요^^\n",
    "# ''의 경우도 한번 테스트해보세요~~\n",
    "# ''는 빈 스트링 값입니다\n",
    "# 작은 따옴표 두개 연속으로 작성한 거에요"
   ]
  },
  {
   "cell_type": "code",
   "execution_count": null,
   "id": "17655b15-6370-4736-8993-20bb2f70e460",
   "metadata": {},
   "outputs": [],
   "source": []
  }
 ],
 "metadata": {
  "kernelspec": {
   "display_name": "Python 3 (ipykernel)",
   "language": "python",
   "name": "python3"
  },
  "language_info": {
   "codemirror_mode": {
    "name": "ipython",
    "version": 3
   },
   "file_extension": ".py",
   "mimetype": "text/x-python",
   "name": "python",
   "nbconvert_exporter": "python",
   "pygments_lexer": "ipython3",
   "version": "3.9.13"
  }
 },
 "nbformat": 4,
 "nbformat_minor": 5
}

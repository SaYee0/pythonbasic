{
 "cells": [
  {
   "cell_type": "code",
   "execution_count": 2,
   "id": "1e9ef420-6581-44f4-90e5-a34677a31173",
   "metadata": {},
   "outputs": [
    {
     "name": "stdout",
     "output_type": "stream",
     "text": [
      "1\n"
     ]
    }
   ],
   "source": [
    "x=1\n",
    "print(x)"
   ]
  },
  {
   "cell_type": "code",
   "execution_count": 5,
   "id": "2d5a0ff7-ce56-43fb-9795-21795c5ec576",
   "metadata": {},
   "outputs": [
    {
     "name": "stdout",
     "output_type": "stream",
     "text": [
      "#이것은 주석이 아니다. 따옴표 안은 문자열 리터럴이다!\n"
     ]
    }
   ],
   "source": [
    "text = \"#이것은 주석이 아니다. 따옴표 안은 문자열 리터럴이다!\"\n",
    "print(text)"
   ]
  },
  {
   "cell_type": "code",
   "execution_count": 6,
   "id": "abb0f488-16fa-4312-8c87-0d298e23c21f",
   "metadata": {},
   "outputs": [
    {
     "name": "stdout",
     "output_type": "stream",
     "text": [
      "Hello, world!\n",
      "Hello, world!\n",
      "Python Programming\n"
     ]
    }
   ],
   "source": [
    "print(\"Hello, world!\")\n",
    "print(\"Hello, world!\")\n",
    "print(\"Python Programming\")"
   ]
  },
  {
   "cell_type": "code",
   "execution_count": 13,
   "id": "ef74adf7-b1e3-48bf-93f9-2355a901290d",
   "metadata": {},
   "outputs": [
    {
     "name": "stdout",
     "output_type": "stream",
     "text": [
      "Hello world!\n",
      "Hello world!\n",
      "Python programming\n"
     ]
    }
   ],
   "source": [
    "text1 = \"Hello world!\"\n",
    "text2 = \"Hello world!\"\n",
    "text3 = \"Python programming\"\n",
    "\n",
    "print(text1)\n",
    "print(text2)\n",
    "print(text3)"
   ]
  },
  {
   "cell_type": "code",
   "execution_count": 15,
   "id": "f27bde4c-90e5-473d-a5f8-84ec6737e77d",
   "metadata": {},
   "outputs": [
    {
     "name": "stdout",
     "output_type": "stream",
     "text": [
      "Hello world! \n",
      "Hello world! \n",
      "Python Programming\n"
     ]
    }
   ],
   "source": [
    "print(\"Hello world! \\nHello world! \\nPython Programming\")"
   ]
  },
  {
   "cell_type": "code",
   "execution_count": 16,
   "id": "b43276ca-ef88-48c6-9933-f60654bc3550",
   "metadata": {},
   "outputs": [
    {
     "name": "stdout",
     "output_type": "stream",
     "text": [
      "89\n"
     ]
    }
   ],
   "source": [
    "print(13+(22-3)*4)"
   ]
  },
  {
   "cell_type": "code",
   "execution_count": 18,
   "id": "57d935fb-82cb-45a5-880b-17b500380304",
   "metadata": {},
   "outputs": [
    {
     "name": "stdout",
     "output_type": "stream",
     "text": [
      "28.2\n"
     ]
    }
   ],
   "source": [
    "print(13+((22-3)*4)/5)"
   ]
  },
  {
   "cell_type": "code",
   "execution_count": 19,
   "id": "f2a7e747-b85e-4c7c-b214-5f5fdf7f64c9",
   "metadata": {},
   "outputs": [
    {
     "name": "stdout",
     "output_type": "stream",
     "text": [
      "89\n",
      "28.2\n"
     ]
    }
   ],
   "source": [
    "ans1 = 13+(22-3)*4\n",
    "ans2 = 13+((22-3)*4)/5\n",
    "\n",
    "print(ans1)\n",
    "print(ans2)"
   ]
  },
  {
   "cell_type": "code",
   "execution_count": 20,
   "id": "62c40ce0-adb8-4e67-ab98-7433b3d9a38f",
   "metadata": {},
   "outputs": [
    {
     "name": "stdout",
     "output_type": "stream",
     "text": [
      "2\n",
      "1\n"
     ]
    }
   ],
   "source": [
    "print(7//3)\n",
    "print(7%3)"
   ]
  },
  {
   "cell_type": "code",
   "execution_count": 21,
   "id": "dfea03b9-5ef3-4f03-aec3-c75cb4b93aa3",
   "metadata": {},
   "outputs": [
    {
     "name": "stdout",
     "output_type": "stream",
     "text": [
      "64\n"
     ]
    }
   ],
   "source": [
    "print(2**6)"
   ]
  },
  {
   "cell_type": "code",
   "execution_count": 22,
   "id": "f86bfee9-724c-4591-91bf-ee9c94f219fe",
   "metadata": {},
   "outputs": [
    {
     "name": "stdout",
     "output_type": "stream",
     "text": [
      "1.7320508075688772\n"
     ]
    }
   ],
   "source": [
    "print(3**(1/2))"
   ]
  },
  {
   "cell_type": "code",
   "execution_count": 23,
   "id": "728437c0-2129-4175-8d7a-11ab01ce7c48",
   "metadata": {},
   "outputs": [
    {
     "name": "stdout",
     "output_type": "stream",
     "text": [
      "1\n"
     ]
    }
   ],
   "source": [
    "print(int(3**(1/2)))"
   ]
  },
  {
   "cell_type": "code",
   "execution_count": 24,
   "id": "3b4d121b-fc55-4d38-b6be-cb13ac028fdc",
   "metadata": {},
   "outputs": [
    {
     "name": "stdout",
     "output_type": "stream",
     "text": [
      "ab\n"
     ]
    }
   ],
   "source": [
    "print('a'+'b')"
   ]
  },
  {
   "cell_type": "code",
   "execution_count": 25,
   "id": "68016783-8e4f-431c-a453-173dc0ee7875",
   "metadata": {},
   "outputs": [
    {
     "name": "stdout",
     "output_type": "stream",
     "text": [
      "6\n"
     ]
    }
   ],
   "source": [
    "print(3+3)"
   ]
  },
  {
   "cell_type": "code",
   "execution_count": 26,
   "id": "4eb6eb10-0439-49f9-9f7a-d0e05c63c544",
   "metadata": {},
   "outputs": [
    {
     "name": "stdout",
     "output_type": "stream",
     "text": [
      "33\n"
     ]
    }
   ],
   "source": [
    "print('3'+'3')"
   ]
  },
  {
   "cell_type": "code",
   "execution_count": 27,
   "id": "a713c7fc-be6c-42ee-a7d6-b662730558b5",
   "metadata": {},
   "outputs": [
    {
     "data": {
      "text/plain": [
       "3.0"
      ]
     },
     "execution_count": 27,
     "metadata": {},
     "output_type": "execute_result"
    }
   ],
   "source": [
    "float('3')"
   ]
  },
  {
   "cell_type": "code",
   "execution_count": 35,
   "id": "bc7d4985-69c8-4993-92a0-ec4c0ebd9f67",
   "metadata": {},
   "outputs": [
    {
     "name": "stdout",
     "output_type": "stream",
     "text": [
      "가장 시끄러운 층은 16 층\n"
     ]
    }
   ],
   "source": [
    "Distance = 12\n",
    "Loudest = 0.2467+Distance+4.159\n",
    "print('가장 시끄러운 층은',int(Loudest),'층')"
   ]
  },
  {
   "cell_type": "code",
   "execution_count": 36,
   "id": "a190836f-13cd-41a6-bdd9-7b3f0e3c5453",
   "metadata": {},
   "outputs": [
    {
     "name": "stdout",
     "output_type": "stream",
     "text": [
      "문장은 1 개다\n"
     ]
    }
   ],
   "source": [
    "print('문장은', 1, '개다')"
   ]
  },
  {
   "cell_type": "code",
   "execution_count": 37,
   "id": "7bababde-c772-40d9-8ca6-d9ee78afeee7",
   "metadata": {},
   "outputs": [
    {
     "ename": "TypeError",
     "evalue": "can only concatenate str (not \"int\") to str",
     "output_type": "error",
     "traceback": [
      "\u001b[1;31m---------------------------------------------------------------------------\u001b[0m",
      "\u001b[1;31mTypeError\u001b[0m                                 Traceback (most recent call last)",
      "\u001b[1;32m~\\AppData\\Local\\Temp\\ipykernel_7120\\210272434.py\u001b[0m in \u001b[0;36m<module>\u001b[1;34m\u001b[0m\n\u001b[1;32m----> 1\u001b[1;33m \u001b[0mprint\u001b[0m\u001b[1;33m(\u001b[0m\u001b[1;34m'문장은'\u001b[0m\u001b[1;33m+\u001b[0m\u001b[1;36m1\u001b[0m\u001b[1;33m+\u001b[0m\u001b[1;34m'개다'\u001b[0m\u001b[1;33m)\u001b[0m\u001b[1;33m\u001b[0m\u001b[1;33m\u001b[0m\u001b[0m\n\u001b[0m",
      "\u001b[1;31mTypeError\u001b[0m: can only concatenate str (not \"int\") to str"
     ]
    }
   ],
   "source": [
    "print('문장은'+1+'개다')"
   ]
  },
  {
   "cell_type": "code",
   "execution_count": 38,
   "id": "ab167cb9-9a59-4fa6-89b2-4441c713a0d2",
   "metadata": {},
   "outputs": [
    {
     "name": "stdout",
     "output_type": "stream",
     "text": [
      "문장은 1 개다\n"
     ]
    }
   ],
   "source": [
    "print('문장은', '1', '개다')"
   ]
  },
  {
   "cell_type": "code",
   "execution_count": 39,
   "id": "09aece48-f88a-4f58-8825-8ba4021c03d3",
   "metadata": {},
   "outputs": [
    {
     "name": "stdout",
     "output_type": "stream",
     "text": [
      "문장은 1.5 개다\n"
     ]
    }
   ],
   "source": [
    "print('문장은', 1.5, '개다')"
   ]
  },
  {
   "cell_type": "code",
   "execution_count": 41,
   "id": "44b502dd-5e9d-4999-bf1b-8d3944affb8e",
   "metadata": {},
   "outputs": [
    {
     "name": "stdout",
     "output_type": "stream",
     "text": [
      "문장은 1.5 24 개다\n"
     ]
    }
   ],
   "source": [
    "print('문장은',1.5,24,'개다')"
   ]
  },
  {
   "cell_type": "code",
   "execution_count": 42,
   "id": "5114de8b-8899-490d-86ce-1716cfd213c3",
   "metadata": {},
   "outputs": [
    {
     "name": "stdout",
     "output_type": "stream",
     "text": [
      "냉장고 가격은 1272000 원 입니다\n"
     ]
    }
   ],
   "source": [
    "price = 53000 * 24\n",
    "print('냉장고 가격은',price,'원 입니다')"
   ]
  },
  {
   "cell_type": "code",
   "execution_count": 43,
   "id": "045cf5b0-55f5-461d-abe1-541eae687903",
   "metadata": {},
   "outputs": [
    {
     "name": "stdout",
     "output_type": "stream",
     "text": [
      "냉장고 가격은 1272000 원 입니다\n"
     ]
    }
   ],
   "source": [
    "print('냉장고 가격은',53000*24,'원 입니다')"
   ]
  },
  {
   "cell_type": "code",
   "execution_count": 46,
   "id": "75586fa6-6c9d-4a37-9ed3-efc88375ef53",
   "metadata": {},
   "outputs": [
    {
     "name": "stdout",
     "output_type": "stream",
     "text": [
      "냉장고 가격은 1272000 원 입니다\n"
     ]
    }
   ],
   "source": [
    "print('냉장고 가격은',str(53000*24),'원 입니다')"
   ]
  },
  {
   "cell_type": "code",
   "execution_count": 49,
   "id": "0e5e0fec-6c15-4258-9823-d3ede0c8e6a6",
   "metadata": {},
   "outputs": [
    {
     "name": "stdout",
     "output_type": "stream",
     "text": [
      "냉장고 가격은 1272000 원 입니다\n",
      "\n",
      "냉장고 가격은 1272000 원 입니다\n",
      "\n"
     ]
    }
   ],
   "source": [
    "print('냉장고 가격은',53000*24,'원 입니다')\n",
    "print()\n",
    "print('냉장고 가격은',str(53000*24),'원 입니다')\n",
    "print()"
   ]
  },
  {
   "cell_type": "code",
   "execution_count": 51,
   "id": "47d983b7-af63-4789-936f-71910fb5958e",
   "metadata": {},
   "outputs": [
    {
     "name": "stdout",
     "output_type": "stream",
     "text": [
      "총 지불해야 할 금액은 1500000 원 입니다.\n"
     ]
    }
   ],
   "source": [
    "people = 250\n",
    "tax = 0.1\n",
    "print('총 지불해야 할 금액은',int(20000*3*people*tax),'원 입니다.')"
   ]
  },
  {
   "cell_type": "code",
   "execution_count": 52,
   "id": "a392548b-ec8a-4b53-8289-65c0d1f1a109",
   "metadata": {},
   "outputs": [
    {
     "data": {
      "text/plain": [
       "11"
      ]
     },
     "execution_count": 52,
     "metadata": {},
     "output_type": "execute_result"
    }
   ],
   "source": [
    "1+10"
   ]
  },
  {
   "cell_type": "code",
   "execution_count": 53,
   "id": "c08ef689-7e3e-4045-a78f-4772a65e6f35",
   "metadata": {},
   "outputs": [
    {
     "data": {
      "text/plain": [
       "bool"
      ]
     },
     "execution_count": 53,
     "metadata": {},
     "output_type": "execute_result"
    }
   ],
   "source": [
    "type(True)"
   ]
  },
  {
   "cell_type": "code",
   "execution_count": 54,
   "id": "2c2404d1-9c35-4161-a7bb-168307931c3c",
   "metadata": {},
   "outputs": [
    {
     "data": {
      "text/plain": [
       "str"
      ]
     },
     "execution_count": 54,
     "metadata": {},
     "output_type": "execute_result"
    }
   ],
   "source": [
    "type('True')"
   ]
  },
  {
   "cell_type": "code",
   "execution_count": 56,
   "id": "45b9fbd9-bc6c-4e38-89e9-828397d739c2",
   "metadata": {},
   "outputs": [
    {
     "name": "stdout",
     "output_type": "stream",
     "text": [
      "\"안녕하세요\"라고 말했습니다\n"
     ]
    }
   ],
   "source": [
    "print(\"\\\"안녕하세요\\\"라고 말했습니다\")"
   ]
  },
  {
   "cell_type": "code",
   "execution_count": 57,
   "id": "e4fe166c-09a2-49bb-bed2-add1fd43db43",
   "metadata": {},
   "outputs": [
    {
     "name": "stdout",
     "output_type": "stream",
     "text": [
      "'안녕하세요'라고 말했습니다\n"
     ]
    }
   ],
   "source": [
    "print(\"'안녕하세요'라고 말했습니다\")"
   ]
  },
  {
   "cell_type": "code",
   "execution_count": 58,
   "id": "e7c89052-fc24-4899-9315-a29a12a39690",
   "metadata": {},
   "outputs": [
    {
     "ename": "SyntaxError",
     "evalue": "invalid syntax (421217014.py, line 1)",
     "output_type": "error",
     "traceback": [
      "\u001b[1;36m  File \u001b[1;32m\"C:\\Users\\Playdata\\AppData\\Local\\Temp\\ipykernel_7120\\421217014.py\"\u001b[1;36m, line \u001b[1;32m1\u001b[0m\n\u001b[1;33m    print(''안녕하세요'라고 말했습니다')\u001b[0m\n\u001b[1;37m            ^\u001b[0m\n\u001b[1;31mSyntaxError\u001b[0m\u001b[1;31m:\u001b[0m invalid syntax\n"
     ]
    }
   ],
   "source": [
    "print(''안녕하세요'라고 말했습니다')"
   ]
  },
  {
   "cell_type": "code",
   "execution_count": 59,
   "id": "878c8017-a3bf-495d-af82-8d3594b16533",
   "metadata": {},
   "outputs": [
    {
     "name": "stdout",
     "output_type": "stream",
     "text": [
      "'안녕하세요'라고 말했습니다\n"
     ]
    }
   ],
   "source": [
    "print('\\'안녕하세요\\'라고 말했습니다')"
   ]
  },
  {
   "cell_type": "code",
   "execution_count": 60,
   "id": "a200537d-8900-417b-8582-619682e50172",
   "metadata": {},
   "outputs": [
    {
     "name": "stdout",
     "output_type": "stream",
     "text": [
      "총 지불해야 할 금액은 16500000 원 입니다.\n"
     ]
    }
   ],
   "source": [
    "people = 250\n",
    "tax = 0.1\n",
    "print('총 지불해야 할 금액은',int(20000*3*people*(1+tax)),'원 입니다.')"
   ]
  },
  {
   "cell_type": "code",
   "execution_count": 62,
   "id": "15dc0abe-9fb7-4dc1-a2e2-83027ad7c0fa",
   "metadata": {},
   "outputs": [
    {
     "name": "stdout",
     "output_type": "stream",
     "text": [
      "0b10001\n"
     ]
    }
   ],
   "source": [
    "print(bin(17))"
   ]
  },
  {
   "cell_type": "code",
   "execution_count": 63,
   "id": "c3f3f496-579e-4d73-afa2-e02f8d2975bd",
   "metadata": {},
   "outputs": [
    {
     "data": {
      "text/plain": [
       "'0b10001'"
      ]
     },
     "execution_count": 63,
     "metadata": {},
     "output_type": "execute_result"
    }
   ],
   "source": [
    "bin(17)"
   ]
  },
  {
   "cell_type": "code",
   "execution_count": 69,
   "id": "0d464a15-3441-4b0d-984d-3ab6cdc97e41",
   "metadata": {},
   "outputs": [
    {
     "name": "stdout",
     "output_type": "stream",
     "text": [
      "1.4142135623730951\n"
     ]
    }
   ],
   "source": [
    "print(str(2**(1/2)))"
   ]
  },
  {
   "cell_type": "code",
   "execution_count": 71,
   "id": "d4f4fe7a-781c-44f1-9e0f-0cb9ba1ba87b",
   "metadata": {},
   "outputs": [
    {
     "name": "stdout",
     "output_type": "stream",
     "text": [
      "총 피해량 = 453\n"
     ]
    }
   ],
   "source": [
    "AP = 380\n",
    "Dam = AP * 0.6 + 225\n",
    "print('총 피해량 =',int(Dam))"
   ]
  },
  {
   "cell_type": "code",
   "execution_count": 74,
   "id": "12f34055-2af9-48c4-b08f-bd0e6ad0c079",
   "metadata": {},
   "outputs": [
    {
     "name": "stdout",
     "output_type": "stream",
     "text": [
      "총 피해량 = 453\n"
     ]
    }
   ],
   "source": [
    "AP = 380\n",
    "Dam = AP * 0.6 + 225\n",
    "print('총 피해량 =',int(Dam))"
   ]
  },
  {
   "cell_type": "code",
   "execution_count": 75,
   "id": "a76e3311-550b-4ca5-a899-1f40a7148e53",
   "metadata": {},
   "outputs": [
    {
     "name": "stdout",
     "output_type": "stream",
     "text": [
      "동해물과\n",
      "백두산이\n",
      "마르고 \n",
      "닳도록\n"
     ]
    }
   ],
   "source": [
    "print(\"\"\"동해물과\n",
    "백두산이\n",
    "마르고 \n",
    "닳도록\"\"\")"
   ]
  },
  {
   "cell_type": "code",
   "execution_count": 76,
   "id": "72285847-3f3a-4161-9d88-79dd853838aa",
   "metadata": {},
   "outputs": [
    {
     "name": "stdout",
     "output_type": "stream",
     "text": [
      "\n",
      "동해물과\n",
      "백두산이\n",
      "마르고 \n",
      "닳도록\n",
      "\n"
     ]
    }
   ],
   "source": [
    "print(\"\"\"\n",
    "동해물과\n",
    "백두산이\n",
    "마르고 \n",
    "닳도록\n",
    "\"\"\")"
   ]
  },
  {
   "cell_type": "code",
   "execution_count": 77,
   "id": "24ca747d-f2e6-4dec-af1a-ef83d23fe9cb",
   "metadata": {},
   "outputs": [
    {
     "name": "stdout",
     "output_type": "stream",
     "text": [
      "동해물과\n",
      "백두산이\n",
      "마르고 \n",
      "닳도록\n"
     ]
    }
   ],
   "source": [
    "print(\"\"\"\\\n",
    "동해물과\n",
    "백두산이\n",
    "마르고 \n",
    "닳도록\\\n",
    "\"\"\")"
   ]
  },
  {
   "cell_type": "code",
   "execution_count": 79,
   "id": "cfed4652-c5b7-480d-91ce-c7ff4ddb22c5",
   "metadata": {},
   "outputs": [
    {
     "name": "stdout",
     "output_type": "stream",
     "text": [
      "동해물과\n",
      "백두산이\n",
      "마르고 \n",
      "닳도록\n"
     ]
    }
   ],
   "source": [
    "print(\"\"\"\\\n",
    "동해물과\n",
    "백두산이\n",
    "마르고 \n",
    "닳도록\\\n",
    "\"\"\")"
   ]
  },
  {
   "cell_type": "code",
   "execution_count": 83,
   "id": "1e42ca09-a085-4ada-a0e7-5734e310a21d",
   "metadata": {},
   "outputs": [
    {
     "name": "stdout",
     "output_type": "stream",
     "text": [
      "30\n"
     ]
    }
   ],
   "source": [
    "a=10\n",
    "a=a+20\n",
    "print(a)"
   ]
  },
  {
   "cell_type": "code",
   "execution_count": 87,
   "id": "a33020a5-08d8-407d-8b8c-da05f96df726",
   "metadata": {},
   "outputs": [
    {
     "ename": "NameError",
     "evalue": "name 'a' is not defined",
     "output_type": "error",
     "traceback": [
      "\u001b[1;31m---------------------------------------------------------------------------\u001b[0m",
      "\u001b[1;31mNameError\u001b[0m                                 Traceback (most recent call last)",
      "\u001b[1;32m~\\AppData\\Local\\Temp\\ipykernel_7120\\1497285116.py\u001b[0m in \u001b[0;36m<module>\u001b[1;34m\u001b[0m\n\u001b[1;32m----> 1\u001b[1;33m \u001b[1;32mdel\u001b[0m \u001b[0ma\u001b[0m\u001b[1;33m\u001b[0m\u001b[1;33m\u001b[0m\u001b[0m\n\u001b[0m\u001b[0;32m      2\u001b[0m \u001b[0mprint\u001b[0m\u001b[1;33m(\u001b[0m\u001b[0ma\u001b[0m\u001b[1;33m)\u001b[0m\u001b[1;33m\u001b[0m\u001b[1;33m\u001b[0m\u001b[0m\n",
      "\u001b[1;31mNameError\u001b[0m: name 'a' is not defined"
     ]
    }
   ],
   "source": [
    "del a\n",
    "print(a)"
   ]
  },
  {
   "cell_type": "code",
   "execution_count": 88,
   "id": "5d71989f-6c95-42b6-9945-366e22079325",
   "metadata": {},
   "outputs": [
    {
     "name": "stdout",
     "output_type": "stream",
     "text": [
      "20\n"
     ]
    }
   ],
   "source": [
    "a=10\n",
    "a+=10\n",
    "print(a)"
   ]
  },
  {
   "cell_type": "code",
   "execution_count": 89,
   "id": "e97d2262-8026-4cdf-875d-d768b771b2d9",
   "metadata": {},
   "outputs": [
    {
     "name": "stdout",
     "output_type": "stream",
     "text": [
      "100\n"
     ]
    }
   ],
   "source": [
    "a=10\n",
    "a*=10\n",
    "print(a)"
   ]
  },
  {
   "cell_type": "code",
   "execution_count": 90,
   "id": "e128a0da-eb57-450a-a3e6-cb6b7c35904d",
   "metadata": {},
   "outputs": [
    {
     "name": "stdout",
     "output_type": "stream",
     "text": [
      "None\n"
     ]
    }
   ],
   "source": [
    "a=None\n",
    "print(a)"
   ]
  },
  {
   "cell_type": "code",
   "execution_count": 91,
   "id": "62b00465-2369-4655-b91b-33e2c67b0f26",
   "metadata": {},
   "outputs": [
    {
     "name": "stdout",
     "output_type": "stream",
     "text": [
      "\"안녕?\"이라는 그 인사를 듣고 나는 '누구지?'라고 생각했다.\n"
     ]
    }
   ],
   "source": [
    "print(\"\\\"안녕?\\\"이라는 그 인사를 듣고 나는 '누구지?'라고 생각했다.\")"
   ]
  },
  {
   "cell_type": "code",
   "execution_count": null,
   "id": "06de7ea9-db02-4f50-87eb-07b688c23718",
   "metadata": {},
   "outputs": [],
   "source": []
  }
 ],
 "metadata": {
  "kernelspec": {
   "display_name": "Python 3 (ipykernel)",
   "language": "python",
   "name": "python3"
  },
  "language_info": {
   "codemirror_mode": {
    "name": "ipython",
    "version": 3
   },
   "file_extension": ".py",
   "mimetype": "text/x-python",
   "name": "python",
   "nbconvert_exporter": "python",
   "pygments_lexer": "ipython3",
   "version": "3.9.13"
  }
 },
 "nbformat": 4,
 "nbformat_minor": 5
}

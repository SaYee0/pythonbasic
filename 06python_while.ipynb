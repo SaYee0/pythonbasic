{
 "cells": [
  {
   "cell_type": "code",
   "execution_count": 1,
   "id": "4984c0d2-abbd-4420-aef2-29b8076e3f02",
   "metadata": {},
   "outputs": [
    {
     "name": "stdout",
     "output_type": "stream",
     "text": [
      "0\n",
      "1\n",
      "2\n",
      "3\n",
      "4\n",
      "5\n",
      "6\n",
      "7\n",
      "8\n",
      "9\n"
     ]
    }
   ],
   "source": [
    "i = 0\n",
    "while i < 10:\n",
    "    print(i)\n",
    "    i += 1"
   ]
  },
  {
   "cell_type": "code",
   "execution_count": 2,
   "id": "a994226f-7077-4dbb-bea6-eec91b8645cb",
   "metadata": {},
   "outputs": [
    {
     "name": "stdout",
     "output_type": "stream",
     "text": [
      "1번째 반복입니다.\n"
     ]
    },
    {
     "name": "stdin",
     "output_type": "stream",
     "text": [
      "종료하시겠습니까(y/n) n\n"
     ]
    },
    {
     "name": "stdout",
     "output_type": "stream",
     "text": [
      "2번째 반복입니다.\n"
     ]
    },
    {
     "name": "stdin",
     "output_type": "stream",
     "text": [
      "종료하시겠습니까(y/n) n\n"
     ]
    },
    {
     "name": "stdout",
     "output_type": "stream",
     "text": [
      "3번째 반복입니다.\n"
     ]
    },
    {
     "name": "stdin",
     "output_type": "stream",
     "text": [
      "종료하시겠습니까(y/n) n\n"
     ]
    },
    {
     "name": "stdout",
     "output_type": "stream",
     "text": [
      "4번째 반복입니다.\n"
     ]
    },
    {
     "name": "stdin",
     "output_type": "stream",
     "text": [
      "종료하시겠습니까(y/n) n\n"
     ]
    },
    {
     "name": "stdout",
     "output_type": "stream",
     "text": [
      "5번째 반복입니다.\n"
     ]
    },
    {
     "name": "stdin",
     "output_type": "stream",
     "text": [
      "종료하시겠습니까(y/n) n\n"
     ]
    },
    {
     "name": "stdout",
     "output_type": "stream",
     "text": [
      "6번째 반복입니다.\n"
     ]
    },
    {
     "name": "stdin",
     "output_type": "stream",
     "text": [
      "종료하시겠습니까(y/n) \n"
     ]
    },
    {
     "name": "stdout",
     "output_type": "stream",
     "text": [
      "7번째 반복입니다.\n"
     ]
    },
    {
     "name": "stdin",
     "output_type": "stream",
     "text": [
      "종료하시겠습니까(y/n) \n"
     ]
    },
    {
     "name": "stdout",
     "output_type": "stream",
     "text": [
      "8번째 반복입니다.\n"
     ]
    },
    {
     "name": "stdin",
     "output_type": "stream",
     "text": [
      "종료하시겠습니까(y/n) y\n"
     ]
    },
    {
     "name": "stdout",
     "output_type": "stream",
     "text": [
      "반복을 종료합니다.\n"
     ]
    }
   ],
   "source": [
    "i = 0 \n",
    "while True :\n",
    "    i += 1\n",
    "    print(f\"{i}번째 반복입니다.\")\n",
    "    answer = input(\"종료하시겠습니까(y/n)\")\n",
    "    if answer in [\"y\", \"Y\"]:\n",
    "        print(\"반복을 종료합니다.\")\n",
    "        break"
   ]
  },
  {
   "cell_type": "code",
   "execution_count": 4,
   "id": "7b92b264-3848-4ee6-90e1-7ac0e05e638a",
   "metadata": {},
   "outputs": [
    {
     "name": "stdout",
     "output_type": "stream",
     "text": [
      "10\n",
      "9\n",
      "8\n",
      "-6\n"
     ]
    }
   ],
   "source": [
    "a = [10, 15, 9, 8, -6, 36]\n",
    "\n",
    "for i in a :\n",
    "    if i > 10 :\n",
    "        continue\n",
    "    print(i)"
   ]
  },
  {
   "cell_type": "code",
   "execution_count": 6,
   "id": "18e8d9be-20bd-4147-ba89-d575f7248126",
   "metadata": {},
   "outputs": [
    {
     "name": "stdout",
     "output_type": "stream",
     "text": [
      "2\t4\t6\t8\t10\t12\t14\t16\t18\t20\t22\t24\t26\t28\t30\t32\t34\t36\t38\t40\t42\t44\t46\t48\t50\t52\t54\t56\t58\t60\t62\t64\t66\t68\t70\t72\t74\t76\t78\t80\t82\t84\t86\t88\t90\t92\t94\t96\t98\t100\t"
     ]
    }
   ],
   "source": [
    "i = 2\n",
    "\n",
    "while i < 101:\n",
    "    print(i,end='\\t')\n",
    "    i += 2"
   ]
  },
  {
   "cell_type": "code",
   "execution_count": 8,
   "id": "677a635a-23bb-4d62-8e85-16c258a41a70",
   "metadata": {},
   "outputs": [
    {
     "name": "stdout",
     "output_type": "stream",
     "text": [
      "2\t4\t6\t8\t10\t12\t14\t16\t18\t20\t22\t24\t26\t28\t30\t32\t34\t36\t38\t40\t42\t44\t46\t48\t50\t52\t54\t56\t58\t60\t62\t64\t66\t68\t70\t72\t74\t76\t78\t80\t82\t84\t86\t88\t90\t92\t94\t96\t98\t100\t\n",
      "2\t4\t6\t8\t10\t12\t14\t16\t18\t20\t22\t24\t26\t28\t30\t32\t34\t36\t38\t40\t42\t44\t46\t48\t50\t52\t54\t56\t58\t60\t62\t64\t66\t68\t70\t72\t74\t76\t78\t80\t82\t84\t86\t88\t90\t92\t94\t96\t98\t100\t"
     ]
    }
   ],
   "source": [
    "for i in range(2,101,2):\n",
    "    print(i,end='\\t') \n",
    "    \n",
    "print()\n",
    "\n",
    "for j in range(2,101):\n",
    "    if j % 2 == 0:\n",
    "        print(j, end='\\t')"
   ]
  },
  {
   "cell_type": "code",
   "execution_count": 11,
   "id": "1695493a-7ad4-4142-b5cc-e2f0cda424a2",
   "metadata": {},
   "outputs": [
    {
     "name": "stdout",
     "output_type": "stream",
     "text": [
      "2 + 4 + 6 + 8 + 10 + 12 + 14 + 16 + 18 + 20 + 22 + 24 + 26 + 28 + 30 + 32 + 34 + 36 + 38 + 40 + 42 + 44 + 46 + 48 + 50 + 52 + 54 + 56 + 58 + 60 + 62 + 64 + 66 + 68 + 70 + 72 + 74 + 76 + 78 + 80 + 82 + 84 + 86 + 88 + 90 + 92 + 94 + 96 + 98 + 100 = 2550\n"
     ]
    }
   ],
   "source": [
    "i = 2\n",
    "result = 0\n",
    "\n",
    "while i < 101:\n",
    "    result += i\n",
    "    if i != 100:\n",
    "        print(i,'+',end=' ')\n",
    "    else:\n",
    "        print(i,'=', end=' ')\n",
    "    i += 2\n",
    "print(result)"
   ]
  },
  {
   "cell_type": "code",
   "execution_count": 21,
   "id": "03a9077c-ea5c-4843-b8a9-a5465507ac78",
   "metadata": {},
   "outputs": [
    {
     "name": "stdin",
     "output_type": "stream",
     "text": [
      "구구단을 알려드립니다. 숫자를 입력하세요 9\n"
     ]
    },
    {
     "name": "stdout",
     "output_type": "stream",
     "text": [
      "9 * 1 = 9\n",
      "9 * 2 = 18\n",
      "9 * 3 = 27\n",
      "9 * 4 = 36\n",
      "9 * 5 = 45\n",
      "9 * 6 = 54\n",
      "9 * 7 = 63\n",
      "9 * 8 = 72\n",
      "9 * 9 = 81\n"
     ]
    }
   ],
   "source": [
    "# while문 구구단 \n",
    "\n",
    "num = int(input(\"구구단을 알려드립니다. 숫자를 입력하세요\"))\n",
    "\n",
    "i = 1\n",
    "while i < 10:\n",
    "    print(num, \"*\", i, \"=\", num*i)\n",
    "    i += 1"
   ]
  },
  {
   "cell_type": "code",
   "execution_count": 30,
   "id": "d8ccf02f-a402-47f7-a32a-8e533fdc4ca0",
   "metadata": {},
   "outputs": [
    {
     "name": "stdout",
     "output_type": "stream",
     "text": [
      "10 20 30 40 50 "
     ]
    }
   ],
   "source": [
    "# for문을 사용한 인덱싱\n",
    "a = [10,20,30,40,50]\n",
    "for i in range(len(a)):\n",
    "    print(a[i], end=' ')"
   ]
  },
  {
   "cell_type": "code",
   "execution_count": 31,
   "id": "1d2d9c4b-d3cc-4b24-ade1-4438d7085c6d",
   "metadata": {},
   "outputs": [
    {
     "name": "stdout",
     "output_type": "stream",
     "text": [
      "10 20 30 40 50 "
     ]
    }
   ],
   "source": [
    "# while문을 사용한 인덱싱\n",
    "a = [10,20,30,40,50]\n",
    "x = 0\n",
    "while x < len(a):\n",
    "    print(a[x], end=' ')\n",
    "    x += 1"
   ]
  },
  {
   "cell_type": "code",
   "execution_count": 3,
   "id": "1b4ed511-a24c-4a0f-b900-abce5c15c2b1",
   "metadata": {},
   "outputs": [
    {
     "name": "stdout",
     "output_type": "stream",
     "text": [
      "1 2 3 4 5 6 7 8 9 10 \n",
      "1 2 3 4 5 6 7 8 9 10 "
     ]
    }
   ],
   "source": [
    "# for문\n",
    "\n",
    "for i in range(1,11):\n",
    "    print(i, end=\" \")\n",
    "    \n",
    "print()\n",
    "\n",
    "# while 문\n",
    "j = 1\n",
    "while j < 11:\n",
    "    print(j, end = \" \")\n",
    "    j += 1"
   ]
  },
  {
   "cell_type": "code",
   "execution_count": 12,
   "id": "1ae2f93a-112c-4bcf-a29d-7d46a3676d1f",
   "metadata": {},
   "outputs": [
    {
     "name": "stdout",
     "output_type": "stream",
     "text": [
      "79.0\n"
     ]
    }
   ],
   "source": [
    "class_a = (70, 60, 55, 75, 95, 90, 80, 80, 85, 100)\n",
    "\n",
    "i = 0\n",
    "sum = 0 \n",
    "\n",
    "while i < len(class_a):\n",
    "    sum += class_a[i]\n",
    "    i += 1\n",
    "print(sum / len(class_a))"
   ]
  },
  {
   "cell_type": "code",
   "execution_count": 20,
   "id": "ada7399b-85e2-4607-adcf-140f3b458a0d",
   "metadata": {},
   "outputs": [
    {
     "name": "stdout",
     "output_type": "stream",
     "text": [
      "101\n",
      "5050\n"
     ]
    }
   ],
   "source": [
    "i = 0\n",
    "total = 0 \n",
    "while True:\n",
    "    total += i \n",
    "    i += 1 \n",
    "    if i > 100:\n",
    "        break\n",
    "print(i)\n",
    "print(total)"
   ]
  },
  {
   "cell_type": "code",
   "execution_count": 21,
   "id": "093d0e0b-f26e-425f-8660-b767ef95cc88",
   "metadata": {},
   "outputs": [
    {
     "name": "stdout",
     "output_type": "stream",
     "text": [
      "101\n",
      "5050\n"
     ]
    }
   ],
   "source": [
    "i = 0\n",
    "total = 0 \n",
    "while True:\n",
    "    if i > 100:\n",
    "        break \n",
    "    total += i \n",
    "    i += 1 \n",
    "print(i)\n",
    "print(total)"
   ]
  },
  {
   "cell_type": "code",
   "execution_count": null,
   "id": "da209f41-b17a-44a0-bac8-fb3100d64e2b",
   "metadata": {},
   "outputs": [
    {
     "name": "stdin",
     "output_type": "stream",
     "text": [
      "Q를 입력하면 종료됩니다. 1\n"
     ]
    },
    {
     "name": "stdout",
     "output_type": "stream",
     "text": [
      "다시 입력하세요\n"
     ]
    },
    {
     "name": "stdin",
     "output_type": "stream",
     "text": [
      "Q를 입력하면 종료됩니다. 2\n"
     ]
    },
    {
     "name": "stdout",
     "output_type": "stream",
     "text": [
      "다시 입력하세요\n"
     ]
    },
    {
     "name": "stdin",
     "output_type": "stream",
     "text": [
      "Q를 입력하면 종료됩니다. 3\n"
     ]
    },
    {
     "name": "stdout",
     "output_type": "stream",
     "text": [
      "다시 입력하세요\n"
     ]
    },
    {
     "name": "stdin",
     "output_type": "stream",
     "text": [
      "Q를 입력하면 종료됩니다. 4\n"
     ]
    },
    {
     "name": "stdout",
     "output_type": "stream",
     "text": [
      "다시 입력하세요\n"
     ]
    }
   ],
   "source": [
    "while True:\n",
    "    a = input(\"Q를 입력하면 종료됩니다.\")\n",
    "    if a in [\"Q\", \"q\"]: break\n",
    "    else: print(\"다시 입력하세요\")\n",
    "print(\"빠져나왔습니다\")"
   ]
  },
  {
   "cell_type": "code",
   "execution_count": 1,
   "id": "30b68176-ab6f-4afe-aa0f-5a5aec78efde",
   "metadata": {},
   "outputs": [
    {
     "name": "stdout",
     "output_type": "stream",
     "text": [
      "1\t3\t5\t7\t9\t11\t13\t15\t17\t19\t21\t23\t25\t27\t29\t31\t33\t35\t37\t39\t41\t43\t45\t47\t49\t51\t53\t55\t57\t59\t61\t63\t65\t67\t69\t71\t73\t75\t77\t79\t81\t83\t85\t87\t89\t91\t93\t95\t97\t99\t"
     ]
    }
   ],
   "source": [
    "for i in range(100):\n",
    "    if i % 2 == 1:\n",
    "        print(i, end = \"\\t\")"
   ]
  },
  {
   "cell_type": "code",
   "execution_count": 2,
   "id": "053c7e98-851a-47bc-9278-4e901514e6fe",
   "metadata": {},
   "outputs": [
    {
     "name": "stdout",
     "output_type": "stream",
     "text": [
      "1\t3\t5\t7\t9\t11\t13\t15\t17\t19\t21\t23\t25\t27\t29\t31\t33\t35\t37\t39\t41\t43\t45\t47\t49\t51\t53\t55\t57\t59\t61\t63\t65\t67\t69\t71\t73\t75\t77\t79\t81\t83\t85\t87\t89\t91\t93\t95\t97\t99\t"
     ]
    }
   ],
   "source": [
    "for i in range(100):\n",
    "    if i % 2 == 0:\n",
    "        continue\n",
    "    print(i, end = '\\t')"
   ]
  },
  {
   "cell_type": "code",
   "execution_count": 4,
   "id": "5b8fbe3c-d2c7-4b1b-a191-b6d014961187",
   "metadata": {},
   "outputs": [
    {
     "name": "stdin",
     "output_type": "stream",
     "text": [
      "두 정수를 a,b 형태로 입력하세요, 다만 a < b 12,45\n"
     ]
    },
    {
     "name": "stdout",
     "output_type": "stream",
     "text": [
      "['12', '45']\n",
      "12부터 45까지의 합은 969입니다.\n"
     ]
    }
   ],
   "source": [
    "num = input(\"두 정수를 a,b 형태로 입력하세요, 다만 a < b\").split(\",\")\n",
    "print(num)\n",
    "a = int(num[0])\n",
    "b = int(num[1])\n",
    "\n",
    "# for문\n",
    "sum = 0 \n",
    "for i in range(a, b+1):\n",
    "    sum += i\n",
    "print(f\"{a}부터 {b}까지의 합은 {sum}입니다.\")"
   ]
  },
  {
   "cell_type": "code",
   "execution_count": 6,
   "id": "03a5b218-e47f-408e-85ef-cbc09bc54dea",
   "metadata": {},
   "outputs": [
    {
     "name": "stdin",
     "output_type": "stream",
     "text": [
      "두 정수를 a,b 형태로 입력하세요, 다만 a < b 12,45\n"
     ]
    },
    {
     "name": "stdout",
     "output_type": "stream",
     "text": [
      "['12', '45']\n",
      "12부터 45까지의 합은 969입니다.\n"
     ]
    }
   ],
   "source": [
    "num = input(\"두 정수를 a,b 형태로 입력하세요, 다만 a < b\").split(\",\")\n",
    "print(num)\n",
    "a = int(num[0])\n",
    "b = int(num[1])\n",
    "\n",
    "# while문\n",
    "sum = 0 \n",
    "i = a\n",
    "while i <= b:\n",
    "    sum += i \n",
    "    i += 1\n",
    "print(f\"{a}부터 {b}까지의 합은 {sum}입니다.\")"
   ]
  },
  {
   "cell_type": "code",
   "execution_count": null,
   "id": "9e556061-d282-4feb-b0e5-712fa74a1085",
   "metadata": {},
   "outputs": [],
   "source": []
  }
 ],
 "metadata": {
  "kernelspec": {
   "display_name": "Python 3 (ipykernel)",
   "language": "python",
   "name": "python3"
  },
  "language_info": {
   "codemirror_mode": {
    "name": "ipython",
    "version": 3
   },
   "file_extension": ".py",
   "mimetype": "text/x-python",
   "name": "python",
   "nbconvert_exporter": "python",
   "pygments_lexer": "ipython3",
   "version": "3.9.13"
  }
 },
 "nbformat": 4,
 "nbformat_minor": 5
}

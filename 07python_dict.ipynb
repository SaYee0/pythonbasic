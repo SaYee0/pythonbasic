{
 "cells": [
  {
   "cell_type": "code",
   "execution_count": 2,
   "id": "26c73eb6-8a1a-4ea3-8e41-980bd0284d6a",
   "metadata": {},
   "outputs": [
    {
     "name": "stdout",
     "output_type": "stream",
     "text": [
      "[('key1', 'value1'), ('key2', 'value2'), ('key3', 'value3')]\n"
     ]
    },
    {
     "data": {
      "text/plain": [
       "{'key1': 'value1', 'key2': 'value2', 'key3': 'value3'}"
      ]
     },
     "execution_count": 2,
     "metadata": {},
     "output_type": "execute_result"
    }
   ],
   "source": [
    "keys = (\"key1\", \"key2\", \"key3\")\n",
    "values = (\"value1\", \"value2\", \"value3\")\n",
    "sam_list = []\n",
    "for index in range(len(keys)):\n",
    "    sam_list.append((keys[index], values[index]))\n",
    "print(sam_list)\n",
    "dict(sam_list)"
   ]
  },
  {
   "cell_type": "code",
   "execution_count": 4,
   "id": "a34b4ef4-181c-4205-8472-984072eb561d",
   "metadata": {},
   "outputs": [
    {
     "data": {
      "text/plain": [
       "{'key1': 'value1', 'key2': 'value2', 'key3': 'value3'}"
      ]
     },
     "execution_count": 4,
     "metadata": {},
     "output_type": "execute_result"
    }
   ],
   "source": [
    "zip(keys, values)\n",
    "dict(zip(keys, values))"
   ]
  },
  {
   "cell_type": "code",
   "execution_count": 9,
   "id": "46c634a9-8113-4ede-8c00-5f4a626e4893",
   "metadata": {},
   "outputs": [
    {
     "name": "stdout",
     "output_type": "stream",
     "text": [
      "dict_a:  {'이름': '조세연', '나이': 32, '취미': ['a', 'b', 'c']}\n",
      "dict_b:  {'이름': '조세연', '나이': 32, '취미': ['a', 'b', 'c']}\n",
      "dict_c:  {'이름': '조세연', '나이': 32, '취미': ['a', 'b', 'c']}\n",
      "\n",
      "[('이름', '조세연'), ('나이', 32), ('취미', ['a', 'b', 'c'])]\n",
      "dict_d:  {'이름': '조세연', '나이': 32, '취미': ['a', 'b', 'c']}\n"
     ]
    }
   ],
   "source": [
    "# 딕셔너리를 생성하는 방법은 크게 2가지 존재 \n",
    "\n",
    "# 1. {}중괄호로 직접 만들기  \n",
    "dict_a = {\n",
    "    \"이름\":\"조세연\",\n",
    "    \"나이\":32,\n",
    "    \"취미\":[\"a\",\"b\",\"c\"]\n",
    "}\n",
    "print(\"dict_a: \", dict_a)\n",
    "\n",
    "# 2. dict()함수 사용하기\n",
    "#  (1) 직접넣기 \n",
    "dict_b = dict([(\"이름\",\"조세연\"),(\"나이\",32),(\"취미\",[\"a\",\"b\",\"c\"])])\n",
    "print(\"dict_b: \", dict_b)\n",
    "\n",
    "#  (2) zip함수\n",
    "dict_c = dict(zip([\"이름\", \"나이\", \"취미\"],[\"조세연\", 32, [\"a\",\"b\",\"c\"]]))\n",
    "print(\"dict_c: \", dict_c)\n",
    "\n",
    "#  (3) 인덱스 사용 \n",
    "keys = (\"이름\", \"나이\", \"취미\")\n",
    "values = (\"조세연\", 32, [\"a\",\"b\",\"c\"])\n",
    "sam_list = []\n",
    "for index in range(len(keys)):\n",
    "    sam_list.append((keys[index], values[index]))\n",
    "print()\n",
    "print(sam_list)\n",
    "dict_d = dict(sam_list)\n",
    "print(\"dict_d: \", dict_d)"
   ]
  },
  {
   "cell_type": "code",
   "execution_count": 2,
   "id": "458d9730-72df-4d81-b811-3cd0597f8970",
   "metadata": {},
   "outputs": [
    {
     "name": "stdout",
     "output_type": "stream",
     "text": [
      "{'사과': 1000, '바나나': 700, '오렌지': 1500, '파인애플': 2000}\n"
     ]
    },
    {
     "name": "stdin",
     "output_type": "stream",
     "text": [
      "과일 이름을 입력하세요 파인애플\n"
     ]
    },
    {
     "name": "stdout",
     "output_type": "stream",
     "text": [
      "파인애플의 가격은 2000원 입니다.\n"
     ]
    }
   ],
   "source": [
    "menu = {\n",
    "    \"사과\":1000,\n",
    "    \"바나나\":700,\n",
    "    \"오렌지\":1500,\n",
    "    \"파인애플\":2000\n",
    "}\n",
    "print(menu)\n",
    "\n",
    "name = input(\"과일 이름을 입력하세요\")\n",
    "print(f\"{name}의 가격은 {menu[name]}원 입니다.\")"
   ]
  },
  {
   "cell_type": "code",
   "execution_count": 12,
   "id": "1fa75b5e-9efa-4142-bc08-807474207eda",
   "metadata": {},
   "outputs": [
    {
     "name": "stdout",
     "output_type": "stream",
     "text": [
      "{'사과': 2000, '바나나': 700, '오렌지': 1500, '파인애플': 1000}\n"
     ]
    }
   ],
   "source": [
    "menu = dict(((\"사과\",2000),(\"바나나\",700),(\"오렌지\",1500),(\"파인애플\",1000)))\n",
    "print(menu)"
   ]
  },
  {
   "cell_type": "code",
   "execution_count": 13,
   "id": "fbed28ce-29e1-4677-921f-835063b1b990",
   "metadata": {},
   "outputs": [
    {
     "name": "stdout",
     "output_type": "stream",
     "text": [
      "{'사과': 2000, '바나나': 1000, '오렌지': 700, '파인애플': 544}\n"
     ]
    }
   ],
   "source": [
    "menu = dict(zip((\"사과\",\"바나나\",\"오렌지\",\"파인애플\"),(2000,1000,700,544)))\n",
    "print(menu)"
   ]
  },
  {
   "cell_type": "code",
   "execution_count": 13,
   "id": "7309d300-2dee-4de5-9afa-6d429e4381d7",
   "metadata": {},
   "outputs": [
    {
     "name": "stdout",
     "output_type": "stream",
     "text": [
      "[('사과', 2000), ('바나나', 1000), ('오렌지', 700), ('파인애플', 544)]\n"
     ]
    },
    {
     "data": {
      "text/plain": [
       "{'사과': 2000, '바나나': 1000, '오렌지': 700, '파인애플': 544}"
      ]
     },
     "execution_count": 13,
     "metadata": {},
     "output_type": "execute_result"
    }
   ],
   "source": [
    "keys = (\"사과\",\"바나나\",\"오렌지\",\"파인애플\")\n",
    "values = (2000,1000,700,544)\n",
    "\n",
    "menu = []\n",
    "for i in range(len(keys)) :\n",
    "    menu.append((keys[i], values[i]))\n",
    "print(menu)\n",
    "dict(menu)"
   ]
  },
  {
   "cell_type": "code",
   "execution_count": 5,
   "id": "831dc20d-dc71-4218-a4eb-11f125c80e61",
   "metadata": {},
   "outputs": [
    {
     "name": "stdout",
     "output_type": "stream",
     "text": [
      "{'사과': 2000, '바나나': 1000, '오렌지': 700, '파인애플': 544}\n"
     ]
    },
    {
     "name": "stdin",
     "output_type": "stream",
     "text": [
      "무엇을 찾으세요? 수박\n"
     ]
    },
    {
     "name": "stdout",
     "output_type": "stream",
     "text": [
      "죄송하지만 수박은 팔지 않습니다...ㅜ\n"
     ]
    }
   ],
   "source": [
    "menu = dict(zip((\"사과\",\"바나나\",\"오렌지\",\"파인애플\"),(2000,1000,700,544)))\n",
    "print(menu)\n",
    "\n",
    "name = input(\"무엇을 찾으세요?\")\n",
    "\n",
    "if name in menu:\n",
    "    print(f\"아, {name}를 찾으시는군요! {menu[name]}원입니다.\")\n",
    "else:\n",
    "    print(f\"죄송하지만 {name}은 팔지 않습니다...ㅜ\")"
   ]
  },
  {
   "cell_type": "code",
   "execution_count": 6,
   "id": "c816aaab-9bb5-4ff6-88a9-7f30cbb07b3d",
   "metadata": {},
   "outputs": [
    {
     "name": "stdout",
     "output_type": "stream",
     "text": [
      "{'사과': 2000, '바나나': 1000, '오렌지': 700, '파인애플': 544}\n",
      "사과은 2000원 입니다.\n",
      "바나나은 1000원 입니다.\n",
      "오렌지은 700원 입니다.\n",
      "파인애플은 544원 입니다.\n"
     ]
    }
   ],
   "source": [
    "menu = dict(zip((\"사과\",\"바나나\",\"오렌지\",\"파인애플\"),(2000,1000,700,544)))\n",
    "print(menu)\n",
    "\n",
    "for i in menu:\n",
    "    print(f\"{i}은 {menu[i]}원 입니다.\")"
   ]
  },
  {
   "cell_type": "code",
   "execution_count": 29,
   "id": "7c8582d0-f15f-4b9e-b318-a76bf09ab31a",
   "metadata": {},
   "outputs": [
    {
     "name": "stdin",
     "output_type": "stream",
     "text": [
      "이름을 입력하세요:  a,b,c,d\n",
      "몸무게를 입력하세요:  1,2,3,4\n"
     ]
    },
    {
     "name": "stdout",
     "output_type": "stream",
     "text": [
      "['a', 'b', 'c', 'd']\n",
      "[1.0, 2.0, 3.0, 4.0]\n",
      "{'a': 1.0, 'b': 2.0, 'c': 3.0, 'd': 4.0}\n"
     ]
    }
   ],
   "source": [
    "name = input(\"이름을 입력하세요: \").split(\",\")\n",
    "weight = input(\"몸무게를 입력하세요: \").split(\",\")\n",
    "\n",
    "weight = list(map(float,weight))\n",
    "\n",
    "print(name)\n",
    "print(weight)\n",
    "\n",
    "dict_a = dict(zip(name,weight))\n",
    "print(dict_a)"
   ]
  },
  {
   "cell_type": "code",
   "execution_count": null,
   "id": "4ddd57da-f6a3-4054-852e-81aedd98fa30",
   "metadata": {},
   "outputs": [],
   "source": [
    "name = input(\"이름을 입력하세요: \").split(\",\")\n",
    "weight = input(\"몸무게를 입력하세요: \").split(\",\")\n",
    "\n",
    "print(weight)\n",
    "print(type(weight[0]))\n",
    "\n",
    "weight = list(map(float, weight))\n",
    "\n",
    "dict_a = dict(zip(name,weight))\n",
    "print(dict_a)\n",
    "print(type(dict_a[\"뽀로로\"]))"
   ]
  },
  {
   "cell_type": "code",
   "execution_count": null,
   "id": "d3e8d4f5-99ce-48d3-9d24-1a474fdafd76",
   "metadata": {},
   "outputs": [],
   "source": [
    "dict_a = dict(zip((\"뽀로로\",\"루피\",\"크롱\"),(12.2,14.5,78.5)))\n",
    "\n",
    "name = input(\"이름은 무엇인가요?\")\n",
    "\n",
    "if name in dict_a :\n",
    "    print(f\"아, {name}님이시군요! {dict_a[name]}kg이시네요!\")\n",
    "else: \n",
    "    print(f\"{name}님 몸무게는 잘 모르겠어요.. ㅜ\")"
   ]
  },
  {
   "cell_type": "code",
   "execution_count": null,
   "id": "c26b0a72-7c7d-4c4f-a762-678680bd462f",
   "metadata": {},
   "outputs": [],
   "source": []
  }
 ],
 "metadata": {
  "kernelspec": {
   "display_name": "Python 3 (ipykernel)",
   "language": "python",
   "name": "python3"
  },
  "language_info": {
   "codemirror_mode": {
    "name": "ipython",
    "version": 3
   },
   "file_extension": ".py",
   "mimetype": "text/x-python",
   "name": "python",
   "nbconvert_exporter": "python",
   "pygments_lexer": "ipython3",
   "version": "3.9.13"
  }
 },
 "nbformat": 4,
 "nbformat_minor": 5
}

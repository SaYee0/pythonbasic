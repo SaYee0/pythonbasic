{
 "cells": [
  {
   "cell_type": "code",
   "execution_count": 1,
   "id": "61b5dc16-11a2-49b4-9cc3-9c8836dc9078",
   "metadata": {},
   "outputs": [],
   "source": [
    "import pandas as pd\n",
    "import numpy as np"
   ]
  },
  {
   "cell_type": "code",
   "execution_count": 5,
   "id": "842b8f59-1080-41cd-a80e-f399c027dec8",
   "metadata": {},
   "outputs": [
    {
     "data": {
      "text/html": [
       "<div>\n",
       "<style scoped>\n",
       "    .dataframe tbody tr th:only-of-type {\n",
       "        vertical-align: middle;\n",
       "    }\n",
       "\n",
       "    .dataframe tbody tr th {\n",
       "        vertical-align: top;\n",
       "    }\n",
       "\n",
       "    .dataframe thead th {\n",
       "        text-align: right;\n",
       "    }\n",
       "</style>\n",
       "<table border=\"1\" class=\"dataframe\">\n",
       "  <thead>\n",
       "    <tr style=\"text-align: right;\">\n",
       "      <th></th>\n",
       "      <th>Pokemon</th>\n",
       "      <th>Type</th>\n",
       "    </tr>\n",
       "  </thead>\n",
       "  <tbody>\n",
       "    <tr>\n",
       "      <th>0</th>\n",
       "      <td>Bulbasaur</td>\n",
       "      <td>Grass / Poison</td>\n",
       "    </tr>\n",
       "    <tr>\n",
       "      <th>1</th>\n",
       "      <td>Ivysaur</td>\n",
       "      <td>Grass / Poison</td>\n",
       "    </tr>\n",
       "    <tr>\n",
       "      <th>2</th>\n",
       "      <td>Venusaur</td>\n",
       "      <td>Grass / Poison</td>\n",
       "    </tr>\n",
       "    <tr>\n",
       "      <th>3</th>\n",
       "      <td>Charmander</td>\n",
       "      <td>Fire</td>\n",
       "    </tr>\n",
       "    <tr>\n",
       "      <th>4</th>\n",
       "      <td>Charmeleon</td>\n",
       "      <td>Fire</td>\n",
       "    </tr>\n",
       "    <tr>\n",
       "      <th>...</th>\n",
       "      <td>...</td>\n",
       "      <td>...</td>\n",
       "    </tr>\n",
       "    <tr>\n",
       "      <th>804</th>\n",
       "      <td>Stakataka</td>\n",
       "      <td>Rock / Steel</td>\n",
       "    </tr>\n",
       "    <tr>\n",
       "      <th>805</th>\n",
       "      <td>Blacephalon</td>\n",
       "      <td>Fire / Ghost</td>\n",
       "    </tr>\n",
       "    <tr>\n",
       "      <th>806</th>\n",
       "      <td>Zeraora</td>\n",
       "      <td>Electric</td>\n",
       "    </tr>\n",
       "    <tr>\n",
       "      <th>807</th>\n",
       "      <td>Meltan</td>\n",
       "      <td>Steel</td>\n",
       "    </tr>\n",
       "    <tr>\n",
       "      <th>808</th>\n",
       "      <td>Melmetal</td>\n",
       "      <td>Steel</td>\n",
       "    </tr>\n",
       "  </tbody>\n",
       "</table>\n",
       "<p>809 rows × 2 columns</p>\n",
       "</div>"
      ],
      "text/plain": [
       "         Pokemon            Type\n",
       "0      Bulbasaur  Grass / Poison\n",
       "1        Ivysaur  Grass / Poison\n",
       "2       Venusaur  Grass / Poison\n",
       "3     Charmander            Fire\n",
       "4     Charmeleon            Fire\n",
       "..           ...             ...\n",
       "804    Stakataka    Rock / Steel\n",
       "805  Blacephalon    Fire / Ghost\n",
       "806      Zeraora        Electric\n",
       "807       Meltan           Steel\n",
       "808     Melmetal           Steel\n",
       "\n",
       "[809 rows x 2 columns]"
      ]
     },
     "execution_count": 5,
     "metadata": {},
     "output_type": "execute_result"
    }
   ],
   "source": [
    "pd.read_csv(\"datas/pokemon.csv\")"
   ]
  },
  {
   "cell_type": "code",
   "execution_count": 8,
   "id": "a1d97f52-53ba-4147-9158-27d5f7ab7b31",
   "metadata": {},
   "outputs": [
    {
     "data": {
      "text/html": [
       "<div>\n",
       "<style scoped>\n",
       "    .dataframe tbody tr th:only-of-type {\n",
       "        vertical-align: middle;\n",
       "    }\n",
       "\n",
       "    .dataframe tbody tr th {\n",
       "        vertical-align: top;\n",
       "    }\n",
       "\n",
       "    .dataframe thead th {\n",
       "        text-align: right;\n",
       "    }\n",
       "</style>\n",
       "<table border=\"1\" class=\"dataframe\">\n",
       "  <thead>\n",
       "    <tr style=\"text-align: right;\">\n",
       "      <th></th>\n",
       "      <th>Type</th>\n",
       "    </tr>\n",
       "    <tr>\n",
       "      <th>Pokemon</th>\n",
       "      <th></th>\n",
       "    </tr>\n",
       "  </thead>\n",
       "  <tbody>\n",
       "    <tr>\n",
       "      <th>Bulbasaur</th>\n",
       "      <td>Grass / Poison</td>\n",
       "    </tr>\n",
       "    <tr>\n",
       "      <th>Ivysaur</th>\n",
       "      <td>Grass / Poison</td>\n",
       "    </tr>\n",
       "    <tr>\n",
       "      <th>Venusaur</th>\n",
       "      <td>Grass / Poison</td>\n",
       "    </tr>\n",
       "    <tr>\n",
       "      <th>Charmander</th>\n",
       "      <td>Fire</td>\n",
       "    </tr>\n",
       "    <tr>\n",
       "      <th>Charmeleon</th>\n",
       "      <td>Fire</td>\n",
       "    </tr>\n",
       "    <tr>\n",
       "      <th>...</th>\n",
       "      <td>...</td>\n",
       "    </tr>\n",
       "    <tr>\n",
       "      <th>Stakataka</th>\n",
       "      <td>Rock / Steel</td>\n",
       "    </tr>\n",
       "    <tr>\n",
       "      <th>Blacephalon</th>\n",
       "      <td>Fire / Ghost</td>\n",
       "    </tr>\n",
       "    <tr>\n",
       "      <th>Zeraora</th>\n",
       "      <td>Electric</td>\n",
       "    </tr>\n",
       "    <tr>\n",
       "      <th>Meltan</th>\n",
       "      <td>Steel</td>\n",
       "    </tr>\n",
       "    <tr>\n",
       "      <th>Melmetal</th>\n",
       "      <td>Steel</td>\n",
       "    </tr>\n",
       "  </tbody>\n",
       "</table>\n",
       "<p>809 rows × 1 columns</p>\n",
       "</div>"
      ],
      "text/plain": [
       "                       Type\n",
       "Pokemon                    \n",
       "Bulbasaur    Grass / Poison\n",
       "Ivysaur      Grass / Poison\n",
       "Venusaur     Grass / Poison\n",
       "Charmander             Fire\n",
       "Charmeleon             Fire\n",
       "...                     ...\n",
       "Stakataka      Rock / Steel\n",
       "Blacephalon    Fire / Ghost\n",
       "Zeraora            Electric\n",
       "Meltan                Steel\n",
       "Melmetal              Steel\n",
       "\n",
       "[809 rows x 1 columns]"
      ]
     },
     "execution_count": 8,
     "metadata": {},
     "output_type": "execute_result"
    }
   ],
   "source": [
    "pd.read_csv(\"datas/pokemon.csv\",index_col=\"Pokemon\")"
   ]
  },
  {
   "cell_type": "code",
   "execution_count": 21,
   "id": "9718f00c-b716-4379-94ab-7b2f79a2559c",
   "metadata": {},
   "outputs": [
    {
     "data": {
      "text/plain": [
       "Pokemon\n",
       "Bulbasaur      Grass / Poison\n",
       "Ivysaur        Grass / Poison\n",
       "Venusaur       Grass / Poison\n",
       "Charmander               Fire\n",
       "Charmeleon               Fire\n",
       "                    ...      \n",
       "Stakataka        Rock / Steel\n",
       "Blacephalon      Fire / Ghost\n",
       "Zeraora              Electric\n",
       "Meltan                  Steel\n",
       "Melmetal                Steel\n",
       "Name: Type, Length: 809, dtype: object"
      ]
     },
     "execution_count": 21,
     "metadata": {},
     "output_type": "execute_result"
    }
   ],
   "source": [
    "a = pd.read_csv(\"datas/pokemon.csv\",index_col=\"Pokemon\").squeeze()\n",
    "a"
   ]
  },
  {
   "cell_type": "code",
   "execution_count": 19,
   "id": "9e04121e-06de-4291-90d1-1b0d93fac7c8",
   "metadata": {},
   "outputs": [
    {
     "data": {
      "text/plain": [
       "159"
      ]
     },
     "execution_count": 19,
     "metadata": {},
     "output_type": "execute_result"
    }
   ],
   "source": [
    "a.nunique()"
   ]
  },
  {
   "cell_type": "code",
   "execution_count": 20,
   "id": "33ae0f13-944f-4766-8eb0-c02dd5e2ea78",
   "metadata": {},
   "outputs": [
    {
     "data": {
      "text/plain": [
       "809"
      ]
     },
     "execution_count": 20,
     "metadata": {},
     "output_type": "execute_result"
    }
   ],
   "source": [
    "a.count()"
   ]
  },
  {
   "cell_type": "code",
   "execution_count": 25,
   "id": "668a462b-2d5c-4e7d-8603-db5de9d1ae04",
   "metadata": {},
   "outputs": [
    {
     "data": {
      "text/plain": [
       "count        809\n",
       "unique       159\n",
       "top       Normal\n",
       "freq          65\n",
       "Name: Type, dtype: object"
      ]
     },
     "execution_count": 25,
     "metadata": {},
     "output_type": "execute_result"
    }
   ],
   "source": [
    "a.describe()"
   ]
  },
  {
   "cell_type": "code",
   "execution_count": 29,
   "id": "1bbc05ca-ace7-4167-b857-38d9ddbc1889",
   "metadata": {},
   "outputs": [
    {
     "data": {
      "text/plain": [
       "Pokemon\n",
       "Empoleon      Water / Steel\n",
       "Corsola        Water / Rock\n",
       "Relicanth      Water / Rock\n",
       "Carracosta     Water / Rock\n",
       "Tirtouga       Water / Rock\n",
       "                  ...      \n",
       "Kricketune              Bug\n",
       "Cascoon                 Bug\n",
       "Scatterbug              Bug\n",
       "Kricketot               Bug\n",
       "Grubbin                 Bug\n",
       "Name: Type, Length: 809, dtype: object"
      ]
     },
     "execution_count": 29,
     "metadata": {},
     "output_type": "execute_result"
    }
   ],
   "source": [
    "a.sort_values(ascending=False) # "
   ]
  },
  {
   "cell_type": "code",
   "execution_count": 28,
   "id": "7a06c0b7-08cd-46e4-a40e-283c3cb1ba96",
   "metadata": {},
   "outputs": [
    {
     "data": {
      "text/plain": [
       "Pokemon\n",
       "Abomasnow        Grass / Ice\n",
       "Abra                 Psychic\n",
       "Absol                   Dark\n",
       "Accelgor                 Bug\n",
       "Aegislash      Steel / Ghost\n",
       "                  ...       \n",
       "Zoroark                 Dark\n",
       "Zorua                   Dark\n",
       "Zubat        Poison / Flying\n",
       "Zweilous       Dark / Dragon\n",
       "Zygarde      Dragon / Ground\n",
       "Name: Type, Length: 809, dtype: object"
      ]
     },
     "execution_count": 28,
     "metadata": {},
     "output_type": "execute_result"
    }
   ],
   "source": [
    "a.sort_index()"
   ]
  },
  {
   "cell_type": "code",
   "execution_count": 33,
   "id": "00dec2a7-6852-45d5-92f1-94048d2960c4",
   "metadata": {},
   "outputs": [
    {
     "data": {
      "text/html": [
       "<div>\n",
       "<style scoped>\n",
       "    .dataframe tbody tr th:only-of-type {\n",
       "        vertical-align: middle;\n",
       "    }\n",
       "\n",
       "    .dataframe tbody tr th {\n",
       "        vertical-align: top;\n",
       "    }\n",
       "\n",
       "    .dataframe thead th {\n",
       "        text-align: right;\n",
       "    }\n",
       "</style>\n",
       "<table border=\"1\" class=\"dataframe\">\n",
       "  <thead>\n",
       "    <tr style=\"text-align: right;\">\n",
       "      <th></th>\n",
       "      <th>Close</th>\n",
       "    </tr>\n",
       "    <tr>\n",
       "      <th>Date</th>\n",
       "      <th></th>\n",
       "    </tr>\n",
       "  </thead>\n",
       "  <tbody>\n",
       "    <tr>\n",
       "      <th>2004-08-19</th>\n",
       "      <td>49.98</td>\n",
       "    </tr>\n",
       "    <tr>\n",
       "      <th>2004-08-20</th>\n",
       "      <td>53.95</td>\n",
       "    </tr>\n",
       "    <tr>\n",
       "      <th>2004-08-23</th>\n",
       "      <td>54.50</td>\n",
       "    </tr>\n",
       "    <tr>\n",
       "      <th>2004-08-24</th>\n",
       "      <td>52.24</td>\n",
       "    </tr>\n",
       "    <tr>\n",
       "      <th>2004-08-25</th>\n",
       "      <td>52.80</td>\n",
       "    </tr>\n",
       "    <tr>\n",
       "      <th>...</th>\n",
       "      <td>...</td>\n",
       "    </tr>\n",
       "    <tr>\n",
       "      <th>2019-10-21</th>\n",
       "      <td>1246.15</td>\n",
       "    </tr>\n",
       "    <tr>\n",
       "      <th>2019-10-22</th>\n",
       "      <td>1242.80</td>\n",
       "    </tr>\n",
       "    <tr>\n",
       "      <th>2019-10-23</th>\n",
       "      <td>1259.13</td>\n",
       "    </tr>\n",
       "    <tr>\n",
       "      <th>2019-10-24</th>\n",
       "      <td>1260.99</td>\n",
       "    </tr>\n",
       "    <tr>\n",
       "      <th>2019-10-25</th>\n",
       "      <td>1265.13</td>\n",
       "    </tr>\n",
       "  </tbody>\n",
       "</table>\n",
       "<p>3824 rows × 1 columns</p>\n",
       "</div>"
      ],
      "text/plain": [
       "              Close\n",
       "Date               \n",
       "2004-08-19    49.98\n",
       "2004-08-20    53.95\n",
       "2004-08-23    54.50\n",
       "2004-08-24    52.24\n",
       "2004-08-25    52.80\n",
       "...             ...\n",
       "2019-10-21  1246.15\n",
       "2019-10-22  1242.80\n",
       "2019-10-23  1259.13\n",
       "2019-10-24  1260.99\n",
       "2019-10-25  1265.13\n",
       "\n",
       "[3824 rows x 1 columns]"
      ]
     },
     "execution_count": 33,
     "metadata": {},
     "output_type": "execute_result"
    }
   ],
   "source": [
    "pd.read_csv(\"datas/google_stocks.csv\",\n",
    "           parse_dates=[\"Date\"],\n",
    "           index_col = \"Date\",\n",
    "           )"
   ]
  },
  {
   "cell_type": "code",
   "execution_count": 34,
   "id": "278da6e6-587e-4b1e-bb89-6c32169e85a4",
   "metadata": {},
   "outputs": [
    {
     "data": {
      "text/plain": [
       "Date\n",
       "2004-08-19      49.98\n",
       "2004-08-20      53.95\n",
       "2004-08-23      54.50\n",
       "2004-08-24      52.24\n",
       "2004-08-25      52.80\n",
       "               ...   \n",
       "2019-10-21    1246.15\n",
       "2019-10-22    1242.80\n",
       "2019-10-23    1259.13\n",
       "2019-10-24    1260.99\n",
       "2019-10-25    1265.13\n",
       "Name: Close, Length: 3824, dtype: float64"
      ]
     },
     "execution_count": 34,
     "metadata": {},
     "output_type": "execute_result"
    }
   ],
   "source": [
    "pd.read_csv(\"datas/google_stocks.csv\",\n",
    "           parse_dates=[\"Date\"],\n",
    "           index_col = \"Date\",\n",
    "           ).squeeze()\n"
   ]
  },
  {
   "cell_type": "code",
   "execution_count": 57,
   "id": "59373196-9330-4879-9894-1a3af37000fb",
   "metadata": {},
   "outputs": [
    {
     "data": {
      "text/plain": [
       "Date\n",
       "2004-08-19      49.98\n",
       "2004-08-20      53.95\n",
       "2004-08-23      54.50\n",
       "2004-08-24      52.24\n",
       "2004-08-25      52.80\n",
       "               ...   \n",
       "2019-10-21    1246.15\n",
       "2019-10-22    1242.80\n",
       "2019-10-23    1259.13\n",
       "2019-10-24    1260.99\n",
       "2019-10-25    1265.13\n",
       "Name: Close, Length: 3824, dtype: float64"
      ]
     },
     "execution_count": 57,
     "metadata": {},
     "output_type": "execute_result"
    }
   ],
   "source": [
    "pd.read_csv(\"datas/google_stocks.csv\",\n",
    "           \n",
    "           index_col = \"Date\",\n",
    "           ).squeeze()"
   ]
  },
  {
   "cell_type": "code",
   "execution_count": 55,
   "id": "f659bd8a-4414-460a-9eab-40a1a9af231d",
   "metadata": {},
   "outputs": [
    {
     "data": {
      "text/plain": [
       "Start Date\n",
       "1774-09-01    Massachusetts\n",
       "1774-12-14    New Hampshire\n",
       "1775-04-19    Massachusetts\n",
       "1775-04-19    Massachusetts\n",
       "1775-04-20         Virginia\n",
       "                  ...      \n",
       "1782-09-11         Virginia\n",
       "1782-09-13              NaN\n",
       "1782-10-18              NaN\n",
       "1782-12-06              NaN\n",
       "1783-01-22         Virginia\n",
       "Name: State, Length: 232, dtype: object"
      ]
     },
     "execution_count": 55,
     "metadata": {},
     "output_type": "execute_result"
    }
   ],
   "source": [
    "pd.read_csv(\"datas/revolutionary_war.csv\",\n",
    "            parse_dates=[\"Start Date\"],\n",
    "           index_col = \"Start Date\",\n",
    "            usecols = [\"Start Date\", \"State\"]\n",
    "           ).squeeze()"
   ]
  },
  {
   "cell_type": "code",
   "execution_count": 46,
   "id": "849e7af3-b514-47d1-955c-4009378af00d",
   "metadata": {},
   "outputs": [
    {
     "data": {
      "text/plain": [
       "count                162\n",
       "unique                17\n",
       "top       South Carolina\n",
       "freq                  31\n",
       "Name: State, dtype: object"
      ]
     },
     "execution_count": 46,
     "metadata": {},
     "output_type": "execute_result"
    }
   ],
   "source": [
    "a.describe()"
   ]
  },
  {
   "cell_type": "code",
   "execution_count": 42,
   "id": "ac68aa36-4051-4ebe-aa54-a602cec68a08",
   "metadata": {},
   "outputs": [
    {
     "data": {
      "text/html": [
       "<div>\n",
       "<style scoped>\n",
       "    .dataframe tbody tr th:only-of-type {\n",
       "        vertical-align: middle;\n",
       "    }\n",
       "\n",
       "    .dataframe tbody tr th {\n",
       "        vertical-align: top;\n",
       "    }\n",
       "\n",
       "    .dataframe thead th {\n",
       "        text-align: right;\n",
       "    }\n",
       "</style>\n",
       "<table border=\"1\" class=\"dataframe\">\n",
       "  <thead>\n",
       "    <tr style=\"text-align: right;\">\n",
       "      <th></th>\n",
       "      <th>State</th>\n",
       "    </tr>\n",
       "    <tr>\n",
       "      <th>Start Date</th>\n",
       "      <th></th>\n",
       "    </tr>\n",
       "  </thead>\n",
       "  <tbody>\n",
       "    <tr>\n",
       "      <th>9/1/1774</th>\n",
       "      <td>Massachusetts</td>\n",
       "    </tr>\n",
       "    <tr>\n",
       "      <th>12/14/1774</th>\n",
       "      <td>New Hampshire</td>\n",
       "    </tr>\n",
       "    <tr>\n",
       "      <th>4/19/1775</th>\n",
       "      <td>Massachusetts</td>\n",
       "    </tr>\n",
       "    <tr>\n",
       "      <th>4/19/1775</th>\n",
       "      <td>Massachusetts</td>\n",
       "    </tr>\n",
       "    <tr>\n",
       "      <th>4/20/1775</th>\n",
       "      <td>Virginia</td>\n",
       "    </tr>\n",
       "    <tr>\n",
       "      <th>...</th>\n",
       "      <td>...</td>\n",
       "    </tr>\n",
       "    <tr>\n",
       "      <th>9/11/1782</th>\n",
       "      <td>Virginia</td>\n",
       "    </tr>\n",
       "    <tr>\n",
       "      <th>9/13/1782</th>\n",
       "      <td>NaN</td>\n",
       "    </tr>\n",
       "    <tr>\n",
       "      <th>10/18/1782</th>\n",
       "      <td>NaN</td>\n",
       "    </tr>\n",
       "    <tr>\n",
       "      <th>12/6/1782</th>\n",
       "      <td>NaN</td>\n",
       "    </tr>\n",
       "    <tr>\n",
       "      <th>1/22/1783</th>\n",
       "      <td>Virginia</td>\n",
       "    </tr>\n",
       "  </tbody>\n",
       "</table>\n",
       "<p>232 rows × 1 columns</p>\n",
       "</div>"
      ],
      "text/plain": [
       "                    State\n",
       "Start Date               \n",
       "9/1/1774    Massachusetts\n",
       "12/14/1774  New Hampshire\n",
       "4/19/1775   Massachusetts\n",
       "4/19/1775   Massachusetts\n",
       "4/20/1775        Virginia\n",
       "...                   ...\n",
       "9/11/1782        Virginia\n",
       "9/13/1782             NaN\n",
       "10/18/1782            NaN\n",
       "12/6/1782             NaN\n",
       "1/22/1783        Virginia\n",
       "\n",
       "[232 rows x 1 columns]"
      ]
     },
     "execution_count": 42,
     "metadata": {},
     "output_type": "execute_result"
    }
   ],
   "source": [
    "pd.read_csv(\"datas/revolutionary_war.csv\",\n",
    "            \n",
    "           index_col = \"Start Date\",\n",
    "            usecols = [\"Start Date\", \"State\"]\n",
    "           )"
   ]
  },
  {
   "cell_type": "code",
   "execution_count": 54,
   "id": "3f85bc96-1053-452f-8b8d-3b165ebb1c8e",
   "metadata": {},
   "outputs": [
    {
     "data": {
      "text/html": [
       "<div>\n",
       "<style scoped>\n",
       "    .dataframe tbody tr th:only-of-type {\n",
       "        vertical-align: middle;\n",
       "    }\n",
       "\n",
       "    .dataframe tbody tr th {\n",
       "        vertical-align: top;\n",
       "    }\n",
       "\n",
       "    .dataframe thead th {\n",
       "        text-align: right;\n",
       "    }\n",
       "</style>\n",
       "<table border=\"1\" class=\"dataframe\">\n",
       "  <thead>\n",
       "    <tr style=\"text-align: right;\">\n",
       "      <th></th>\n",
       "      <th>State</th>\n",
       "    </tr>\n",
       "    <tr>\n",
       "      <th>Start Date</th>\n",
       "      <th></th>\n",
       "    </tr>\n",
       "  </thead>\n",
       "  <tbody>\n",
       "    <tr>\n",
       "      <th>1774-09-01</th>\n",
       "      <td>Massachusetts</td>\n",
       "    </tr>\n",
       "    <tr>\n",
       "      <th>1774-12-14</th>\n",
       "      <td>New Hampshire</td>\n",
       "    </tr>\n",
       "    <tr>\n",
       "      <th>1775-04-19</th>\n",
       "      <td>Massachusetts</td>\n",
       "    </tr>\n",
       "    <tr>\n",
       "      <th>1775-04-19</th>\n",
       "      <td>Massachusetts</td>\n",
       "    </tr>\n",
       "    <tr>\n",
       "      <th>1775-04-20</th>\n",
       "      <td>Virginia</td>\n",
       "    </tr>\n",
       "    <tr>\n",
       "      <th>...</th>\n",
       "      <td>...</td>\n",
       "    </tr>\n",
       "    <tr>\n",
       "      <th>1782-09-11</th>\n",
       "      <td>Virginia</td>\n",
       "    </tr>\n",
       "    <tr>\n",
       "      <th>1782-09-13</th>\n",
       "      <td>NaN</td>\n",
       "    </tr>\n",
       "    <tr>\n",
       "      <th>1782-10-18</th>\n",
       "      <td>NaN</td>\n",
       "    </tr>\n",
       "    <tr>\n",
       "      <th>1782-12-06</th>\n",
       "      <td>NaN</td>\n",
       "    </tr>\n",
       "    <tr>\n",
       "      <th>1783-01-22</th>\n",
       "      <td>Virginia</td>\n",
       "    </tr>\n",
       "  </tbody>\n",
       "</table>\n",
       "<p>232 rows × 1 columns</p>\n",
       "</div>"
      ],
      "text/plain": [
       "                    State\n",
       "Start Date               \n",
       "1774-09-01  Massachusetts\n",
       "1774-12-14  New Hampshire\n",
       "1775-04-19  Massachusetts\n",
       "1775-04-19  Massachusetts\n",
       "1775-04-20       Virginia\n",
       "...                   ...\n",
       "1782-09-11       Virginia\n",
       "1782-09-13            NaN\n",
       "1782-10-18            NaN\n",
       "1782-12-06            NaN\n",
       "1783-01-22       Virginia\n",
       "\n",
       "[232 rows x 1 columns]"
      ]
     },
     "execution_count": 54,
     "metadata": {},
     "output_type": "execute_result"
    }
   ],
   "source": [
    "pd.read_csv(\"datas/revolutionary_war.csv\",\n",
    "            parse_dates=[\"Start Date\"],\n",
    "           index_col = \"Start Date\",\n",
    "            usecols = [\"Start Date\", \"State\"]\n",
    "           )"
   ]
  },
  {
   "cell_type": "code",
   "execution_count": 61,
   "id": "45ef0919-0d5b-41f3-b78d-a1aed303d833",
   "metadata": {},
   "outputs": [
    {
     "data": {
      "text/plain": [
       "162"
      ]
     },
     "execution_count": 61,
     "metadata": {},
     "output_type": "execute_result"
    }
   ],
   "source": [
    "a.notnull().sum()"
   ]
  },
  {
   "cell_type": "code",
   "execution_count": 62,
   "id": "86c45edd-9d84-4e42-bc35-305bf4d15884",
   "metadata": {},
   "outputs": [
    {
     "data": {
      "text/plain": [
       "Start Date\n",
       "1774-09-01     Massachusetts\n",
       "1774-12-14     New Hampshire\n",
       "1775-04-19     Massachusetts\n",
       "1775-04-19     Massachusetts\n",
       "1775-04-20          Virginia\n",
       "                   ...      \n",
       "1782-08-15          Virginia\n",
       "1782-08-19          Virginia\n",
       "1782-08-26    South Carolina\n",
       "1782-09-11          Virginia\n",
       "1783-01-22          Virginia\n",
       "Name: State, Length: 162, dtype: object"
      ]
     },
     "execution_count": 62,
     "metadata": {},
     "output_type": "execute_result"
    }
   ],
   "source": [
    "a.dropna()"
   ]
  },
  {
   "cell_type": "code",
   "execution_count": 65,
   "id": "b3391a47-28ac-415c-b0d9-cffb2fbdae56",
   "metadata": {},
   "outputs": [
    {
     "data": {
      "text/plain": [
       "Start Date\n",
       "NaT              New Jersey\n",
       "NaT                Virginia\n",
       "NaT                     NaN\n",
       "NaT                     NaN\n",
       "1774-09-01    Massachusetts\n",
       "                  ...      \n",
       "1782-09-11         Virginia\n",
       "1782-09-13              NaN\n",
       "1782-10-18              NaN\n",
       "1782-12-06              NaN\n",
       "1783-01-22         Virginia\n",
       "Name: State, Length: 232, dtype: object"
      ]
     },
     "execution_count": 65,
     "metadata": {},
     "output_type": "execute_result"
    }
   ],
   "source": [
    "a.sort_index(na_position=\"first\")"
   ]
  },
  {
   "cell_type": "code",
   "execution_count": 68,
   "id": "3d6e462b-58e7-4911-98e5-2781d177acfe",
   "metadata": {},
   "outputs": [
    {
     "data": {
      "text/plain": [
       "Start Date\n",
       "1774-09-01    Massachusetts\n",
       "1774-12-14    New Hampshire\n",
       "1775-04-19    Massachusetts\n",
       "1775-04-19    Massachusetts\n",
       "1775-04-20         Virginia\n",
       "                  ...      \n",
       "1783-01-22         Virginia\n",
       "NaT              New Jersey\n",
       "NaT                Virginia\n",
       "NaT                     NaN\n",
       "NaT                     NaN\n",
       "Name: State, Length: 232, dtype: object"
      ]
     },
     "execution_count": 68,
     "metadata": {},
     "output_type": "execute_result"
    }
   ],
   "source": [
    "a.sort_index(na_position=\"last\")"
   ]
  },
  {
   "cell_type": "code",
   "execution_count": 80,
   "id": "7a92d56d-42ac-4cda-8114-fc92ec530c7e",
   "metadata": {},
   "outputs": [
    {
     "data": {
      "text/plain": [
       "Start Date\n",
       "1774-09-01    Massachusetts\n",
       "1774-12-14    New Hampshire\n",
       "1775-04-19    Massachusetts\n",
       "1775-04-19    Massachusetts\n",
       "1775-04-19    Massachusetts\n",
       "                  ...      \n",
       "1782-09-11         Virginia\n",
       "1782-09-13              NaN\n",
       "1782-10-18              NaN\n",
       "1782-12-06              NaN\n",
       "1783-01-22         Virginia\n",
       "Name: State, Length: 250, dtype: object"
      ]
     },
     "execution_count": 80,
     "metadata": {},
     "output_type": "execute_result"
    }
   ],
   "source": [
    "a.loc[a.index.notnull()] #이게 더 정확하다.\n",
    "a.loc[a.index.dropna()] #dropna()를 쓰려면 index의 중복이 없어야 한다."
   ]
  },
  {
   "cell_type": "code",
   "execution_count": 92,
   "id": "9913ab50-c079-467d-bb24-adc02f2dfb4d",
   "metadata": {},
   "outputs": [
    {
     "data": {
      "text/plain": [
       "Start Date\n",
       "1774-09-01     Massachusetts\n",
       "1774-12-14     New Hampshire\n",
       "1775-04-19     Massachusetts\n",
       "1775-04-19     Massachusetts\n",
       "1775-04-20          Virginia\n",
       "                   ...      \n",
       "1782-08-15          Virginia\n",
       "1782-08-19          Virginia\n",
       "1782-08-26    South Carolina\n",
       "1782-09-11          Virginia\n",
       "1783-01-22          Virginia\n",
       "Name: State, Length: 162, dtype: object"
      ]
     },
     "execution_count": 92,
     "metadata": {},
     "output_type": "execute_result"
    }
   ],
   "source": [
    "# 인덱스에서 결측치 제거 \n",
    "a.index.dropna()\n",
    "\n",
    "# 밸류에서 결측치 제거 \n",
    "a.dropna()"
   ]
  },
  {
   "cell_type": "code",
   "execution_count": 71,
   "id": "17a1185e-a074-422e-88b7-1a2d5d664685",
   "metadata": {},
   "outputs": [
    {
     "data": {
      "text/plain": [
       "Start Date\n",
       "1774-09-01    Massachusetts\n",
       "1774-12-14    New Hampshire\n",
       "1775-04-19    Massachusetts\n",
       "1775-04-19    Massachusetts\n",
       "1775-04-20         Virginia\n",
       "                  ...      \n",
       "1782-09-11         Virginia\n",
       "1782-09-13              NaN\n",
       "1782-10-18              NaN\n",
       "1782-12-06              NaN\n",
       "1783-01-22         Virginia\n",
       "Name: State, Length: 228, dtype: object"
      ]
     },
     "execution_count": 71,
     "metadata": {},
     "output_type": "execute_result"
    }
   ],
   "source": [
    "a.[a.index.notnull()]\n",
    "a.loc[a.index.notnull()]"
   ]
  },
  {
   "cell_type": "code",
   "execution_count": 79,
   "id": "369fb6d3-11c6-4552-98da-791dfeb72e61",
   "metadata": {},
   "outputs": [
    {
     "name": "stdout",
     "output_type": "stream",
     "text": [
      "Date\n",
      "2004-09-03    49.82\n",
      "2004-09-01    49.94\n",
      "2004-08-19    49.98\n",
      "2004-09-02    50.57\n",
      "2004-09-07    50.60\n",
      "2004-08-30    50.81\n",
      "2004-09-08    50.96\n",
      "2004-09-09    50.96\n",
      "2004-08-31    50.99\n",
      "2004-08-24    52.24\n",
      "Name: Close, dtype: float64\n",
      "\n",
      "Date\n",
      "2019-04-29    1287.58\n",
      "2019-04-26    1272.18\n",
      "2018-07-26    1268.33\n",
      "2019-10-25    1265.13\n",
      "2019-04-23    1264.55\n",
      "2018-07-25    1263.70\n",
      "2019-04-25    1263.45\n",
      "2019-10-24    1260.99\n",
      "2019-10-23    1259.13\n",
      "2019-04-24    1256.00\n",
      "Name: Close, dtype: float64\n"
     ]
    }
   ],
   "source": [
    "z = pd.read_csv(\"datas/google_stocks.csv\",\n",
    "           parse_dates=[\"Date\"],\n",
    "           index_col = \"Date\",\n",
    "           ).squeeze()\n",
    "\n",
    "z1 = z.sort_values(ascending=True)\n",
    "z2 = z.sort_values(ascending=False)\n",
    "print(z1.head(10))\n",
    "print()\n",
    "print(z2.head(10))"
   ]
  },
  {
   "cell_type": "code",
   "execution_count": 94,
   "id": "ffc8e207-7874-44ab-9616-0eed05c37dee",
   "metadata": {},
   "outputs": [
    {
     "data": {
      "text/plain": [
       "Date\n",
       "2019-04-29    1287.58\n",
       "2019-04-26    1272.18\n",
       "2018-07-26    1268.33\n",
       "2019-10-25    1265.13\n",
       "2019-04-23    1264.55\n",
       "2018-07-25    1263.70\n",
       "2019-04-25    1263.45\n",
       "2019-10-24    1260.99\n",
       "2019-10-23    1259.13\n",
       "2019-04-24    1256.00\n",
       "Name: Close, dtype: float64"
      ]
     },
     "execution_count": 94,
     "metadata": {},
     "output_type": "execute_result"
    }
   ],
   "source": [
    "z.nlargest(10)\n"
   ]
  },
  {
   "cell_type": "code",
   "execution_count": 95,
   "id": "1a07c54b-2f2e-4325-a2ee-86e669566736",
   "metadata": {},
   "outputs": [
    {
     "data": {
      "text/plain": [
       "Date\n",
       "2004-09-03    49.82\n",
       "2004-09-01    49.94\n",
       "2004-08-19    49.98\n",
       "2004-09-02    50.57\n",
       "2004-09-07    50.60\n",
       "2004-08-30    50.81\n",
       "2004-09-08    50.96\n",
       "2004-09-09    50.96\n",
       "2004-08-31    50.99\n",
       "2004-08-24    52.24\n",
       "Name: Close, dtype: float64"
      ]
     },
     "execution_count": 95,
     "metadata": {},
     "output_type": "execute_result"
    }
   ],
   "source": [
    "z.nsmallest(10)"
   ]
  },
  {
   "cell_type": "code",
   "execution_count": 96,
   "id": "afec0999-9852-4083-98b3-37cfc2ef2264",
   "metadata": {},
   "outputs": [
    {
     "data": {
      "text/plain": [
       "South Carolina    31\n",
       "New York          28\n",
       "New Jersey        24\n",
       "Virginia          21\n",
       "Massachusetts     11\n",
       "Pennsylvania      10\n",
       "North Carolina     9\n",
       "Florida            8\n",
       "Georgia            6\n",
       "Rhode Island       3\n",
       "Connecticut        3\n",
       "Vermont            3\n",
       "New Hampshire      1\n",
       "Delaware           1\n",
       "Indiana            1\n",
       "Louisiana          1\n",
       "Ohio               1\n",
       "Name: State, dtype: int64"
      ]
     },
     "execution_count": 96,
     "metadata": {},
     "output_type": "execute_result"
    }
   ],
   "source": [
    "a.value_counts()"
   ]
  },
  {
   "cell_type": "code",
   "execution_count": 98,
   "id": "55f9d7c1-533e-4f84-8ded-18af3a8d2b23",
   "metadata": {},
   "outputs": [
    {
     "data": {
      "text/plain": [
       "(200.0, 400.0]     1568\n",
       "(400.0, 1000.0]    1162\n",
       "(-0.001, 200.0]     595\n",
       "Name: Close, dtype: int64"
      ]
     },
     "execution_count": 98,
     "metadata": {},
     "output_type": "execute_result"
    }
   ],
   "source": [
    "a = pd.read_csv(\"datas/google_stocks.csv\",\n",
    "           parse_dates=[\"Date\"],\n",
    "           index_col = \"Date\",\n",
    "           ).squeeze()\n",
    "a.value_counts(bins = [0,200,400,1000])\n"
   ]
  },
  {
   "cell_type": "code",
   "execution_count": 103,
   "id": "539ba4a1-3b15-457f-846b-6df7c655bd1a",
   "metadata": {},
   "outputs": [
    {
     "data": {
      "text/plain": [
       "(-0.001, 200.0]      595\n",
       "(200.0, 400.0]      1568\n",
       "(400.0, 600.0]       575\n",
       "(600.0, 800.0]       380\n",
       "(800.0, 1000.0]      207\n",
       "(1000.0, 1200.0]     406\n",
       "(1200.0, 1400.0]      93\n",
       "Name: Close, dtype: int64"
      ]
     },
     "execution_count": 103,
     "metadata": {},
     "output_type": "execute_result"
    }
   ],
   "source": [
    "a = pd.read_csv(\"datas/google_stocks.csv\",\n",
    "           parse_dates=[\"Date\"],\n",
    "           index_col = \"Date\",\n",
    "           ).squeeze()\n",
    "a.value_counts(bins=(0,200,400,600,800,1000,1200,1400)).sort_index()"
   ]
  },
  {
   "cell_type": "code",
   "execution_count": 104,
   "id": "1b37663f-22bf-4e15-a3aa-72d36101bf1c",
   "metadata": {},
   "outputs": [
    {
     "data": {
      "text/plain": [
       "(48.581, 204.54]       651\n",
       "(204.54, 359.26]      1435\n",
       "(359.26, 513.98]       263\n",
       "(513.98, 668.7]        466\n",
       "(668.7, 823.42]        334\n",
       "(823.42, 978.14]       161\n",
       "(978.14, 1132.86]      283\n",
       "(1132.86, 1287.58]     231\n",
       "Name: Close, dtype: int64"
      ]
     },
     "execution_count": 104,
     "metadata": {},
     "output_type": "execute_result"
    }
   ],
   "source": [
    "a.value_counts(bins=8,sort=False)"
   ]
  },
  {
   "cell_type": "code",
   "execution_count": 114,
   "id": "00a49918-74b9-4168-a110-cc1c853ff2e9",
   "metadata": {},
   "outputs": [
    {
     "data": {
      "text/html": [
       "<div>\n",
       "<style scoped>\n",
       "    .dataframe tbody tr th:only-of-type {\n",
       "        vertical-align: middle;\n",
       "    }\n",
       "\n",
       "    .dataframe tbody tr th {\n",
       "        vertical-align: top;\n",
       "    }\n",
       "\n",
       "    .dataframe thead th {\n",
       "        text-align: right;\n",
       "    }\n",
       "</style>\n",
       "<table border=\"1\" class=\"dataframe\">\n",
       "  <thead>\n",
       "    <tr style=\"text-align: right;\">\n",
       "      <th></th>\n",
       "      <th>c1</th>\n",
       "      <th>c2</th>\n",
       "      <th>c3</th>\n",
       "    </tr>\n",
       "  </thead>\n",
       "  <tbody>\n",
       "    <tr>\n",
       "      <th>0</th>\n",
       "      <td>1</td>\n",
       "      <td>1.11</td>\n",
       "      <td>one</td>\n",
       "    </tr>\n",
       "    <tr>\n",
       "      <th>1</th>\n",
       "      <td>2</td>\n",
       "      <td></td>\n",
       "      <td>two</td>\n",
       "    </tr>\n",
       "    <tr>\n",
       "      <th>2</th>\n",
       "      <td>누락</td>\n",
       "      <td>3.33</td>\n",
       "      <td>three</td>\n",
       "    </tr>\n",
       "  </tbody>\n",
       "</table>\n",
       "</div>"
      ],
      "text/plain": [
       "   c1    c2     c3\n",
       "0   1  1.11    one\n",
       "1   2          two\n",
       "2  누락  3.33  three"
      ]
     },
     "execution_count": 114,
     "metadata": {},
     "output_type": "execute_result"
    }
   ],
   "source": [
    "data = {\"c1\":[\"1\",\"2\",\"누락\"],\n",
    "       \"c2\":[1.11, '',3.33],\n",
    "       \"c3\":[\"one\",\"two\",\"three\"]}\n",
    "columns = [\"c1\",\"c2\",\"c3\"]\n",
    "df_csv = pd.DataFrame(data,\n",
    "                columns=columns)\n",
    "df_csv"
   ]
  },
  {
   "cell_type": "code",
   "execution_count": 116,
   "id": "53338669-24a4-4e2f-a487-fd606dc8c350",
   "metadata": {},
   "outputs": [],
   "source": [
    "a = df_csv.to_csv(\"datas/sample1.csv\",index=False)"
   ]
  },
  {
   "cell_type": "code",
   "execution_count": 123,
   "id": "8e52bd95-b5c1-4242-ae36-f16c3fcd1f51",
   "metadata": {},
   "outputs": [
    {
     "data": {
      "text/plain": [
       "'c:\\\\python'"
      ]
     },
     "execution_count": 123,
     "metadata": {},
     "output_type": "execute_result"
    }
   ],
   "source": [
    "%pwd"
   ]
  },
  {
   "cell_type": "code",
   "execution_count": 122,
   "id": "fccbb846-30b7-4d78-a310-605c0b572cd3",
   "metadata": {},
   "outputs": [
    {
     "name": "stdout",
     "output_type": "stream",
     "text": [
      "c:\\python\n"
     ]
    }
   ],
   "source": [
    "%cd c:\\\\python"
   ]
  },
  {
   "cell_type": "code",
   "execution_count": 147,
   "id": "b73f25be-31f8-495d-8ad0-e0d7aa51c76d",
   "metadata": {},
   "outputs": [
    {
     "data": {
      "text/html": [
       "<div>\n",
       "<style scoped>\n",
       "    .dataframe tbody tr th:only-of-type {\n",
       "        vertical-align: middle;\n",
       "    }\n",
       "\n",
       "    .dataframe tbody tr th {\n",
       "        vertical-align: top;\n",
       "    }\n",
       "\n",
       "    .dataframe thead th {\n",
       "        text-align: right;\n",
       "    }\n",
       "</style>\n",
       "<table border=\"1\" class=\"dataframe\">\n",
       "  <thead>\n",
       "    <tr style=\"text-align: right;\">\n",
       "      <th></th>\n",
       "      <th>c1</th>\n",
       "      <th>c2</th>\n",
       "      <th>c3</th>\n",
       "    </tr>\n",
       "  </thead>\n",
       "  <tbody>\n",
       "    <tr>\n",
       "      <th>0</th>\n",
       "      <td>1.0</td>\n",
       "      <td>1.11</td>\n",
       "      <td>one</td>\n",
       "    </tr>\n",
       "    <tr>\n",
       "      <th>1</th>\n",
       "      <td>2.0</td>\n",
       "      <td>NaN</td>\n",
       "      <td>two</td>\n",
       "    </tr>\n",
       "    <tr>\n",
       "      <th>2</th>\n",
       "      <td>NaN</td>\n",
       "      <td>3.33</td>\n",
       "      <td>three</td>\n",
       "    </tr>\n",
       "  </tbody>\n",
       "</table>\n",
       "</div>"
      ],
      "text/plain": [
       "    c1    c2     c3\n",
       "0  1.0  1.11    one\n",
       "1  2.0   NaN    two\n",
       "2  NaN  3.33  three"
      ]
     },
     "execution_count": 147,
     "metadata": {},
     "output_type": "execute_result"
    }
   ],
   "source": [
    "df_read = pd.read_csv(\"datas/sample1.csv\", na_values=['누락'])\n",
    "df_read"
   ]
  },
  {
   "cell_type": "code",
   "execution_count": 129,
   "id": "e8d4b1c0-4c62-4f44-9fd1-2f9fff45a758",
   "metadata": {},
   "outputs": [],
   "source": [
    "b = df_csv.to_csv(\"datas/sample2.csv\",index=False, header=False)"
   ]
  },
  {
   "cell_type": "code",
   "execution_count": 130,
   "id": "9d2099fb-1e04-4669-84b3-37c1fc53977d",
   "metadata": {},
   "outputs": [
    {
     "data": {
      "text/html": [
       "<div>\n",
       "<style scoped>\n",
       "    .dataframe tbody tr th:only-of-type {\n",
       "        vertical-align: middle;\n",
       "    }\n",
       "\n",
       "    .dataframe tbody tr th {\n",
       "        vertical-align: top;\n",
       "    }\n",
       "\n",
       "    .dataframe thead th {\n",
       "        text-align: right;\n",
       "    }\n",
       "</style>\n",
       "<table border=\"1\" class=\"dataframe\">\n",
       "  <thead>\n",
       "    <tr style=\"text-align: right;\">\n",
       "      <th></th>\n",
       "      <th>c1</th>\n",
       "      <th>c2</th>\n",
       "      <th>c3</th>\n",
       "    </tr>\n",
       "  </thead>\n",
       "  <tbody>\n",
       "    <tr>\n",
       "      <th>0</th>\n",
       "      <td>1</td>\n",
       "      <td>1.11</td>\n",
       "      <td>one</td>\n",
       "    </tr>\n",
       "    <tr>\n",
       "      <th>1</th>\n",
       "      <td>2</td>\n",
       "      <td>NaN</td>\n",
       "      <td>two</td>\n",
       "    </tr>\n",
       "    <tr>\n",
       "      <th>2</th>\n",
       "      <td>누락</td>\n",
       "      <td>3.33</td>\n",
       "      <td>three</td>\n",
       "    </tr>\n",
       "  </tbody>\n",
       "</table>\n",
       "</div>"
      ],
      "text/plain": [
       "   c1    c2     c3\n",
       "0   1  1.11    one\n",
       "1   2   NaN    two\n",
       "2  누락  3.33  three"
      ]
     },
     "execution_count": 130,
     "metadata": {},
     "output_type": "execute_result"
    }
   ],
   "source": [
    "pd.read_csv('datas/sample2.csv', names=['c1','c2','c3'])"
   ]
  },
  {
   "cell_type": "code",
   "execution_count": 132,
   "id": "c22605fc-1c03-453b-89f7-46c8bffd1295",
   "metadata": {},
   "outputs": [
    {
     "name": "stdout",
     "output_type": "stream",
     "text": [
      "Writing datas/sample3.txt\n"
     ]
    }
   ],
   "source": [
    "%%writefile datas/sample3.txt\n",
    "c1        c2        c3        c4\n",
    "0.179181 -1.538472  1.347553  0.43381\n",
    "1.024209  0.087307 -1.281997  0.49265\n",
    "0.417899 -2.002308  0.255245 -1.10515"
   ]
  },
  {
   "cell_type": "code",
   "execution_count": 141,
   "id": "d4f565d4-26d0-49eb-9203-156e26ac7445",
   "metadata": {},
   "outputs": [
    {
     "data": {
      "text/html": [
       "<div>\n",
       "<style scoped>\n",
       "    .dataframe tbody tr th:only-of-type {\n",
       "        vertical-align: middle;\n",
       "    }\n",
       "\n",
       "    .dataframe tbody tr th {\n",
       "        vertical-align: top;\n",
       "    }\n",
       "\n",
       "    .dataframe thead th {\n",
       "        text-align: right;\n",
       "    }\n",
       "</style>\n",
       "<table border=\"1\" class=\"dataframe\">\n",
       "  <thead>\n",
       "    <tr style=\"text-align: right;\">\n",
       "      <th></th>\n",
       "      <th>c1</th>\n",
       "      <th>c2</th>\n",
       "      <th>c3</th>\n",
       "      <th>c4</th>\n",
       "    </tr>\n",
       "  </thead>\n",
       "  <tbody>\n",
       "    <tr>\n",
       "      <th>0</th>\n",
       "      <td>0.179181</td>\n",
       "      <td>-1.538472</td>\n",
       "      <td>1.347553</td>\n",
       "      <td>0.43381</td>\n",
       "    </tr>\n",
       "    <tr>\n",
       "      <th>1</th>\n",
       "      <td>1.024209</td>\n",
       "      <td>0.087307</td>\n",
       "      <td>-1.281997</td>\n",
       "      <td>0.49265</td>\n",
       "    </tr>\n",
       "    <tr>\n",
       "      <th>2</th>\n",
       "      <td>0.417899</td>\n",
       "      <td>-2.002308</td>\n",
       "      <td>0.255245</td>\n",
       "      <td>-1.10515</td>\n",
       "    </tr>\n",
       "  </tbody>\n",
       "</table>\n",
       "</div>"
      ],
      "text/plain": [
       "         c1        c2        c3       c4\n",
       "0  0.179181 -1.538472  1.347553  0.43381\n",
       "1  1.024209  0.087307 -1.281997  0.49265\n",
       "2  0.417899 -2.002308  0.255245 -1.10515"
      ]
     },
     "execution_count": 141,
     "metadata": {},
     "output_type": "execute_result"
    }
   ],
   "source": [
    "pd.read_table('datas/sample3.txt',sep='\\s+')"
   ]
  },
  {
   "cell_type": "code",
   "execution_count": 143,
   "id": "4ac3a17a-99e9-4654-bfc0-da088ac33d60",
   "metadata": {},
   "outputs": [
    {
     "name": "stdout",
     "output_type": "stream",
     "text": [
      "Overwriting datas/sample4.txt\n"
     ]
    }
   ],
   "source": [
    "%%writefile datas/sample4.txt\n",
    "파일 제목: sample4.txt\n",
    "데이터 포맷의 설명:\n",
    "c1, c2, c3\n",
    "1, 1.11, one\n",
    "2, 2.22, two\n",
    "3, 3.33, three"
   ]
  },
  {
   "cell_type": "code",
   "execution_count": 144,
   "id": "9e8c8512-da2c-4660-8b39-c6f8172312e6",
   "metadata": {},
   "outputs": [
    {
     "data": {
      "text/html": [
       "<div>\n",
       "<style scoped>\n",
       "    .dataframe tbody tr th:only-of-type {\n",
       "        vertical-align: middle;\n",
       "    }\n",
       "\n",
       "    .dataframe tbody tr th {\n",
       "        vertical-align: top;\n",
       "    }\n",
       "\n",
       "    .dataframe thead th {\n",
       "        text-align: right;\n",
       "    }\n",
       "</style>\n",
       "<table border=\"1\" class=\"dataframe\">\n",
       "  <thead>\n",
       "    <tr style=\"text-align: right;\">\n",
       "      <th></th>\n",
       "      <th>c1, c2, c3</th>\n",
       "    </tr>\n",
       "  </thead>\n",
       "  <tbody>\n",
       "    <tr>\n",
       "      <th>0</th>\n",
       "      <td>1, 1.11, one</td>\n",
       "    </tr>\n",
       "    <tr>\n",
       "      <th>1</th>\n",
       "      <td>2, 2.22, two</td>\n",
       "    </tr>\n",
       "    <tr>\n",
       "      <th>2</th>\n",
       "      <td>3, 3.33, three</td>\n",
       "    </tr>\n",
       "  </tbody>\n",
       "</table>\n",
       "</div>"
      ],
      "text/plain": [
       "       c1, c2, c3\n",
       "0    1, 1.11, one\n",
       "1    2, 2.22, two\n",
       "2  3, 3.33, three"
      ]
     },
     "execution_count": 144,
     "metadata": {},
     "output_type": "execute_result"
    }
   ],
   "source": [
    "pd.read_table('datas/sample4.txt',skiprows=[0,1])"
   ]
  },
  {
   "cell_type": "code",
   "execution_count": 148,
   "id": "5acbcb09-2104-4c64-8f2d-c1ecc86becf9",
   "metadata": {},
   "outputs": [],
   "source": [
    "titanic = pd.read_csv(\"https://storage.googleapis.com/tf-datasets/titanic/train.csv\")"
   ]
  },
  {
   "cell_type": "code",
   "execution_count": 149,
   "id": "206af94b-456a-43b5-881e-27274bdd475f",
   "metadata": {},
   "outputs": [
    {
     "data": {
      "text/html": [
       "<div>\n",
       "<style scoped>\n",
       "    .dataframe tbody tr th:only-of-type {\n",
       "        vertical-align: middle;\n",
       "    }\n",
       "\n",
       "    .dataframe tbody tr th {\n",
       "        vertical-align: top;\n",
       "    }\n",
       "\n",
       "    .dataframe thead th {\n",
       "        text-align: right;\n",
       "    }\n",
       "</style>\n",
       "<table border=\"1\" class=\"dataframe\">\n",
       "  <thead>\n",
       "    <tr style=\"text-align: right;\">\n",
       "      <th></th>\n",
       "      <th>survived</th>\n",
       "      <th>sex</th>\n",
       "      <th>age</th>\n",
       "      <th>n_siblings_spouses</th>\n",
       "      <th>parch</th>\n",
       "      <th>fare</th>\n",
       "      <th>class</th>\n",
       "      <th>deck</th>\n",
       "      <th>embark_town</th>\n",
       "      <th>alone</th>\n",
       "    </tr>\n",
       "  </thead>\n",
       "  <tbody>\n",
       "    <tr>\n",
       "      <th>0</th>\n",
       "      <td>0</td>\n",
       "      <td>male</td>\n",
       "      <td>22.0</td>\n",
       "      <td>1</td>\n",
       "      <td>0</td>\n",
       "      <td>7.2500</td>\n",
       "      <td>Third</td>\n",
       "      <td>unknown</td>\n",
       "      <td>Southampton</td>\n",
       "      <td>n</td>\n",
       "    </tr>\n",
       "    <tr>\n",
       "      <th>1</th>\n",
       "      <td>1</td>\n",
       "      <td>female</td>\n",
       "      <td>38.0</td>\n",
       "      <td>1</td>\n",
       "      <td>0</td>\n",
       "      <td>71.2833</td>\n",
       "      <td>First</td>\n",
       "      <td>C</td>\n",
       "      <td>Cherbourg</td>\n",
       "      <td>n</td>\n",
       "    </tr>\n",
       "    <tr>\n",
       "      <th>2</th>\n",
       "      <td>1</td>\n",
       "      <td>female</td>\n",
       "      <td>26.0</td>\n",
       "      <td>0</td>\n",
       "      <td>0</td>\n",
       "      <td>7.9250</td>\n",
       "      <td>Third</td>\n",
       "      <td>unknown</td>\n",
       "      <td>Southampton</td>\n",
       "      <td>y</td>\n",
       "    </tr>\n",
       "    <tr>\n",
       "      <th>3</th>\n",
       "      <td>1</td>\n",
       "      <td>female</td>\n",
       "      <td>35.0</td>\n",
       "      <td>1</td>\n",
       "      <td>0</td>\n",
       "      <td>53.1000</td>\n",
       "      <td>First</td>\n",
       "      <td>C</td>\n",
       "      <td>Southampton</td>\n",
       "      <td>n</td>\n",
       "    </tr>\n",
       "    <tr>\n",
       "      <th>4</th>\n",
       "      <td>0</td>\n",
       "      <td>male</td>\n",
       "      <td>28.0</td>\n",
       "      <td>0</td>\n",
       "      <td>0</td>\n",
       "      <td>8.4583</td>\n",
       "      <td>Third</td>\n",
       "      <td>unknown</td>\n",
       "      <td>Queenstown</td>\n",
       "      <td>y</td>\n",
       "    </tr>\n",
       "    <tr>\n",
       "      <th>...</th>\n",
       "      <td>...</td>\n",
       "      <td>...</td>\n",
       "      <td>...</td>\n",
       "      <td>...</td>\n",
       "      <td>...</td>\n",
       "      <td>...</td>\n",
       "      <td>...</td>\n",
       "      <td>...</td>\n",
       "      <td>...</td>\n",
       "      <td>...</td>\n",
       "    </tr>\n",
       "    <tr>\n",
       "      <th>622</th>\n",
       "      <td>0</td>\n",
       "      <td>male</td>\n",
       "      <td>28.0</td>\n",
       "      <td>0</td>\n",
       "      <td>0</td>\n",
       "      <td>10.5000</td>\n",
       "      <td>Second</td>\n",
       "      <td>unknown</td>\n",
       "      <td>Southampton</td>\n",
       "      <td>y</td>\n",
       "    </tr>\n",
       "    <tr>\n",
       "      <th>623</th>\n",
       "      <td>0</td>\n",
       "      <td>male</td>\n",
       "      <td>25.0</td>\n",
       "      <td>0</td>\n",
       "      <td>0</td>\n",
       "      <td>7.0500</td>\n",
       "      <td>Third</td>\n",
       "      <td>unknown</td>\n",
       "      <td>Southampton</td>\n",
       "      <td>y</td>\n",
       "    </tr>\n",
       "    <tr>\n",
       "      <th>624</th>\n",
       "      <td>1</td>\n",
       "      <td>female</td>\n",
       "      <td>19.0</td>\n",
       "      <td>0</td>\n",
       "      <td>0</td>\n",
       "      <td>30.0000</td>\n",
       "      <td>First</td>\n",
       "      <td>B</td>\n",
       "      <td>Southampton</td>\n",
       "      <td>y</td>\n",
       "    </tr>\n",
       "    <tr>\n",
       "      <th>625</th>\n",
       "      <td>0</td>\n",
       "      <td>female</td>\n",
       "      <td>28.0</td>\n",
       "      <td>1</td>\n",
       "      <td>2</td>\n",
       "      <td>23.4500</td>\n",
       "      <td>Third</td>\n",
       "      <td>unknown</td>\n",
       "      <td>Southampton</td>\n",
       "      <td>n</td>\n",
       "    </tr>\n",
       "    <tr>\n",
       "      <th>626</th>\n",
       "      <td>0</td>\n",
       "      <td>male</td>\n",
       "      <td>32.0</td>\n",
       "      <td>0</td>\n",
       "      <td>0</td>\n",
       "      <td>7.7500</td>\n",
       "      <td>Third</td>\n",
       "      <td>unknown</td>\n",
       "      <td>Queenstown</td>\n",
       "      <td>y</td>\n",
       "    </tr>\n",
       "  </tbody>\n",
       "</table>\n",
       "<p>627 rows × 10 columns</p>\n",
       "</div>"
      ],
      "text/plain": [
       "     survived     sex   age  n_siblings_spouses  parch     fare   class  \\\n",
       "0           0    male  22.0                   1      0   7.2500   Third   \n",
       "1           1  female  38.0                   1      0  71.2833   First   \n",
       "2           1  female  26.0                   0      0   7.9250   Third   \n",
       "3           1  female  35.0                   1      0  53.1000   First   \n",
       "4           0    male  28.0                   0      0   8.4583   Third   \n",
       "..        ...     ...   ...                 ...    ...      ...     ...   \n",
       "622         0    male  28.0                   0      0  10.5000  Second   \n",
       "623         0    male  25.0                   0      0   7.0500   Third   \n",
       "624         1  female  19.0                   0      0  30.0000   First   \n",
       "625         0  female  28.0                   1      2  23.4500   Third   \n",
       "626         0    male  32.0                   0      0   7.7500   Third   \n",
       "\n",
       "        deck  embark_town alone  \n",
       "0    unknown  Southampton     n  \n",
       "1          C    Cherbourg     n  \n",
       "2    unknown  Southampton     y  \n",
       "3          C  Southampton     n  \n",
       "4    unknown   Queenstown     y  \n",
       "..       ...          ...   ...  \n",
       "622  unknown  Southampton     y  \n",
       "623  unknown  Southampton     y  \n",
       "624        B  Southampton     y  \n",
       "625  unknown  Southampton     n  \n",
       "626  unknown   Queenstown     y  \n",
       "\n",
       "[627 rows x 10 columns]"
      ]
     },
     "execution_count": 149,
     "metadata": {},
     "output_type": "execute_result"
    }
   ],
   "source": [
    "titanic"
   ]
  },
  {
   "cell_type": "code",
   "execution_count": 150,
   "id": "f01f015c-c25c-4c71-b3e0-ed7353380153",
   "metadata": {},
   "outputs": [
    {
     "data": {
      "text/html": [
       "<div>\n",
       "<style scoped>\n",
       "    .dataframe tbody tr th:only-of-type {\n",
       "        vertical-align: middle;\n",
       "    }\n",
       "\n",
       "    .dataframe tbody tr th {\n",
       "        vertical-align: top;\n",
       "    }\n",
       "\n",
       "    .dataframe thead th {\n",
       "        text-align: right;\n",
       "    }\n",
       "</style>\n",
       "<table border=\"1\" class=\"dataframe\">\n",
       "  <thead>\n",
       "    <tr style=\"text-align: right;\">\n",
       "      <th></th>\n",
       "      <th>survived</th>\n",
       "      <th>age</th>\n",
       "      <th>n_siblings_spouses</th>\n",
       "      <th>parch</th>\n",
       "      <th>fare</th>\n",
       "    </tr>\n",
       "  </thead>\n",
       "  <tbody>\n",
       "    <tr>\n",
       "      <th>count</th>\n",
       "      <td>627.000000</td>\n",
       "      <td>627.000000</td>\n",
       "      <td>627.000000</td>\n",
       "      <td>627.000000</td>\n",
       "      <td>627.000000</td>\n",
       "    </tr>\n",
       "    <tr>\n",
       "      <th>mean</th>\n",
       "      <td>0.387560</td>\n",
       "      <td>29.631308</td>\n",
       "      <td>0.545455</td>\n",
       "      <td>0.379585</td>\n",
       "      <td>34.385399</td>\n",
       "    </tr>\n",
       "    <tr>\n",
       "      <th>std</th>\n",
       "      <td>0.487582</td>\n",
       "      <td>12.511818</td>\n",
       "      <td>1.151090</td>\n",
       "      <td>0.792999</td>\n",
       "      <td>54.597730</td>\n",
       "    </tr>\n",
       "    <tr>\n",
       "      <th>min</th>\n",
       "      <td>0.000000</td>\n",
       "      <td>0.750000</td>\n",
       "      <td>0.000000</td>\n",
       "      <td>0.000000</td>\n",
       "      <td>0.000000</td>\n",
       "    </tr>\n",
       "    <tr>\n",
       "      <th>25%</th>\n",
       "      <td>0.000000</td>\n",
       "      <td>23.000000</td>\n",
       "      <td>0.000000</td>\n",
       "      <td>0.000000</td>\n",
       "      <td>7.895800</td>\n",
       "    </tr>\n",
       "    <tr>\n",
       "      <th>50%</th>\n",
       "      <td>0.000000</td>\n",
       "      <td>28.000000</td>\n",
       "      <td>0.000000</td>\n",
       "      <td>0.000000</td>\n",
       "      <td>15.045800</td>\n",
       "    </tr>\n",
       "    <tr>\n",
       "      <th>75%</th>\n",
       "      <td>1.000000</td>\n",
       "      <td>35.000000</td>\n",
       "      <td>1.000000</td>\n",
       "      <td>0.000000</td>\n",
       "      <td>31.387500</td>\n",
       "    </tr>\n",
       "    <tr>\n",
       "      <th>max</th>\n",
       "      <td>1.000000</td>\n",
       "      <td>80.000000</td>\n",
       "      <td>8.000000</td>\n",
       "      <td>5.000000</td>\n",
       "      <td>512.329200</td>\n",
       "    </tr>\n",
       "  </tbody>\n",
       "</table>\n",
       "</div>"
      ],
      "text/plain": [
       "         survived         age  n_siblings_spouses       parch        fare\n",
       "count  627.000000  627.000000          627.000000  627.000000  627.000000\n",
       "mean     0.387560   29.631308            0.545455    0.379585   34.385399\n",
       "std      0.487582   12.511818            1.151090    0.792999   54.597730\n",
       "min      0.000000    0.750000            0.000000    0.000000    0.000000\n",
       "25%      0.000000   23.000000            0.000000    0.000000    7.895800\n",
       "50%      0.000000   28.000000            0.000000    0.000000   15.045800\n",
       "75%      1.000000   35.000000            1.000000    0.000000   31.387500\n",
       "max      1.000000   80.000000            8.000000    5.000000  512.329200"
      ]
     },
     "execution_count": 150,
     "metadata": {},
     "output_type": "execute_result"
    }
   ],
   "source": [
    "titanic.describe()"
   ]
  },
  {
   "cell_type": "code",
   "execution_count": 151,
   "id": "cbb78f2b-0c6f-43b8-9426-b31413bffa0b",
   "metadata": {},
   "outputs": [
    {
     "data": {
      "text/html": [
       "<div>\n",
       "<style scoped>\n",
       "    .dataframe tbody tr th:only-of-type {\n",
       "        vertical-align: middle;\n",
       "    }\n",
       "\n",
       "    .dataframe tbody tr th {\n",
       "        vertical-align: top;\n",
       "    }\n",
       "\n",
       "    .dataframe thead th {\n",
       "        text-align: right;\n",
       "    }\n",
       "</style>\n",
       "<table border=\"1\" class=\"dataframe\">\n",
       "  <thead>\n",
       "    <tr style=\"text-align: right;\">\n",
       "      <th></th>\n",
       "      <th>survived</th>\n",
       "      <th>sex</th>\n",
       "      <th>age</th>\n",
       "      <th>n_siblings_spouses</th>\n",
       "      <th>parch</th>\n",
       "      <th>fare</th>\n",
       "      <th>class</th>\n",
       "      <th>deck</th>\n",
       "      <th>embark_town</th>\n",
       "      <th>alone</th>\n",
       "    </tr>\n",
       "  </thead>\n",
       "  <tbody>\n",
       "    <tr>\n",
       "      <th>0</th>\n",
       "      <td>0</td>\n",
       "      <td>male</td>\n",
       "      <td>22.0</td>\n",
       "      <td>1</td>\n",
       "      <td>0</td>\n",
       "      <td>7.2500</td>\n",
       "      <td>Third</td>\n",
       "      <td>unknown</td>\n",
       "      <td>Southampton</td>\n",
       "      <td>n</td>\n",
       "    </tr>\n",
       "    <tr>\n",
       "      <th>1</th>\n",
       "      <td>1</td>\n",
       "      <td>female</td>\n",
       "      <td>38.0</td>\n",
       "      <td>1</td>\n",
       "      <td>0</td>\n",
       "      <td>71.2833</td>\n",
       "      <td>First</td>\n",
       "      <td>C</td>\n",
       "      <td>Cherbourg</td>\n",
       "      <td>n</td>\n",
       "    </tr>\n",
       "    <tr>\n",
       "      <th>2</th>\n",
       "      <td>1</td>\n",
       "      <td>female</td>\n",
       "      <td>26.0</td>\n",
       "      <td>0</td>\n",
       "      <td>0</td>\n",
       "      <td>7.9250</td>\n",
       "      <td>Third</td>\n",
       "      <td>unknown</td>\n",
       "      <td>Southampton</td>\n",
       "      <td>y</td>\n",
       "    </tr>\n",
       "    <tr>\n",
       "      <th>3</th>\n",
       "      <td>1</td>\n",
       "      <td>female</td>\n",
       "      <td>35.0</td>\n",
       "      <td>1</td>\n",
       "      <td>0</td>\n",
       "      <td>53.1000</td>\n",
       "      <td>First</td>\n",
       "      <td>C</td>\n",
       "      <td>Southampton</td>\n",
       "      <td>n</td>\n",
       "    </tr>\n",
       "    <tr>\n",
       "      <th>4</th>\n",
       "      <td>0</td>\n",
       "      <td>male</td>\n",
       "      <td>28.0</td>\n",
       "      <td>0</td>\n",
       "      <td>0</td>\n",
       "      <td>8.4583</td>\n",
       "      <td>Third</td>\n",
       "      <td>unknown</td>\n",
       "      <td>Queenstown</td>\n",
       "      <td>y</td>\n",
       "    </tr>\n",
       "    <tr>\n",
       "      <th>5</th>\n",
       "      <td>0</td>\n",
       "      <td>male</td>\n",
       "      <td>2.0</td>\n",
       "      <td>3</td>\n",
       "      <td>1</td>\n",
       "      <td>21.0750</td>\n",
       "      <td>Third</td>\n",
       "      <td>unknown</td>\n",
       "      <td>Southampton</td>\n",
       "      <td>n</td>\n",
       "    </tr>\n",
       "    <tr>\n",
       "      <th>6</th>\n",
       "      <td>1</td>\n",
       "      <td>female</td>\n",
       "      <td>27.0</td>\n",
       "      <td>0</td>\n",
       "      <td>2</td>\n",
       "      <td>11.1333</td>\n",
       "      <td>Third</td>\n",
       "      <td>unknown</td>\n",
       "      <td>Southampton</td>\n",
       "      <td>n</td>\n",
       "    </tr>\n",
       "    <tr>\n",
       "      <th>7</th>\n",
       "      <td>1</td>\n",
       "      <td>female</td>\n",
       "      <td>14.0</td>\n",
       "      <td>1</td>\n",
       "      <td>0</td>\n",
       "      <td>30.0708</td>\n",
       "      <td>Second</td>\n",
       "      <td>unknown</td>\n",
       "      <td>Cherbourg</td>\n",
       "      <td>n</td>\n",
       "    </tr>\n",
       "    <tr>\n",
       "      <th>8</th>\n",
       "      <td>1</td>\n",
       "      <td>female</td>\n",
       "      <td>4.0</td>\n",
       "      <td>1</td>\n",
       "      <td>1</td>\n",
       "      <td>16.7000</td>\n",
       "      <td>Third</td>\n",
       "      <td>G</td>\n",
       "      <td>Southampton</td>\n",
       "      <td>n</td>\n",
       "    </tr>\n",
       "    <tr>\n",
       "      <th>9</th>\n",
       "      <td>0</td>\n",
       "      <td>male</td>\n",
       "      <td>20.0</td>\n",
       "      <td>0</td>\n",
       "      <td>0</td>\n",
       "      <td>8.0500</td>\n",
       "      <td>Third</td>\n",
       "      <td>unknown</td>\n",
       "      <td>Southampton</td>\n",
       "      <td>y</td>\n",
       "    </tr>\n",
       "  </tbody>\n",
       "</table>\n",
       "</div>"
      ],
      "text/plain": [
       "   survived     sex   age  n_siblings_spouses  parch     fare   class  \\\n",
       "0         0    male  22.0                   1      0   7.2500   Third   \n",
       "1         1  female  38.0                   1      0  71.2833   First   \n",
       "2         1  female  26.0                   0      0   7.9250   Third   \n",
       "3         1  female  35.0                   1      0  53.1000   First   \n",
       "4         0    male  28.0                   0      0   8.4583   Third   \n",
       "5         0    male   2.0                   3      1  21.0750   Third   \n",
       "6         1  female  27.0                   0      2  11.1333   Third   \n",
       "7         1  female  14.0                   1      0  30.0708  Second   \n",
       "8         1  female   4.0                   1      1  16.7000   Third   \n",
       "9         0    male  20.0                   0      0   8.0500   Third   \n",
       "\n",
       "      deck  embark_town alone  \n",
       "0  unknown  Southampton     n  \n",
       "1        C    Cherbourg     n  \n",
       "2  unknown  Southampton     y  \n",
       "3        C  Southampton     n  \n",
       "4  unknown   Queenstown     y  \n",
       "5  unknown  Southampton     n  \n",
       "6  unknown  Southampton     n  \n",
       "7  unknown    Cherbourg     n  \n",
       "8        G  Southampton     n  \n",
       "9  unknown  Southampton     y  "
      ]
     },
     "execution_count": 151,
     "metadata": {},
     "output_type": "execute_result"
    }
   ],
   "source": [
    "titanic.head(10)"
   ]
  },
  {
   "cell_type": "code",
   "execution_count": 206,
   "id": "3ab863db-bf67-451b-96e5-8c067c643822",
   "metadata": {},
   "outputs": [
    {
     "name": "stdout",
     "output_type": "stream",
     "text": [
      "200\n",
      "{'Date': 'Tue, 07 Mar 2023 08:04:15 GMT', 'Content-Encoding': 'UTF-8', 'Content-Type': 'application/xml;charset=UTF-8', 'Transfer-Encoding': 'chunked', 'Server': 'Jetty(9.2.19.v20160908)'}\n",
      "인코딩: UTF-8\n",
      "콘텐츠 타입: application/xml;charset=UTF-8\n",
      "서버: Jetty(9.2.19.v20160908)\n"
     ]
    },
    {
     "data": {
      "text/html": [
       "<div>\n",
       "<style scoped>\n",
       "    .dataframe tbody tr th:only-of-type {\n",
       "        vertical-align: middle;\n",
       "    }\n",
       "\n",
       "    .dataframe tbody tr th {\n",
       "        vertical-align: top;\n",
       "    }\n",
       "\n",
       "    .dataframe thead th {\n",
       "        text-align: right;\n",
       "    }\n",
       "</style>\n",
       "<table border=\"1\" class=\"dataframe\">\n",
       "  <thead>\n",
       "    <tr style=\"text-align: right;\">\n",
       "      <th></th>\n",
       "      <th>RNUM</th>\n",
       "      <th>T2_OFFICE_CD</th>\n",
       "      <th>VIEW_OFFICE_NM</th>\n",
       "      <th>SET_OFFICE_CD</th>\n",
       "      <th>SET_OFFICE_NM</th>\n",
       "      <th>PROPOSE_DEPT_NM</th>\n",
       "      <th>GOV_OFFICE_CD</th>\n",
       "      <th>GOV_OFFICE_NM</th>\n",
       "      <th>UNT_GRP</th>\n",
       "      <th>FIS_YEAR</th>\n",
       "      <th>...</th>\n",
       "      <th>DEPT_CD</th>\n",
       "      <th>APP_YMD</th>\n",
       "      <th>APPRAISE_PLACE</th>\n",
       "      <th>APPRAISE_MEMBER</th>\n",
       "      <th>PROPOSAL_ENTERPRISE</th>\n",
       "      <th>APPRAISE_RESULT</th>\n",
       "      <th>INS_DATE</th>\n",
       "      <th>UPD_DATE</th>\n",
       "      <th>ORIGINAL_FILENAME</th>\n",
       "      <th>GCC_DEPT_CD</th>\n",
       "    </tr>\n",
       "  </thead>\n",
       "  <tbody>\n",
       "    <tr>\n",
       "      <th>0</th>\n",
       "      <td>3403</td>\n",
       "      <td>2</td>\n",
       "      <td>서울시(사업소)</td>\n",
       "      <td>1105</td>\n",
       "      <td>상수도사업본부</td>\n",
       "      <td>상수도사업본부 공간정보과</td>\n",
       "      <td>0030</td>\n",
       "      <td>상수도사업본부</td>\n",
       "      <td>10</td>\n",
       "      <td>2022</td>\n",
       "      <td>...</td>\n",
       "      <td>1105317</td>\n",
       "      <td>2202-04-04</td>\n",
       "      <td>상수도사업본부 4층 대회의실</td>\n",
       "      <td>8</td>\n",
       "      <td>2</td>\n",
       "      <td>평가결과.hwp</td>\n",
       "      <td>2022-04-05 16:57:02.0</td>\n",
       "      <td>2022-04-05 16:57:02.0</td>\n",
       "      <td>평가결과.hwp</td>\n",
       "      <td>6114103</td>\n",
       "    </tr>\n",
       "    <tr>\n",
       "      <th>1</th>\n",
       "      <td>3402</td>\n",
       "      <td>2</td>\n",
       "      <td>서울시(사업소)</td>\n",
       "      <td>1105</td>\n",
       "      <td>상수도사업본부</td>\n",
       "      <td>상수도사업본부 급수운영과</td>\n",
       "      <td>0030</td>\n",
       "      <td>상수도사업본부</td>\n",
       "      <td>10</td>\n",
       "      <td>2023</td>\n",
       "      <td>...</td>\n",
       "      <td>1105305</td>\n",
       "      <td>2023-03-07</td>\n",
       "      <td>상수도사업본부 4층 회의실</td>\n",
       "      <td>7</td>\n",
       "      <td>3</td>\n",
       "      <td>평가결과(서부,강서,강동).hwp</td>\n",
       "      <td>2023-03-07 16:26:55.0</td>\n",
       "      <td>2023-03-07 16:26:55.0</td>\n",
       "      <td>평가결과(서부,강서,강동).hwp</td>\n",
       "      <td>6113212</td>\n",
       "    </tr>\n",
       "    <tr>\n",
       "      <th>2</th>\n",
       "      <td>3401</td>\n",
       "      <td>2</td>\n",
       "      <td>서울시(사업소)</td>\n",
       "      <td>1105</td>\n",
       "      <td>상수도사업본부</td>\n",
       "      <td>상수도사업본부 급수운영과</td>\n",
       "      <td>0030</td>\n",
       "      <td>상수도사업본부</td>\n",
       "      <td>10</td>\n",
       "      <td>2023</td>\n",
       "      <td>...</td>\n",
       "      <td>1105305</td>\n",
       "      <td>2023-03-07</td>\n",
       "      <td>서울시상수도사업본부 4층 회의실</td>\n",
       "      <td>7</td>\n",
       "      <td>3</td>\n",
       "      <td>평가위원별 평가점수 결과공개(동부,북부,강남).hwpx</td>\n",
       "      <td>2023-03-07 16:39:11.0</td>\n",
       "      <td>2023-03-07 16:39:11.0</td>\n",
       "      <td>평가위원별 평가점수 결과공개(동부,북부,강남).hwpx</td>\n",
       "      <td>6113212</td>\n",
       "    </tr>\n",
       "    <tr>\n",
       "      <th>3</th>\n",
       "      <td>3400</td>\n",
       "      <td>2</td>\n",
       "      <td>서울시(사업소)</td>\n",
       "      <td>1091</td>\n",
       "      <td>문화본부</td>\n",
       "      <td>서울도서관 도서관정책과</td>\n",
       "      <td>1064</td>\n",
       "      <td>서울도서관</td>\n",
       "      <td>10</td>\n",
       "      <td>2023</td>\n",
       "      <td>...</td>\n",
       "      <td>1091007</td>\n",
       "      <td>2023-03-06</td>\n",
       "      <td>서울도서관 사서교육장(4F)</td>\n",
       "      <td>7</td>\n",
       "      <td>2</td>\n",
       "      <td>제안서평가위원회 결과(광화문 책마당 행사공간 실시설계 및 제작설치용역).hwp</td>\n",
       "      <td>2023-03-07 16:10:22.0</td>\n",
       "      <td>2023-03-07 16:10:45.0</td>\n",
       "      <td>제안서평가위원회 결과(광화문 책마당 행사공간 실시설계 및 제작설치용역).hwp</td>\n",
       "      <td>6113196</td>\n",
       "    </tr>\n",
       "    <tr>\n",
       "      <th>4</th>\n",
       "      <td>3399</td>\n",
       "      <td>1</td>\n",
       "      <td>서울시(본청)</td>\n",
       "      <td>1005</td>\n",
       "      <td>관광체육국</td>\n",
       "      <td>관광체육국 관광산업과</td>\n",
       "      <td>0010</td>\n",
       "      <td>본청</td>\n",
       "      <td>10</td>\n",
       "      <td>2023</td>\n",
       "      <td>...</td>\n",
       "      <td>1091004</td>\n",
       "      <td>2023-03-03</td>\n",
       "      <td>한국프레스센터 5층 관광산업과 회의실</td>\n",
       "      <td>6</td>\n",
       "      <td>1</td>\n",
       "      <td>평가위원별 평가점수 결과(계약마등 등록용).hwp</td>\n",
       "      <td>2023-03-03 17:24:23.0</td>\n",
       "      <td>2023-03-03 17:25:45.0</td>\n",
       "      <td>평가위원별 평가점수 결과(계약마등 등록용).hwp</td>\n",
       "      <td>6113875</td>\n",
       "    </tr>\n",
       "  </tbody>\n",
       "</table>\n",
       "<p>5 rows × 23 columns</p>\n",
       "</div>"
      ],
      "text/plain": [
       "   RNUM T2_OFFICE_CD VIEW_OFFICE_NM SET_OFFICE_CD SET_OFFICE_NM  \\\n",
       "0  3403            2       서울시(사업소)          1105       상수도사업본부   \n",
       "1  3402            2       서울시(사업소)          1105       상수도사업본부   \n",
       "2  3401            2       서울시(사업소)          1105       상수도사업본부   \n",
       "3  3400            2       서울시(사업소)          1091          문화본부   \n",
       "4  3399            1        서울시(본청)          1005         관광체육국   \n",
       "\n",
       "  PROPOSE_DEPT_NM GOV_OFFICE_CD GOV_OFFICE_NM UNT_GRP FIS_YEAR  ...  DEPT_CD  \\\n",
       "0   상수도사업본부 공간정보과          0030       상수도사업본부      10     2022  ...  1105317   \n",
       "1   상수도사업본부 급수운영과          0030       상수도사업본부      10     2023  ...  1105305   \n",
       "2   상수도사업본부 급수운영과          0030       상수도사업본부      10     2023  ...  1105305   \n",
       "3    서울도서관 도서관정책과          1064         서울도서관      10     2023  ...  1091007   \n",
       "4     관광체육국 관광산업과          0010            본청      10     2023  ...  1091004   \n",
       "\n",
       "      APP_YMD        APPRAISE_PLACE APPRAISE_MEMBER PROPOSAL_ENTERPRISE  \\\n",
       "0  2202-04-04       상수도사업본부 4층 대회의실               8                   2   \n",
       "1  2023-03-07        상수도사업본부 4층 회의실               7                   3   \n",
       "2  2023-03-07     서울시상수도사업본부 4층 회의실               7                   3   \n",
       "3  2023-03-06       서울도서관 사서교육장(4F)               7                   2   \n",
       "4  2023-03-03  한국프레스센터 5층 관광산업과 회의실               6                   1   \n",
       "\n",
       "                               APPRAISE_RESULT               INS_DATE  \\\n",
       "0                                     평가결과.hwp  2022-04-05 16:57:02.0   \n",
       "1                           평가결과(서부,강서,강동).hwp  2023-03-07 16:26:55.0   \n",
       "2               평가위원별 평가점수 결과공개(동부,북부,강남).hwpx  2023-03-07 16:39:11.0   \n",
       "3  제안서평가위원회 결과(광화문 책마당 행사공간 실시설계 및 제작설치용역).hwp  2023-03-07 16:10:22.0   \n",
       "4                  평가위원별 평가점수 결과(계약마등 등록용).hwp  2023-03-03 17:24:23.0   \n",
       "\n",
       "                UPD_DATE                            ORIGINAL_FILENAME  \\\n",
       "0  2022-04-05 16:57:02.0                                     평가결과.hwp   \n",
       "1  2023-03-07 16:26:55.0                           평가결과(서부,강서,강동).hwp   \n",
       "2  2023-03-07 16:39:11.0               평가위원별 평가점수 결과공개(동부,북부,강남).hwpx   \n",
       "3  2023-03-07 16:10:45.0  제안서평가위원회 결과(광화문 책마당 행사공간 실시설계 및 제작설치용역).hwp   \n",
       "4  2023-03-03 17:25:45.0                  평가위원별 평가점수 결과(계약마등 등록용).hwp   \n",
       "\n",
       "  GCC_DEPT_CD  \n",
       "0     6114103  \n",
       "1     6113212  \n",
       "2     6113212  \n",
       "3     6113196  \n",
       "4     6113875  \n",
       "\n",
       "[5 rows x 23 columns]"
      ]
     },
     "execution_count": 206,
     "metadata": {},
     "output_type": "execute_result"
    }
   ],
   "source": [
    "import requests\n",
    "import xmltodict\n",
    "\n",
    "response = requests.get('http://openapi.seoul.go.kr:8088/sample/xml/negoContractInfo/1/5/')\n",
    "print(response.status_code)\n",
    "print(response.headers)\n",
    "# print(f\"인코딩: {response.encoding}\")\n",
    "# print(f\"콘텐츠 타입: {response.headers['Content-Type']}\")\n",
    "# print(f\"서버: {response.headers['Server']}\")\n",
    "\n",
    "a = xmltodict.parse(response.text)\n",
    "# a['negoContractInfo']['list_total_count']\n",
    "# a['negoContractInfo']['RESULT']\n",
    "b = a['negoContractInfo']['row']\n",
    "b\n",
    "c = pd.DataFrame(b)\n",
    "c\n",
    "\n",
    "\n",
    "# import pandas as pd\n",
    "# df = pd.DataFrame(response)\n",
    "# df\n",
    "\n",
    "# print(df['message'].count())"
   ]
  },
  {
   "cell_type": "code",
   "execution_count": 246,
   "id": "09ced938-7be7-4754-bb12-d64661af4ea4",
   "metadata": {},
   "outputs": [
    {
     "data": {
      "text/html": [
       "<div>\n",
       "<style scoped>\n",
       "    .dataframe tbody tr th:only-of-type {\n",
       "        vertical-align: middle;\n",
       "    }\n",
       "\n",
       "    .dataframe tbody tr th {\n",
       "        vertical-align: top;\n",
       "    }\n",
       "\n",
       "    .dataframe thead th {\n",
       "        text-align: right;\n",
       "    }\n",
       "</style>\n",
       "<table border=\"1\" class=\"dataframe\">\n",
       "  <thead>\n",
       "    <tr style=\"text-align: right;\">\n",
       "      <th></th>\n",
       "      <th>CRTR_DT</th>\n",
       "      <th>PASNG_PTTRN</th>\n",
       "      <th>TOT_PSGRCNT</th>\n",
       "      <th>TOT_PSGRCNT_PEPL</th>\n",
       "      <th>TOT_PSGRCNT_CHILD</th>\n",
       "      <th>TOT_PSGRCNT_BYNGR</th>\n",
       "      <th>TOT_PSGRCNT_ODPSN</th>\n",
       "      <th>TOT_PSGRCNT_DABLPSN</th>\n",
       "    </tr>\n",
       "  </thead>\n",
       "  <tbody>\n",
       "    <tr>\n",
       "      <th>count</th>\n",
       "      <td>5</td>\n",
       "      <td>5</td>\n",
       "      <td>5</td>\n",
       "      <td>5</td>\n",
       "      <td>0</td>\n",
       "      <td>1</td>\n",
       "      <td>0</td>\n",
       "      <td>0</td>\n",
       "    </tr>\n",
       "    <tr>\n",
       "      <th>unique</th>\n",
       "      <td>1</td>\n",
       "      <td>5</td>\n",
       "      <td>5</td>\n",
       "      <td>5</td>\n",
       "      <td>0</td>\n",
       "      <td>1</td>\n",
       "      <td>0</td>\n",
       "      <td>0</td>\n",
       "    </tr>\n",
       "    <tr>\n",
       "      <th>top</th>\n",
       "      <td>20230302</td>\n",
       "      <td>①[지하철] → ②[버스] → ③[경기버스] → ④[버스] → ⑤[지하철]</td>\n",
       "      <td>7</td>\n",
       "      <td>6</td>\n",
       "      <td>NaN</td>\n",
       "      <td>1</td>\n",
       "      <td>NaN</td>\n",
       "      <td>NaN</td>\n",
       "    </tr>\n",
       "    <tr>\n",
       "      <th>freq</th>\n",
       "      <td>5</td>\n",
       "      <td>1</td>\n",
       "      <td>1</td>\n",
       "      <td>1</td>\n",
       "      <td>NaN</td>\n",
       "      <td>1</td>\n",
       "      <td>NaN</td>\n",
       "      <td>NaN</td>\n",
       "    </tr>\n",
       "  </tbody>\n",
       "</table>\n",
       "</div>"
      ],
      "text/plain": [
       "         CRTR_DT                                PASNG_PTTRN TOT_PSGRCNT  \\\n",
       "count          5                                          5           5   \n",
       "unique         1                                          5           5   \n",
       "top     20230302  ①[지하철] → ②[버스] → ③[경기버스] → ④[버스] → ⑤[지하철]           7   \n",
       "freq           5                                          1           1   \n",
       "\n",
       "       TOT_PSGRCNT_PEPL TOT_PSGRCNT_CHILD TOT_PSGRCNT_BYNGR TOT_PSGRCNT_ODPSN  \\\n",
       "count                 5                 0                 1                 0   \n",
       "unique                5                 0                 1                 0   \n",
       "top                   6               NaN                 1               NaN   \n",
       "freq                  1               NaN                 1               NaN   \n",
       "\n",
       "       TOT_PSGRCNT_DABLPSN  \n",
       "count                    0  \n",
       "unique                   0  \n",
       "top                    NaN  \n",
       "freq                   NaN  "
      ]
     },
     "execution_count": 246,
     "metadata": {},
     "output_type": "execute_result"
    }
   ],
   "source": [
    "import requests\n",
    "\n",
    "response = requests.get(\t\n",
    "\"http://openapi.seoul.go.kr:8088/sample/xml/ksccPatternStation/1/5/\")\n",
    "response.status_code\n",
    "\n",
    "response.headers\n",
    "\n",
    "# import json\n",
    "# print(response.json().keys())\n",
    "# response = response.json()\n",
    "import xmltodict\n",
    "xmltodict.parse(response.text)\n",
    "import pandas as pd\n",
    "pd.DataFrame(xmltodict.parse(response.text)['ksccPatternStation']['row']).describe()"
   ]
  },
  {
   "cell_type": "code",
   "execution_count": 24,
   "id": "255c2421-3fb6-40b6-8406-04846a9d900f",
   "metadata": {},
   "outputs": [
    {
     "data": {
      "text/plain": [
       "26"
      ]
     },
     "execution_count": 24,
     "metadata": {},
     "output_type": "execute_result"
    }
   ],
   "source": [
    "a =[i for i in \"abcdefghijklmnopqrstuvwxyz\"]\n",
    "\n",
    "a.index('d')"
   ]
  },
  {
   "cell_type": "code",
   "execution_count": null,
   "id": "980c2378-3400-4c27-b8fe-3e61fdd9052c",
   "metadata": {},
   "outputs": [],
   "source": [
    "13 15 14 (3)   20 21 5 (5)    23 5 3 (4)\n",
    "13 11 12       6  5  21       3  21 23"
   ]
  }
 ],
 "metadata": {
  "kernelspec": {
   "display_name": "Python 3 (ipykernel)",
   "language": "python",
   "name": "python3"
  },
  "language_info": {
   "codemirror_mode": {
    "name": "ipython",
    "version": 3
   },
   "file_extension": ".py",
   "mimetype": "text/x-python",
   "name": "python",
   "nbconvert_exporter": "python",
   "pygments_lexer": "ipython3",
   "version": "3.9.13"
  }
 },
 "nbformat": 4,
 "nbformat_minor": 5
}

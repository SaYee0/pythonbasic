{
 "cells": [
  {
   "cell_type": "code",
   "execution_count": 10,
   "id": "85efbe00-8f03-46ef-8e33-30335333b3c5",
   "metadata": {},
   "outputs": [
    {
     "name": "stdout",
     "output_type": "stream",
     "text": [
      "1.7320508075688772는 실수입니다\n",
      "끝 ~\n"
     ]
    }
   ],
   "source": [
    "a = 3**(1/2)\n",
    "if type(a) is float:\n",
    "    print(f\"{a}는 실수입니다\")\n",
    "# elif문은 if가 True일때는 그냥 스킵되고, False일 때만 실행된다. \n",
    "# elif문은 if가 틀렸을때만 실행되지만, if와 elif를 합했을때 1이 나오지는 않는다. else로 완성된다. \n",
    "elif type(a) is int:\n",
    "    print(\"{}는 정수입니다\".format(a))\n",
    "# else문은 논리적으로 if와 else를 합하면 1이다. 모든 경우를 포함한다. \n",
    "else:\n",
    "    print(f\"{a}는 아무것도 아닙니다.\")\n",
    "print(\"끝 ~\")"
   ]
  },
  {
   "cell_type": "code",
   "execution_count": 15,
   "id": "2052894e-4c7c-44d9-b0f3-5559bdc6e4d9",
   "metadata": {},
   "outputs": [
    {
     "name": "stdin",
     "output_type": "stream",
     "text": [
      "아이디를 입력하세요: 4\n",
      "님등몇? 3\n"
     ]
    },
    {
     "name": "stdout",
     "output_type": "stream",
     "text": [
      "제한적인 권한을 갖습니다.\n"
     ]
    }
   ],
   "source": [
    "# 연습문제\n",
    "id = input(\"아이디를 입력하세요:\")\n",
    "if id == \"admin\":\n",
    "    print(\"최고관리자, 모든 권한을 갖습니다.\")   \n",
    "else:\n",
    "    grade = input(\"님등몇?\")\n",
    "    if 1<=int(grade)<=3:\n",
    "        print(\"제한적인 권한을 갖습니다.\")\n",
    "    elif 1>int(grade) or int(grade)>3:\n",
    "        print(\"권한이 없습니다.\")\n",
    "    else:\n",
    "        print(\"적절한 형식이 아닙니다.\")"
   ]
  },
  {
   "cell_type": "code",
   "execution_count": 15,
   "id": "31df666e-0480-435a-8fd9-239500a3023b",
   "metadata": {},
   "outputs": [
    {
     "name": "stdin",
     "output_type": "stream",
     "text": [
      "자연수를 입력해주세요 50\n"
     ]
    },
    {
     "name": "stdout",
     "output_type": "stream",
     "text": [
      "0\n"
     ]
    }
   ],
   "source": [
    "# 연습문제\n",
    "num = int(input(\"자연수를 입력해주세요\"))\n",
    "if num >= 50:\n",
    "    print(num-50)\n",
    "else :\n",
    "    print(0)"
   ]
  },
  {
   "cell_type": "code",
   "execution_count": 27,
   "id": "d3ecfdb1-bb13-4804-b8b7-43efa9ab204e",
   "metadata": {},
   "outputs": [
    {
     "name": "stdin",
     "output_type": "stream",
     "text": [
      "자연수를 입력해주세요 5\n"
     ]
    },
    {
     "name": "stdout",
     "output_type": "stream",
     "text": [
      "홀수입니다.\n"
     ]
    }
   ],
   "source": [
    "# 연습문제\n",
    "num = float(input(\"자연수를 입력해주세요\"))\n",
    "if num % 2 == 0:\n",
    "    print(\"짝수입니다.\")\n",
    "elif num % 2 == 1:\n",
    "    print(\"홀수입니다.\")\n",
    "else :\n",
    "    print(\"자연수를 입력하라니깐\")"
   ]
  },
  {
   "cell_type": "code",
   "execution_count": 9,
   "id": "2fef89f9-1a02-4694-b77f-9597c65e7888",
   "metadata": {},
   "outputs": [
    {
     "name": "stdin",
     "output_type": "stream",
     "text": [
      "소프트웨어 설계 점수를 입력하세요 1\n",
      "소프트웨어 개발 점수를 입력하세요 1\n",
      "데이터베이스 구축 점수를 입력하세요 1\n",
      "프로그래밍 언어 활용 점수를 입력하세요 1\n",
      "정보시스템 구축관리 점수를 입력하세요 1\n"
     ]
    },
    {
     "name": "stdout",
     "output_type": "stream",
     "text": [
      "불합격\n"
     ]
    }
   ],
   "source": [
    "# 연습문제\n",
    "a = int(input(\"소프트웨어 설계 점수를 입력하세요\"))\n",
    "b = int(input(\"소프트웨어 개발 점수를 입력하세요\"))\n",
    "c = int(input(\"데이터베이스 구축 점수를 입력하세요\"))\n",
    "d = int(input(\"프로그래밍 언어 활용 점수를 입력하세요\"))\n",
    "e = int(input(\"정보시스템 구축관리 점수를 입력하세요\"))\n",
    "sum = (a+b+c+d+e)/5\n",
    "\n",
    "if 0<=a<=100 and 0<=b<=100 and 0<=c<=100 and 0<=d<=100 and 0<=e<=100:\n",
    "    if sum>=60 :\n",
    "        print(\"합격\")\n",
    "    else : \n",
    "        print(\"불합격\")\n",
    "else :\n",
    "    print(\"잘못된 점수입니다.\")"
   ]
  },
  {
   "cell_type": "code",
   "execution_count": 14,
   "id": "30603431-b6cb-4517-bd86-ad8b04b68742",
   "metadata": {},
   "outputs": [
    {
     "name": "stdin",
     "output_type": "stream",
     "text": [
      "온도를 입력해주세요 52.6483\n"
     ]
    },
    {
     "name": "stdout",
     "output_type": "stream",
     "text": [
      "액체로 예상됩니다.\n"
     ]
    }
   ],
   "source": [
    "temp = float(input(\"온도를 입력해주세요\"))\n",
    "\n",
    "if temp >= 100:\n",
    "    print(\"기체로 예상됩니다.\")\n",
    "elif 0 <= temp < 100:\n",
    "    print(\"액체로 예상됩니다.\")\n",
    "else :\n",
    "    print(\"고체로 예상됩니다.\")"
   ]
  },
  {
   "cell_type": "code",
   "execution_count": 6,
   "id": "dbe2c098-dd09-4a88-a43e-0508efc9cb82",
   "metadata": {},
   "outputs": [
    {
     "name": "stdin",
     "output_type": "stream",
     "text": [
      "나이를 입력하세요 11\n"
     ]
    },
    {
     "name": "stdout",
     "output_type": "stream",
     "text": [
      "1100원입니다.\n"
     ]
    }
   ],
   "source": [
    "age = int(input(\"나이를 입력하세요\"))\n",
    "\n",
    "if age >= 19:\n",
    "    print(\"1500원입니다.\")\n",
    "elif 11 <= age < 19:\n",
    "    print(\"1100원입니다.\")\n",
    "elif 6 <= age < 11:\n",
    "    print(\"800입니다.\")\n",
    "elif 0 <= age < 6:\n",
    "    print(\"무료입니다.\")\n",
    "else:\n",
    "    print(\"나이를 다시 입력해주세요\")"
   ]
  },
  {
   "cell_type": "code",
   "execution_count": 12,
   "id": "01ca8c57-56d1-4a86-9488-995cc464e312",
   "metadata": {},
   "outputs": [
    {
     "name": "stdin",
     "output_type": "stream",
     "text": [
      "발주수량을 입력하세요 1957\n"
     ]
    },
    {
     "name": "stdout",
     "output_type": "stream",
     "text": [
      "1957개를 주문하셨네요\n",
      "적용 할인율은 10%입니다.\n",
      "총 발주 금액은 $17613입니다.\n"
     ]
    }
   ],
   "source": [
    "# 연습문제\n",
    "Q = int(input(\"발주수량을 입력하세요\"))\n",
    "print(f\"{Q}개를 주문하셨네요\")\n",
    "P = 10\n",
    "\n",
    "if Q <= 1000:\n",
    "    print(\"적용 할인율은 {}%입니다.\\n총 발주 금액은 ${}입니다.\".format(0,Q*P))\n",
    "elif 1000 < Q <= 1500:\n",
    "    print(\"적용 할인율은 {}%입니다.\\n총 발주 금액은 ${}입니다.\".format(5,int(Q*P*0.95)))\n",
    "elif 1500 < Q <= 2000:\n",
    "    print(\"적용 할인율은 {}%입니다.\\n총 발주 금액은 ${}입니다.\".format(10,int(Q*P*0.9)))\n",
    "else :\n",
    "    print(\"적용 할인율은 {}%입니다.\\n총 발주 금액은 ${}입니다.\".format(20,int(Q*P*0.8)))\n"
   ]
  },
  {
   "cell_type": "code",
   "execution_count": 27,
   "id": "1d428a76-150a-4a3d-a80e-76b37aae3f5d",
   "metadata": {},
   "outputs": [
    {
     "name": "stdin",
     "output_type": "stream",
     "text": [
      "주민번호 뒷자리를 입력하세요: 2245012\n"
     ]
    },
    {
     "name": "stdout",
     "output_type": "stream",
     "text": [
      "여자입니다.\n"
     ]
    }
   ],
   "source": [
    "# 연습문제\n",
    "num = input(\"주민번호 뒷자리를 입력하세요:\")\n",
    "\n",
    "if len(num) == 7:\n",
    "    if num[0] == '1' or num[0] == '3':\n",
    "        print(\"남자입니다.\")\n",
    "    elif num[0] == '2' or num[0] == '4':\n",
    "        print(\"여자입니다.\")\n",
    "    else :\n",
    "        print(\"잘못된 입력입니다.\")\n",
    "else:\n",
    "    print(\"자리수를 잘못 입력했습니다.\")"
   ]
  },
  {
   "cell_type": "code",
   "execution_count": 33,
   "id": "5ee88e5a-4653-4e6b-a91e-e13b174a403e",
   "metadata": {},
   "outputs": [
    {
     "name": "stdin",
     "output_type": "stream",
     "text": [
      "확인할 연도를 입력하세요 1988\n"
     ]
    },
    {
     "name": "stdout",
     "output_type": "stream",
     "text": [
      "윤년입니다.\n"
     ]
    }
   ],
   "source": [
    "year = int(input(\"확인할 연도를 입력하세요\"))\n",
    "\n",
    "if year % 4 != 0:\n",
    "    print(\"평년입니다.\")\n",
    "else :\n",
    "    if year % 100 == 0 and year % 400 != 0:\n",
    "        print(\"평년입니다.\")\n",
    "    else: \n",
    "        print(\"윤년입니다.\")"
   ]
  },
  {
   "cell_type": "code",
   "execution_count": 1,
   "id": "337f7ba1-51e3-47a0-822f-ac39ee6d9d62",
   "metadata": {},
   "outputs": [
    {
     "ename": "SyntaxError",
     "evalue": "invalid syntax (561323508.py, line 3)",
     "output_type": "error",
     "traceback": [
      "\u001b[1;36m  File \u001b[1;32m\"C:\\Users\\Playdata\\AppData\\Local\\Temp\\ipykernel_7944\\561323508.py\"\u001b[1;36m, line \u001b[1;32m3\u001b[0m\n\u001b[1;33m    if year % 4 == 0 or ((year/100)%4) not in (1,2,3)\u001b[0m\n\u001b[1;37m                                                      ^\u001b[0m\n\u001b[1;31mSyntaxError\u001b[0m\u001b[1;31m:\u001b[0m invalid syntax\n"
     ]
    }
   ],
   "source": [
    "year = int(input(\"확인할 연도를 입력하세요\"))\n",
    "\n",
    "if year % 4 == 0 and ()\n",
    "    print(\"윤년입니다.\")\n",
    "else :\n",
    "    print(\"평년입니다.\")"
   ]
  },
  {
   "cell_type": "code",
   "execution_count": null,
   "id": "0232cd5d-3aca-4a88-ad22-1fb70ce02786",
   "metadata": {},
   "outputs": [],
   "source": []
  }
 ],
 "metadata": {
  "kernelspec": {
   "display_name": "Python 3 (ipykernel)",
   "language": "python",
   "name": "python3"
  },
  "language_info": {
   "codemirror_mode": {
    "name": "ipython",
    "version": 3
   },
   "file_extension": ".py",
   "mimetype": "text/x-python",
   "name": "python",
   "nbconvert_exporter": "python",
   "pygments_lexer": "ipython3",
   "version": "3.9.13"
  }
 },
 "nbformat": 4,
 "nbformat_minor": 5
}

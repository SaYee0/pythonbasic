{
 "cells": [
  {
   "cell_type": "code",
   "execution_count": 1,
   "id": "e993637a-f43c-4ccc-9846-c6917b70f58d",
   "metadata": {},
   "outputs": [
    {
     "name": "stdout",
     "output_type": "stream",
     "text": [
      "200\n"
     ]
    }
   ],
   "source": [
    "import requests\n",
    "\n",
    "response = requests.get('https://api.github.com/repositories',\n",
    "                        headers = {'Accept' : 'application/vnd.github.v3+json'})\n",
    "print(response.status_code)"
   ]
  },
  {
   "cell_type": "code",
   "execution_count": 2,
   "id": "9e91b718-6403-415a-85dc-ff4656a0ee2a",
   "metadata": {},
   "outputs": [
    {
     "name": "stdout",
     "output_type": "stream",
     "text": [
      "인코딩: utf-8\n",
      "콘텐츠 타입: application/json; charset=utf-8\n",
      "서버: GitHub.com\n"
     ]
    }
   ],
   "source": [
    "print(f\"인코딩: {response.encoding}\")\n",
    "print(f\"콘텐츠 타입: {response.headers['Content-Type']}\")\n",
    "print(f\"서버: {response.headers['server']}\")"
   ]
  },
  {
   "cell_type": "code",
   "execution_count": 3,
   "id": "522d908d-e422-4b61-bd9d-e8cf1c77102b",
   "metadata": {},
   "outputs": [
    {
     "name": "stdout",
     "output_type": "stream",
     "text": [
      "200\n"
     ]
    }
   ],
   "source": [
    "import requests\n",
    "\n",
    "response = requests.get('https://api.github.com/repositories',\n",
    "                       headers = {'Accept' : 'application/vnd.github.v3+json'})\n",
    "print(response.status_code)"
   ]
  },
  {
   "cell_type": "code",
   "execution_count": 4,
   "id": "35a6d125-9415-40a4-bfe1-97dbb990f1a2",
   "metadata": {},
   "outputs": [
    {
     "name": "stdout",
     "output_type": "stream",
     "text": [
      "{\n",
      "  \"id\": 1,\n",
      "  \"node_id\": \"MDEwOlJlcG9zaXRvcnkx\",\n",
      "  \"name\": \"grit\",\n",
      "  \"full_name\": \"mojombo/grit\",\n",
      "  \"private\": false,\n",
      "  \"owner\": {\n",
      "    \"login\": \"mojombo\",\n",
      "    \"id\": 1,\n",
      "    \"node_id\": \"MDQ6VXNlcjE=\",\n",
      "\n"
     ]
    }
   ],
   "source": [
    "import json \n",
    "print(json.dumps(response.json()[0], indent=2)[:200])"
   ]
  },
  {
   "cell_type": "code",
   "execution_count": 5,
   "id": "d7d2f4bb-7218-4350-be42-827bd16d08cf",
   "metadata": {},
   "outputs": [
    {
     "data": {
      "text/plain": [
       "{'Server': 'GitHub.com', 'Date': 'Tue, 28 Feb 2023 09:59:52 GMT', 'Content-Type': 'application/json; charset=utf-8', 'Cache-Control': 'public, max-age=60, s-maxage=60', 'Vary': 'Accept, Accept-Encoding, Accept, X-Requested-With', 'ETag': 'W/\"3b08785a912fd9158abc75739a1173520f25f493467dd3eaef5d02674b84ca0f\"', 'X-GitHub-Media-Type': 'github.v3; format=json', 'Link': '<https://api.github.com/repositories?since=369>; rel=\"next\", <https://api.github.com/repositories{?since}>; rel=\"first\"', 'x-github-api-version-selected': '2022-11-28', 'Access-Control-Expose-Headers': 'ETag, Link, Location, Retry-After, X-GitHub-OTP, X-RateLimit-Limit, X-RateLimit-Remaining, X-RateLimit-Used, X-RateLimit-Resource, X-RateLimit-Reset, X-OAuth-Scopes, X-Accepted-OAuth-Scopes, X-Poll-Interval, X-GitHub-Media-Type, X-GitHub-SSO, X-GitHub-Request-Id, Deprecation, Sunset', 'Access-Control-Allow-Origin': '*', 'Strict-Transport-Security': 'max-age=31536000; includeSubdomains; preload', 'X-Frame-Options': 'deny', 'X-Content-Type-Options': 'nosniff', 'X-XSS-Protection': '0', 'Referrer-Policy': 'origin-when-cross-origin, strict-origin-when-cross-origin', 'Content-Security-Policy': \"default-src 'none'\", 'Content-Encoding': 'gzip', 'X-RateLimit-Limit': '60', 'X-RateLimit-Remaining': '58', 'X-RateLimit-Reset': '1677581992', 'X-RateLimit-Resource': 'core', 'X-RateLimit-Used': '2', 'Accept-Ranges': 'bytes', 'Content-Length': '32760', 'X-GitHub-Request-Id': 'EF6D:26F4:34003B:47724C:63FDD098'}"
      ]
     },
     "execution_count": 5,
     "metadata": {},
     "output_type": "execute_result"
    }
   ],
   "source": [
    "response.headers"
   ]
  },
  {
   "cell_type": "code",
   "execution_count": 6,
   "id": "16533aa1-e7b6-464b-a74e-e171df431e8c",
   "metadata": {},
   "outputs": [
    {
     "name": "stdout",
     "output_type": "stream",
     "text": [
      "200\n"
     ]
    }
   ],
   "source": [
    "response = requests.get('https://api.github.com/search/repositories',\n",
    "                       params = {'q' : 'data_scienced+language: python'}, \n",
    "                        headers = {'Accept' : 'application/vnd.github.v3+json'})\n",
    "print(response.status_code)"
   ]
  },
  {
   "cell_type": "code",
   "execution_count": 7,
   "id": "0713026b-e5bc-43bc-9be0-19af03ae836b",
   "metadata": {},
   "outputs": [
    {
     "data": {
      "text/plain": [
       "{'total_count': 0, 'incomplete_results': False, 'items': []}"
      ]
     },
     "execution_count": 7,
     "metadata": {},
     "output_type": "execute_result"
    }
   ],
   "source": [
    "response.json()"
   ]
  },
  {
   "cell_type": "code",
   "execution_count": 33,
   "id": "450bb38e-4958-4e73-b247-767c3160f332",
   "metadata": {},
   "outputs": [
    {
     "name": "stdout",
     "output_type": "stream",
     "text": [
      "200\n",
      "dict_keys(['list_total_count', 'row_count', 'row'])\n",
      "{'@number': 'true', '#text': '100'}\n",
      "{'@number': 'true', '#text': '10'}\n",
      "[{'CLASS_NAME': '환율', 'KEYSTAT_NAME': '원/달러 환율(종가)', 'DATA_VALUE': '1322.6', 'CYCLE': '20230228', 'UNIT_NAME': '원'}, {'CLASS_NAME': '환율', 'KEYSTAT_NAME': '원/엔(100엔) 환율(매매기준율)', 'DATA_VALUE': '967.36', 'CYCLE': '20230228', 'UNIT_NAME': '원'}, {'CLASS_NAME': '환율', 'KEYSTAT_NAME': '원/유로 환율(매매기준율)', 'DATA_VALUE': '1397.76', 'CYCLE': '20230228', 'UNIT_NAME': '원'}, {'CLASS_NAME': '환율', 'KEYSTAT_NAME': '원/위안 환율(종가)', 'DATA_VALUE': '190.08', 'CYCLE': '20230228', 'UNIT_NAME': '원'}, {'CLASS_NAME': '주식', 'KEYSTAT_NAME': '주식거래대금', 'DATA_VALUE': '139364232100', 'CYCLE': '202301', 'UNIT_NAME': '천원'}, {'CLASS_NAME': '주식', 'KEYSTAT_NAME': '고객예탁금', 'DATA_VALUE': '49274947', 'CYCLE': '202301', 'UNIT_NAME': '백만원'}, {'CLASS_NAME': '채권', 'KEYSTAT_NAME': '채권거래대금', 'DATA_VALUE': '52925279', 'CYCLE': '202301', 'UNIT_NAME': '백만원'}, {'CLASS_NAME': '투자', 'KEYSTAT_NAME': '국내수요기계수주액', 'DATA_VALUE': '2580781', 'CYCLE': '202212', 'UNIT_NAME': '백만원'}, {'CLASS_NAME': '투자', 'KEYSTAT_NAME': '건설수주액', 'DATA_VALUE': '24709003', 'CYCLE': '202212', 'UNIT_NAME': '백만원'}, {'CLASS_NAME': '가계', 'KEYSTAT_NAME': '가구당월평균소득', 'DATA_VALUE': '6401718.413', 'CYCLE': '2022Q4', 'UNIT_NAME': '원'}]\n"
     ]
    }
   ],
   "source": [
    "import requests\n",
    "import xmltodict\n",
    "\n",
    "response = requests.get('https://ecos.bok.or.kr/api/KeyStatisticList/sample/xml/kr/1/10',\n",
    "                        params = {'서비스명':'KeyStatisticList',\n",
    "                                 '인증키':'FVBL2QLKSSYWVTTQQSO5',\n",
    "                                 '요청유형':'xml',\n",
    "                                 '언어구분':'kr',\n",
    "                                 '요청시작건수':'1',\n",
    "                                 '요청종료건수':'10'})\n",
    "print(response.status_code)\n",
    "response.headers\n",
    "# print(response.json())\n",
    "a = xmltodict.parse(response.text)['KeyStatisticList'].keys()\n",
    "# response['Content-Type']\n",
    "print(a)\n",
    "\n",
    "# print(xmltodict.parse(response.text)['KeyStatisticList']['list_total_count'])\n",
    "# print(xmltodict.parse(response.text)['KeyStatisticList']['row_count'])\n",
    "print(xmltodict.parse(response.text)['KeyStatisticList']['row'])\n",
    "\n",
    "\n"
   ]
  },
  {
   "cell_type": "code",
   "execution_count": 11,
   "id": "2f797781-7d46-4907-a83c-f43aedbb7c1d",
   "metadata": {},
   "outputs": [
    {
     "name": "stdout",
     "output_type": "stream",
     "text": [
      "dict_keys(['status', 'message', 'page_no', 'page_count', 'total_count', 'total_page', 'list'])\n",
      "25\n"
     ]
    }
   ],
   "source": [
    "import requests\n",
    "\n",
    "\n",
    "response = requests.get('https://opendart.fss.or.kr/api/list.json', \n",
    "                       params = {'crtfc_key' : 'baeffdd5f7a6cb86d052ca2ba3e2a5c52f554133',\n",
    "                                'last_reprt_at' : 'Y',\n",
    "                                'page_no' : '5',\n",
    "                                'page_count' : '25'})\n",
    "\n",
    "\n",
    "import json\n",
    "print(response.json().keys())\n",
    "response = response.json()\n",
    "\n",
    "import pandas as pd\n",
    "df = pd.DataFrame(response)\n",
    "print(df['message'].count())\n",
    "\n",
    "# import time\n",
    "# while True:\n",
    "#     time.sleep()\n",
    "#     display(df[['status','message','page_no','page_no', 'page_count', 'total_count', 'total_page', 'list']].sample(10))\n",
    "    \n",
    "\n",
    "# print()\n",
    "# response.json()['list']\n",
    "\n",
    "# import time \n",
    "# from datetime import datetime\n",
    "\n",
    "# def handle_rate_limits (response):\n",
    "#     now = datetime.now()\n",
    "#     reset_time = datetime.fromtimestamp (int(response.headers['X-RateLimit-Reset'])) \n",
    "#     remaining_requests = response.headers['X-Rate limit-Remaining']\n",
    "#     remaining_time = (reset_time - now).total_seconds()\n",
    "#     intervals = remaining_time / (1.0+ int (remaining_requests))\n",
    "\n",
    "# print('Sleeping for', intervals)\n",
    "# time.sleep(intervals)\n",
    "# return True"
   ]
  },
  {
   "cell_type": "code",
   "execution_count": null,
   "id": "ffb051f4-ec7b-4787-924a-cbe60c3f7f07",
   "metadata": {},
   "outputs": [],
   "source": [
    "response = requests.get('https://opendart.fss.or.kr/api/list.json', \n",
    "                       params = {'crtfc_key' : 'baeffdd5f7a6cb86d052ca2ba3e2a5c52f554133',\n",
    "                                'last_reprt_at' : 'Y',\n",
    "                                'page_no' : '5',\n",
    "                                'page_count' : '25'})"
   ]
  },
  {
   "cell_type": "code",
   "execution_count": null,
   "id": "1a4569f9-bd90-4402-a427-4870171667f7",
   "metadata": {},
   "outputs": [],
   "source": [
    "response.headers"
   ]
  },
  {
   "cell_type": "code",
   "execution_count": null,
   "id": "7db403a1-2f4a-4700-88ac-f74a76a25ce8",
   "metadata": {},
   "outputs": [],
   "source": [
    "import urllib.robotparser\n",
    "rp = urllib.robotparser.RobotFileParser()\n",
    "rp.set_url(\"https:www.reuters.com/robots.txt\")\n",
    "rp.read()\n",
    "\n",
    "rp.can_fetch(useragent=\"*\", url =\"https://reuters.com/sitemap.xml\")"
   ]
  },
  {
   "cell_type": "code",
   "execution_count": null,
   "id": "c8d2b0a9-f9e1-4419-a07d-5ea7b976a5d5",
   "metadata": {},
   "outputs": [],
   "source": []
  }
 ],
 "metadata": {
  "kernelspec": {
   "display_name": "Python 3 (ipykernel)",
   "language": "python",
   "name": "python3"
  },
  "language_info": {
   "codemirror_mode": {
    "name": "ipython",
    "version": 3
   },
   "file_extension": ".py",
   "mimetype": "text/x-python",
   "name": "python",
   "nbconvert_exporter": "python",
   "pygments_lexer": "ipython3",
   "version": "3.9.13"
  }
 },
 "nbformat": 4,
 "nbformat_minor": 5
}

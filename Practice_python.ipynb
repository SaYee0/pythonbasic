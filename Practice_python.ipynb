{
 "cells": [
  {
   "cell_type": "code",
   "execution_count": 17,
   "id": "d0aca72e-0837-4c32-8a02-e40a3e5c06c8",
   "metadata": {},
   "outputs": [
    {
     "name": "stdout",
     "output_type": "stream",
     "text": [
      "헤이\n"
     ]
    }
   ],
   "source": [
    "class trigger:\n",
    "    def __init__(self):\n",
    "        self.name = '헤이'\n",
    "    def aim(self):\n",
    "        print(self.name)\n",
    "        \n",
    "a = trigger()\n",
    "a.aim()"
   ]
  },
  {
   "cell_type": "code",
   "execution_count": 20,
   "id": "4bd78194-fa53-41a1-9f1e-ded53db6d0db",
   "metadata": {},
   "outputs": [
    {
     "name": "stdout",
     "output_type": "stream",
     "text": [
      "ddd\n"
     ]
    }
   ],
   "source": [
    "class kass:\n",
    "    def __init__(self):\n",
    "        self.age = \"ddd\"\n",
    "    def beige(self):\n",
    "        print(self.age)\n",
    "        \n",
    "b = kass()\n",
    "b.beige()"
   ]
  },
  {
   "cell_type": "code",
   "execution_count": 19,
   "id": "11c16df5-fbfc-4dc9-8941-4314869ad17f",
   "metadata": {},
   "outputs": [
    {
     "name": "stdout",
     "output_type": "stream",
     "text": [
      "이기수\n"
     ]
    }
   ],
   "source": [
    "class encore:\n",
    "    def __init__(self):\n",
    "        self.teacher = \"이기수\"\n",
    "        \n",
    "    def bab(self):\n",
    "        print(self.teacher)\n",
    "        \n",
    "c = encore()\n",
    "c.bab()"
   ]
  },
  {
   "cell_type": "code",
   "execution_count": 25,
   "id": "9420ae24-5062-473e-9682-a1b6846b1a38",
   "metadata": {},
   "outputs": [
    {
     "name": "stdout",
     "output_type": "stream",
     "text": [
      "<__main__.encore object at 0x00000289E0735040>\n",
      "조세연\n",
      "32\n"
     ]
    }
   ],
   "source": [
    "class encore:\n",
    "    def __init__(self, name, age):\n",
    "        self.name = name\n",
    "        self.age = age\n",
    "        \n",
    "    # def bab(self):\n",
    "    #     print(self.teacher)\n",
    "        \n",
    "c = encore(\"조세연\", 32)\n",
    "print(c)\n",
    "print(c.name)\n",
    "print(c.age)"
   ]
  },
  {
   "cell_type": "code",
   "execution_count": 26,
   "id": "5b2e1c95-1cd0-4c03-93a9-79c199ac353b",
   "metadata": {},
   "outputs": [
    {
     "name": "stdout",
     "output_type": "stream",
     "text": [
      "안녕하세요 제 이름은 마리아입니다.\n",
      "이름:  마리아\n",
      "나이:  20\n",
      "주소:  동작구\n"
     ]
    }
   ],
   "source": [
    "class Person:\n",
    "    def __init__(self, name, age, address):\n",
    "        self.hello = \"안녕하세요\"\n",
    "        self.name = name\n",
    "        self.age = age\n",
    "        self.address = address\n",
    "        \n",
    "    def greeting(self):\n",
    "        print(f\"{self.hello} 제 이름은 {self.name}입니다.\")\n",
    "        \n",
    "maria = Person(\"마리아\",20,\"동작구\")\n",
    "maria.greeting()\n",
    "\n",
    "print(\"이름: \", maria.name)\n",
    "print(\"나이: \", maria.age)\n",
    "print(\"주소: \", maria.address)"
   ]
  },
  {
   "cell_type": "code",
   "execution_count": 30,
   "id": "feadb7da-9b6b-4a53-94de-c9ec02e8077c",
   "metadata": {},
   "outputs": [
    {
     "name": "stdin",
     "output_type": "stream",
     "text": [
      "\n",
      "메뉴를 보고 싶으시다면 Y, y, 예를 써주시고\n",
      "안 봐도 되시면 N, n, 아니오를 써주세요. n\n",
      "\n",
      "한식, 중식, 일식, 양식, 기타 중에 입력하세요: 한식\n"
     ]
    },
    {
     "name": "stdout",
     "output_type": "stream",
     "text": [
      "\n",
      "한식 을/를 고르셨습니다.\n",
      "\n",
      "생선구이 이/가 선택되었습니다.\n",
      "점심식사 맛있게 하세요^^\n"
     ]
    }
   ],
   "source": [
    "import random\n",
    "menu_list = {\"한식\":[\"덮밥\", \"비빔밥\", \"볶음밥\", \"김치찌개\", \"부대찌개\",\n",
    "                    \"생선찜\", \"생선구이\", \"냉면\", \"설렁탕\"],\n",
    "              \"중식\":[\"짜장&짬뽕\", \"마라탕\"],\n",
    "             \"일식\":[\"돈까스\", \"우동\", \"초밥\", \"회\", \"샤브샤브\"],\n",
    "             \"양식\":[\"피자\", \"치킨\", \"햄버거\"],\n",
    "             \"기타\":[\"고기\", \"곱창\", \"밥버거\"]}\n",
    "def select_genre():\n",
    "    while True:\n",
    "        var = input(\"\\n한식, 중식, 일식, 양식, 기타 중에 입력하세요:\")\n",
    "        if var in (\"한식\", \"중식\", \"일식\", \"양식\", \"기타\"):\n",
    "            break\n",
    "        else:\n",
    "            print(\"다시 입력해주세요.\")\n",
    "    return var\n",
    "def view_menu_list():\n",
    "    while True:\n",
    "        var = input(\"\"\"\n",
    "메뉴를 보고 싶으시다면 Y, y, 예를 써주시고\n",
    "안 봐도 되시면 N, n, 아니오를 써주세요.\"\"\")\n",
    "        if var == \"Y\" or var == \"y\" or var == \"예\":\n",
    "            print(\"\\n한식은\", menu_list[\"한식\"],\"이 있습니다.\\n\")\n",
    "            print(\"중식은\", menu_list[\"중식\"],\"이 있습니다.\\n\")\n",
    "            print(\"일식은\", menu_list[\"일식\"],\"이 있습니다.\\n\")\n",
    "            print(\"양식은\", menu_list[\"양식\"],\"이 있습니다.\\n\")\n",
    "            print(\"기타는\", menu_list[\"기타\"],\"이 있습니다.\")\n",
    "            break\n",
    "        elif var == \"N\" or var == \"n\" or var == \"아니오\":\n",
    "            break\n",
    "        else:\n",
    "            print(\"다시 입력하세요\")\n",
    "view_menu = view_menu_list()\n",
    "menu_type = select_genre()\n",
    "print(f\"\\n{menu_type} 을/를 고르셨습니다.\")\n",
    "selected = random.choice(menu_list[menu_type])\n",
    "print(f\"\\n{selected} 이/가 선택되었습니다.\\n점심식사 맛있게 하세요^^\")"
   ]
  },
  {
   "cell_type": "code",
   "execution_count": 4,
   "id": "139a3d10-32f4-4f4e-8765-4f66dc826d9c",
   "metadata": {},
   "outputs": [
    {
     "name": "stdin",
     "output_type": "stream",
     "text": [
      "첫번째 이름, 나이, 주소를 입력해주세요 마리아,23,관악구\n"
     ]
    },
    {
     "name": "stdout",
     "output_type": "stream",
     "text": [
      "마리아님,입력주신 내용을 정리하면 아래와 같습니다.\n",
      "첫번째 이름: 마리아\n",
      "첫번째 나이: 23\n",
      "첫번째 주소: 관악구\n"
     ]
    },
    {
     "name": "stdin",
     "output_type": "stream",
     "text": [
      "두번째 이름, 나이, 주소를 입력해주세요 제임스,22,구로구\n"
     ]
    },
    {
     "name": "stdout",
     "output_type": "stream",
     "text": [
      "두번째 이름: 제임스\n",
      "두번째 나이: 22\n",
      "두번째 주소: 구로구\n"
     ]
    }
   ],
   "source": [
    "class Person:\n",
    "    def __init__(self, name, age, address):\n",
    "        self.hello = \"안녕하세요\"\n",
    "        self.name = name\n",
    "        self.age = age\n",
    "        self.address = address\n",
    "    def greeting(self):\n",
    "        print(f\"{self.name}님, 입력주신 내용을 정리하면 아래와 같습니다.\")\n",
    "        \n",
    "name1, age1, address1 = input(\"첫번째 이름, 나이, 주소를 입력해주세요\").split(\",\")        \n",
    "Per1 = Person(name1,age1,address1)\n",
    "Per1.greeting()\n",
    "print(\"첫번째 이름:\",Per1.name)\n",
    "print(\"첫번째 나이:\",Per1.age)\n",
    "print(\"첫번째 주소:\",Per1.address)\n",
    "\n",
    "name2, age2, address2 = input(\"두번째 이름, 나이, 주소를 입력해주세요\").split(\",\")        \n",
    "Per2 = Person(name2,age2,address2)\n",
    "print(\"두번째 이름:\",Per2.name)\n",
    "print(\"두번째 나이:\",Per2.age)\n",
    "print(\"두번째 주소:\",Per2.address)"
   ]
  },
  {
   "cell_type": "code",
   "execution_count": null,
   "id": "9884c522-87cb-4963-a8c2-29622dfea18e",
   "metadata": {},
   "outputs": [
    {
     "name": "stdin",
     "output_type": "stream",
     "text": [
      "첫번째 이름, 나이, 주소를 입력해주세요 마리아,23,구로구\n"
     ]
    },
    {
     "name": "stdout",
     "output_type": "stream",
     "text": [
      "입력주신 내용을 정리하면 아래와 같습니다.\n",
      "    이름:마리아\n",
      "    나이:23\n",
      "    주소:구로구\n"
     ]
    }
   ],
   "source": [
    "class Person:\n",
    "    def __init__(self, name, age, address):\n",
    "        self.hello = \"안녕하세요\"\n",
    "        self.name = name\n",
    "        self.age = age\n",
    "        self.address = address\n",
    "    def greeting(self):\n",
    "        print(f\"\"\"입력주신 내용을 정리하면 아래와 같습니다.\n",
    "    이름:{self.name}\n",
    "    나이:{self.age}\n",
    "    주소:{self.address}\"\"\")\n",
    "        \n",
    "name1, age1, address1 = input(\"첫번째 이름, 나이, 주소를 입력해주세요\").split(\",\")        \n",
    "Per1 = Person(name1,age1,address1)\n",
    "Per1.greeting()\n",
    "\n",
    "name2, age2, address2 = input(\"두번째 이름, 나이, 주소를 입력해주세요\").split(\",\")        \n",
    "Per2 = Person(name2,age2,address2)\n",
    "Per2.greeting()"
   ]
  },
  {
   "cell_type": "code",
   "execution_count": 16,
   "id": "a41fa6fe-957a-4a0a-bcb1-07b234e2fafa",
   "metadata": {},
   "outputs": [
    {
     "name": "stdin",
     "output_type": "stream",
     "text": [
      "라이프, 마나, AP를 입력하세요 100 200 300\n"
     ]
    },
    {
     "data": {
      "text/plain": [
       "595.0"
      ]
     },
     "execution_count": 16,
     "metadata": {},
     "output_type": "execute_result"
    }
   ],
   "source": [
    "class annie:\n",
    "    def __init__(self, life, mana, AP):\n",
    "        self.life = life\n",
    "        self.mana = mana\n",
    "        self.AP = AP\n",
    "    def tibbers(self): #tibbers 라는 매서드를 이용해서 구해야 한다.\n",
    "        return self.AP * 0.65 + 400\n",
    "        \n",
    "life, mana, AP = map(int,input(\"라이프, 마나, AP를 입력하세요\").split())\n",
    "information = annie(life, mana, AP)\n",
    "information.tibbers()"
   ]
  },
  {
   "cell_type": "code",
   "execution_count": null,
   "id": "a8f06060-f5b5-40a6-af35-e4d12335797e",
   "metadata": {},
   "outputs": [],
   "source": [
    "class annie:\n",
    "    def __init__(self, hp, mp, ap):\n",
    "        self.hp = hp\n",
    "        self.mp = mp\n",
    "        self.ap = ap\n",
    "    def tibbers(self):\n",
    "        print()"
   ]
  }
 ],
 "metadata": {
  "kernelspec": {
   "display_name": "Python 3 (ipykernel)",
   "language": "python",
   "name": "python3"
  },
  "language_info": {
   "codemirror_mode": {
    "name": "ipython",
    "version": 3
   },
   "file_extension": ".py",
   "mimetype": "text/x-python",
   "name": "python",
   "nbconvert_exporter": "python",
   "pygments_lexer": "ipython3",
   "version": "3.9.13"
  }
 },
 "nbformat": 4,
 "nbformat_minor": 5
}

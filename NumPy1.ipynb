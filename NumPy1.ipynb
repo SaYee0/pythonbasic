{
 "cells": [
  {
   "cell_type": "code",
   "execution_count": null,
   "id": "1f91a87f-eb49-44c3-a2ec-c86774d4eeee",
   "metadata": {},
   "outputs": [],
   "source": [
    "import numpy as np"
   ]
  },
  {
   "cell_type": "code",
   "execution_count": null,
   "id": "c8f08e7b-cb1b-4303-b63e-774ce7510128",
   "metadata": {},
   "outputs": [],
   "source": [
    "# ndarray class로부터 객체를 생성한다. \n",
    "ar = np.array([_ for _ in range(10)])\n",
    "print(a)"
   ]
  },
  {
   "cell_type": "code",
   "execution_count": null,
   "id": "cd8937c3-d3cb-4bb7-9649-960bae6535c1",
   "metadata": {},
   "outputs": [],
   "source": [
    "type(ar)"
   ]
  },
  {
   "cell_type": "code",
   "execution_count": null,
   "id": "26750e80-45c6-46b6-8a1f-14ed337d8244",
   "metadata": {},
   "outputs": [],
   "source": [
    "ar.shape\n",
    "# (10,) -> 1차원의 10칸 갖는 ndarray라는 뜻임. shape이라는 것을 통해 모양을 유추할 수 있음"
   ]
  },
  {
   "cell_type": "code",
   "execution_count": null,
   "id": "c54b1a92-0fd9-461b-8f62-d3b70b533664",
   "metadata": {},
   "outputs": [],
   "source": [
    "len(ar)"
   ]
  },
  {
   "cell_type": "code",
   "execution_count": null,
   "id": "8db3a933-3935-44c6-a956-e82e32becc76",
   "metadata": {},
   "outputs": [],
   "source": [
    "c = np.array([[10,20,30,40],\n",
    "              [50,60,70,80]])\n",
    "c"
   ]
  },
  {
   "cell_type": "code",
   "execution_count": null,
   "id": "5df16c61-8318-454a-8b3c-d5a69c7ad33b",
   "metadata": {},
   "outputs": [],
   "source": [
    "a = np.array([[1,2,3,4],[5,6,7,8]])\n",
    "a[1,:3] #1,2,3의 값을 가져오기 "
   ]
  },
  {
   "cell_type": "code",
   "execution_count": null,
   "id": "a2fdc409-8efa-47f0-9db4-b8676f02fbfa",
   "metadata": {},
   "outputs": [],
   "source": [
    "a = [[1,2,3,4],[5,6,7,8],[9,10,11,12]]\n",
    "a[:2][:3]"
   ]
  },
  {
   "cell_type": "code",
   "execution_count": null,
   "id": "9a328ef7-888d-46f6-a06f-bcc4c83be4ce",
   "metadata": {},
   "outputs": [],
   "source": [
    "m = np.array([[0,1,2,3,4],[5,6,7,8,900],[10,11,12,13,14]])\n",
    "print(m)\n",
    "\n",
    "print(m[1,2])\n",
    "print(m[-1,-1])\n",
    "print(m[1,1:3])\n",
    "print(m[1:,2])\n",
    "print(m[:2,3:])"
   ]
  },
  {
   "cell_type": "code",
   "execution_count": null,
   "id": "a7aba2bd-ad3b-497a-bc0e-5da5a2666aa1",
   "metadata": {},
   "outputs": [],
   "source": [
    "a =[1,2,3,4,5]\n",
    "a[3:4]"
   ]
  },
  {
   "cell_type": "code",
   "execution_count": null,
   "id": "93d89a19-25cc-442f-b123-a1beb9a65736",
   "metadata": {},
   "outputs": [],
   "source": [
    "e = np.zeros((5,2) ,dtype='i')\n",
    "print(e)"
   ]
  },
  {
   "cell_type": "code",
   "execution_count": null,
   "id": "8d92b2d2-80b8-4171-bd4b-516d8b4bb6ab",
   "metadata": {},
   "outputs": [],
   "source": [
    "m = np.arange(12)\n",
    "print(m)\n",
    "\n",
    "n = m.reshape(3,4)\n",
    "print(n)\n",
    "\n",
    "print()\n",
    "o = m.reshape(2,3,2)\n",
    "print(o)\n",
    "\n",
    "print()\n",
    "i = o.flatten()\n",
    "print(i)"
   ]
  },
  {
   "cell_type": "code",
   "execution_count": null,
   "id": "80cba01b-4dbe-4ca5-8ee3-49a385d077ae",
   "metadata": {},
   "outputs": [],
   "source": [
    "n[:2, np.newaxis]"
   ]
  },
  {
   "cell_type": "code",
   "execution_count": null,
   "id": "96a09f28-dcc1-4faa-b3f2-da91e7270406",
   "metadata": {},
   "outputs": [],
   "source": [
    "a = np.zeros((4,2))\n",
    "b = np.ones((4,2))\n",
    "c = np.array([['a','b'],['c','d'],['e','f'],['g','h']])\n",
    "\n",
    "print(a.shape)\n",
    "print(a)\n",
    "print()\n",
    "print(b)\n",
    "print()\n",
    "print(c)\n",
    "print()\n",
    "\n",
    "d = np.stack([a,b,c], axis=2)\n",
    "print(d.shape)\n",
    "print(d)"
   ]
  },
  {
   "cell_type": "code",
   "execution_count": null,
   "id": "a2d782ad-6a31-4c14-b11c-95ec936e32f2",
   "metadata": {},
   "outputs": [],
   "source": [
    "d = np.stack([a,b,c], axis=2)\n",
    "d.shape\n",
    "print(d)\n"
   ]
  },
  {
   "cell_type": "code",
   "execution_count": null,
   "id": "bbd02d49-c653-4b3e-96d1-a3d93fede003",
   "metadata": {},
   "outputs": [],
   "source": [
    "a = np.arange(6).reshape(3,2)\n",
    "print(a)\n",
    "\n",
    "b = np.tile(a, (2,3))\n",
    "print(b)"
   ]
  },
  {
   "cell_type": "code",
   "execution_count": null,
   "id": "c7727b54-1897-4827-a716-573d79466900",
   "metadata": {},
   "outputs": [],
   "source": [
    "a = np.zeros((3,3))\n",
    "b = np.ones((3,2))\n",
    "c = np.arange(10,151,10).reshape(3,5)\n",
    "\n",
    "\n",
    "d = np.hstack([a,b])\n",
    "e = np.vstack([d,c])\n",
    "f = np.tile(e,(2,1))\n",
    "# print(d)\n",
    "print(f)"
   ]
  },
  {
   "cell_type": "code",
   "execution_count": null,
   "id": "bd6fcb50-c62f-4f06-835b-257f1738bb52",
   "metadata": {},
   "outputs": [],
   "source": [
    "practice = np.array([[1.1, 7.1, 8.0, 2.1, 6.5, 7.2],\n",
    "                     [2.7, 5.2, 3.3, 9.0, 7.7, 2.8],\n",
    "                     [0.7, 8.8, 4.2, 8.9, 4.3, 7.4],\n",
    "                     [8.2, 1.1, 5.4, 2.9, 6.9, 0.2],\n",
    "                     [7.4, 4.8, 2.7, 3.1, 2.8, 8.9]])\n",
    "\n",
    "np.max(practice)\n",
    "np.sum(practice, axis=0)\n",
    "np.max(practice, axis=0)\n",
    "np.mean(practice, axis=1)\n",
    "np.min(practice, axis=1)"
   ]
  },
  {
   "cell_type": "code",
   "execution_count": null,
   "id": "993a33b7-abe9-4c63-96b8-b78b07d43883",
   "metadata": {},
   "outputs": [],
   "source": [
    "a = np.array([[1,2],[3,4],[5,6]])\n",
    "a"
   ]
  },
  {
   "cell_type": "code",
   "execution_count": null,
   "id": "e2b2e654-d633-460a-ba71-103adcf8c159",
   "metadata": {},
   "outputs": [],
   "source": [
    "print(a[[0,1,2],[0,1,0]])"
   ]
  },
  {
   "cell_type": "code",
   "execution_count": null,
   "id": "84778dbc-2bc6-4923-96a1-fcbd7ce1ae25",
   "metadata": {},
   "outputs": [],
   "source": [
    "print(a[:,[0,1,0]])"
   ]
  },
  {
   "cell_type": "code",
   "execution_count": null,
   "id": "35bc6d05-ded3-4ca5-a40d-0aac94f9808c",
   "metadata": {},
   "outputs": [],
   "source": [
    "scores = np.array([[1,2,3,4],\n",
    "                   [46,99,100,71],\n",
    "                   [81,59,90,100]])\n",
    "print(scores)\n",
    "print()\n",
    "\n",
    "print(scores[:,[2,1,3,0]])\n",
    "print(scores[:,np.array[46,99,100,71]])"
   ]
  },
  {
   "cell_type": "code",
   "execution_count": null,
   "id": "1122e281-8da2-4589-9554-07074fb62648",
   "metadata": {},
   "outputs": [],
   "source": [
    "np.random.seed(0)\n",
    "np.random.rand(5)"
   ]
  },
  {
   "cell_type": "code",
   "execution_count": null,
   "id": "337a413f-be14-495f-8dfa-53ba59e9d753",
   "metadata": {},
   "outputs": [],
   "source": [
    "np.random.seed(0)\n"
   ]
  },
  {
   "cell_type": "code",
   "execution_count": null,
   "id": "306a356a-f74b-455c-9e3d-1c5015f4326d",
   "metadata": {},
   "outputs": [],
   "source": [
    "a = np.random.choice(2, 100, p=[0.5, 0.5])\n",
    "print(a)\n",
    "np.mean(a)"
   ]
  },
  {
   "cell_type": "code",
   "execution_count": null,
   "id": "1704bc9a-443e-48e7-a3cf-3efbb96dbe53",
   "metadata": {},
   "outputs": [],
   "source": [
    "a = np.random.choice(2, 100)\n",
    "print(a)\n",
    "np.mean(a)"
   ]
  },
  {
   "cell_type": "code",
   "execution_count": null,
   "id": "1c9bac96-44f9-455a-ae46-4f552d92750a",
   "metadata": {},
   "outputs": [],
   "source": [
    "a = np.random.randint(1, 7, size = 100)\n",
    "print(a)\n",
    "np.mean(a)"
   ]
  },
  {
   "cell_type": "code",
   "execution_count": null,
   "id": "22f15871-55b4-4d67-9880-a7905b7647f5",
   "metadata": {},
   "outputs": [],
   "source": [
    "np.random.seed(0)\n",
    "np.random.randint(1, 7, 100)\n",
    "print(a)\n",
    "\n",
    "a.mean()"
   ]
  },
  {
   "cell_type": "code",
   "execution_count": null,
   "id": "529865c8-1330-446f-9fc7-33b5eccb330b",
   "metadata": {},
   "outputs": [],
   "source": [
    "a = np.array(([1,2,3],[4,5,6]))\n",
    "b = np.array(([7,8,9],[10,11,12]))\n",
    "\n",
    "a = a * 2\n",
    "b = b * 2\n",
    "\n",
    "a = a[1,:]\n",
    "b = b[0,:]\n",
    "\n",
    "c = np.vstack([a,b])\n",
    "print(c)\n"
   ]
  },
  {
   "cell_type": "code",
   "execution_count": null,
   "id": "f1e2e534-591b-481f-8580-d834c2fea2e8",
   "metadata": {},
   "outputs": [],
   "source": [
    "a = np.arange(1, 10).reshape(3,-1)\n",
    "a = a * 3\n",
    "print(a)\n"
   ]
  },
  {
   "cell_type": "code",
   "execution_count": null,
   "id": "2d874b14-90eb-4684-ad00-3ed414ccd0e8",
   "metadata": {},
   "outputs": [],
   "source": [
    "a = np.zeros(10)\n",
    "a[4] = 1\n",
    "print(a)\n",
    "len(a)"
   ]
  },
  {
   "cell_type": "code",
   "execution_count": null,
   "id": "6d3edfc4-a49b-4f9a-af81-42c10baa77d9",
   "metadata": {},
   "outputs": [],
   "source": [
    "a = np.arange(50)\n",
    "a = a[::-1]\n",
    "print(a)"
   ]
  },
  {
   "cell_type": "code",
   "execution_count": null,
   "id": "a2f7d88d-4590-42da-a756-2a107b79bb30",
   "metadata": {},
   "outputs": [],
   "source": [
    "a = np.zeros((3,3,3), dtype='<U10')\n",
    "a"
   ]
  },
  {
   "cell_type": "code",
   "execution_count": null,
   "id": "dbef6d89-1ffd-47d6-9930-d237c5fffcaa",
   "metadata": {},
   "outputs": [],
   "source": [
    "a = np.full((3,3,3), 'playdata', dtype = 'U10')\n",
    "a"
   ]
  },
  {
   "cell_type": "code",
   "execution_count": null,
   "id": "e5e91407-10df-40b2-bee0-8bcb689904be",
   "metadata": {},
   "outputs": [],
   "source": [
    "a = np.arange(2,41,2).reshape(2,2,-1)\n",
    "a"
   ]
  },
  {
   "cell_type": "code",
   "execution_count": null,
   "id": "e7b27b18-32e9-472a-bbe2-9dba6cd2a2f5",
   "metadata": {},
   "outputs": [],
   "source": [
    "a = np.eye(4, dtype='i')\n",
    "a"
   ]
  },
  {
   "cell_type": "code",
   "execution_count": null,
   "id": "a6d139d6-af7a-4d0b-8a5b-8917c1e6f8b9",
   "metadata": {},
   "outputs": [],
   "source": [
    "np.random.seed(0)\n",
    "a = np.random.randint(0,2,9)\n",
    "a = a.astype('?').reshape(3,-1)\n",
    "a"
   ]
  },
  {
   "cell_type": "code",
   "execution_count": null,
   "id": "9aea8855-6f44-4857-a84f-bad07d8a0314",
   "metadata": {},
   "outputs": [],
   "source": [
    "a = np.zeros((4,2))\n",
    "b = np.array([['a','b'],['c','d'],['e','f'],['g','h']])\n",
    "print(a)\n",
    "print(b)\n",
    "print()\n",
    "\n",
    "c = np.stack([a,b], axis=2)\n",
    "print(c.shape)\n",
    "print(c)"
   ]
  },
  {
   "cell_type": "code",
   "execution_count": null,
   "id": "13634874-9012-4183-afdf-d8131a30177f",
   "metadata": {},
   "outputs": [],
   "source": [
    "np.random.seed(0)\n",
    "a = ((np.random.rand(10)) * 10).astype(\"i\")\n",
    "a"
   ]
  },
  {
   "cell_type": "code",
   "execution_count": null,
   "id": "5323bbd9-159b-4d10-b4e5-9630292e9313",
   "metadata": {},
   "outputs": [],
   "source": [
    "a = np.ones((10,10))\n",
    "b = np.zeros((8,8))\n",
    "a[1:9,1:9] = b\n",
    "a"
   ]
  },
  {
   "cell_type": "code",
   "execution_count": null,
   "id": "293e1fc7-ce63-4016-9d1e-e56c88a507e4",
   "metadata": {},
   "outputs": [],
   "source": [
    "a = np.ones((10,10)).astype('i')\n",
    "n = range(1,9)\n",
    "a[n,1:-1] = 0\n",
    "a"
   ]
  },
  {
   "cell_type": "code",
   "execution_count": null,
   "id": "e6247dc2-fcda-4955-96d5-355ea5117a4d",
   "metadata": {},
   "outputs": [],
   "source": [
    "a = np.zeros((10,10)).astype('i')\n",
    "a[1:-1,1:-1] = 1\n",
    "a"
   ]
  },
  {
   "cell_type": "code",
   "execution_count": null,
   "id": "06100185-7f1b-44f9-94e5-09c4b5698975",
   "metadata": {},
   "outputs": [],
   "source": [
    "a = np.ones((10,10)).astype('i')\n",
    "print(a)\n",
    "print()\n",
    "\n",
    "a[[0,-1],:] = 0\n",
    "a[:,[0,-1]]= 0\n",
    "\n",
    "print(a)"
   ]
  },
  {
   "cell_type": "code",
   "execution_count": null,
   "id": "750f2d21-3062-44f7-8ebc-2b5904a2024e",
   "metadata": {},
   "outputs": [],
   "source": [
    "a = np.ones((8,8)).astype('i')\n",
    "# print(a)\n",
    "\n",
    "for i in range(8):\n",
    "    for j in range(8):\n",
    "        if i % 2 ==0:\n",
    "            if j % 2 !=0:\n",
    "                a[i,j] = 0\n",
    "        else:\n",
    "            if j % 2 ==0:\n",
    "                a[i,j] = 0\n",
    "            \n",
    "print(a)\n",
    "# a[[0,2,4,6],[0,2,4,6]] = 0\n",
    "# a[[1,3,5,7],[1,3,5,7]] = 0\n",
    "# print(a)"
   ]
  },
  {
   "cell_type": "code",
   "execution_count": null,
   "id": "dd3682cd-6b53-40cc-9e89-d349df49f93f",
   "metadata": {},
   "outputs": [],
   "source": [
    "a = np.ones((8,8), dtype=int)\n",
    "\n",
    "a[::2,1::2] = 0\n",
    "a[1::2,::2] = 0\n",
    "a"
   ]
  },
  {
   "cell_type": "code",
   "execution_count": null,
   "id": "2197bb58-816f-47cd-b746-12bf089a91d5",
   "metadata": {},
   "outputs": [],
   "source": [
    "a = np.array([[1,0],[0,1]])\n",
    "a = np.hstack([a]*4)\n",
    "a = np.vstack([a]*4)\n",
    "a"
   ]
  },
  {
   "cell_type": "code",
   "execution_count": null,
   "id": "aaea1ca5-331c-4866-9624-5eeae8ba5a45",
   "metadata": {},
   "outputs": [],
   "source": [
    "a = np.array([[1,0],[0,1]])\n",
    "a = np.tile(a, (4,4))\n",
    "a"
   ]
  },
  {
   "cell_type": "code",
   "execution_count": null,
   "id": "bc739ef4-96da-4507-b40b-052314efdfc3",
   "metadata": {},
   "outputs": [],
   "source": [
    "a = np.arange(11)\n",
    "# print(a)\n",
    "b = -a\n",
    "# print(b)\n",
    "\n",
    "c = np.array([True,True,True,True,False,False,False,True,True,True,True,])\n",
    "# d = ~ c\n",
    "\n",
    "a = a[c]\n",
    "a\n",
    "# b = b[d]\n",
    "# print(a)\n",
    "# print(b)\n",
    "\n",
    "# for i in range(11):\n",
    "#     if 3<i<7 :\n",
    "#         a[i] = -i\n",
    "#     else:\n",
    "#         a[i] = i\n",
    "# print(a)\n",
    "    "
   ]
  },
  {
   "cell_type": "code",
   "execution_count": null,
   "id": "683c9bb2-0e9c-4949-b365-4090ec43e495",
   "metadata": {},
   "outputs": [],
   "source": [
    "a = np.arange(3,101,3).sum\n",
    "print(a)\n",
    "a.sum()"
   ]
  },
  {
   "cell_type": "code",
   "execution_count": null,
   "id": "1ff38a80-d539-4fa3-b7db-cf2de4d44455",
   "metadata": {},
   "outputs": [],
   "source": [
    "a = np.arange(11)\n",
    "a[(a>4)&(a<7)] *=-1\n",
    "print(a)"
   ]
  },
  {
   "cell_type": "code",
   "execution_count": null,
   "id": "9188e838-6dcf-40ae-bb73-1cdb412b1574",
   "metadata": {},
   "outputs": [],
   "source": [
    "a = np.linspace(0.1, 0.9, 9)\n",
    "a"
   ]
  },
  {
   "cell_type": "code",
   "execution_count": null,
   "id": "92056fd9-c921-45fb-9aeb-e28e475acc3a",
   "metadata": {},
   "outputs": [],
   "source": [
    "a = np.arange(1,101)\n",
    "a = a[a%3==0]\n",
    "a"
   ]
  },
  {
   "cell_type": "code",
   "execution_count": null,
   "id": "2f204c18-984c-408f-8fc6-073f2cc4b57b",
   "metadata": {},
   "outputs": [],
   "source": [
    "import numpy as np\n",
    "\n",
    "while True: \n",
    "    try:\n",
    "        count = int(input(\"로또 몇개 드릴까요?\"))\n",
    "        if count <= 0:\n",
    "            raise Error\n",
    "        numbers = np.arange(1,46)\n",
    "        lottos = [np.sort(np.random.choice(numbers, 6, replace = False)) for i in range(count)]\n",
    "        display(lottos)\n",
    "        break\n",
    "    except:\n",
    "        print(\"자연수만 입력하세요\")"
   ]
  },
  {
   "cell_type": "code",
   "execution_count": 4,
   "id": "1671c28b-7fe0-4fac-b928-fa1dbcb47c66",
   "metadata": {},
   "outputs": [
    {
     "name": "stdout",
     "output_type": "stream",
     "text": [
      "8\n"
     ]
    }
   ],
   "source": [
    "import numpy as np\n",
    "\n",
    "resp_time = np.array([158,  85, 205,  24,  42, 175, 188, 149, 153, 171, 137,  55, 108,\n",
    "                       199, 177, 209, 218,  76, 103, 189, 110, 192, 136, 119,   4, 102,\n",
    "                       177, 212, 110,  37, 163,  32,  77,  22, 125, 184,  46, 139,  72,\n",
    "                       168, 133, 209, 148,  47, 102,  65, 160,  56,  11,  96, 169, 118,\n",
    "                        55, 135, 217,  49, 100,  85, 179,  15, 139, 199, 124, 142,  15,\n",
    "                        49, 168, 171, 168, 177, 147,  23, 199,  26,  51,  42,  90, 128,\n",
    "                       186, 169, 129,  70, 198, 111,  81, 150,  17, 177, 201,  10,  75,\n",
    "                       199,  55, 151, 183, 152, 119, 193, 110, 204])\n",
    "\n",
    "\n",
    "list_a = [ i for i in resp_time if i > 200]\n",
    "print(len(list_a))\n",
    "\n",
    "\n",
    "(resp_time>200).sum()\n",
    "np.sum(resp_time>200)"
   ]
  },
  {
   "cell_type": "code",
   "execution_count": 13,
   "id": "b9a45694-5d8d-49f6-bc62-d56440d10de7",
   "metadata": {},
   "outputs": [
    {
     "ename": "TypeError",
     "evalue": "_quantile_dispatcher() missing 1 required positional argument: 'q'",
     "output_type": "error",
     "traceback": [
      "\u001b[1;31m---------------------------------------------------------------------------\u001b[0m",
      "\u001b[1;31mTypeError\u001b[0m                                 Traceback (most recent call last)",
      "\u001b[1;32m~\\AppData\\Local\\Temp\\ipykernel_8336\\4063184107.py\u001b[0m in \u001b[0;36m<module>\u001b[1;34m\u001b[0m\n\u001b[0;32m     14\u001b[0m \u001b[0me\u001b[0m\u001b[1;33m=\u001b[0m\u001b[0mnp\u001b[0m\u001b[1;33m.\u001b[0m\u001b[0mpercentile\u001b[0m\u001b[1;33m(\u001b[0m\u001b[0mresp_time\u001b[0m\u001b[1;33m,\u001b[0m \u001b[1;36m100\u001b[0m\u001b[1;33m)\u001b[0m\u001b[1;33m\u001b[0m\u001b[1;33m\u001b[0m\u001b[0m\n\u001b[0;32m     15\u001b[0m \u001b[1;33m\u001b[0m\u001b[0m\n\u001b[1;32m---> 16\u001b[1;33m \u001b[0mnp\u001b[0m\u001b[1;33m.\u001b[0m\u001b[0mquantile\u001b[0m\u001b[1;33m(\u001b[0m\u001b[0mresp_time\u001b[0m\u001b[1;33m)\u001b[0m\u001b[1;33m\u001b[0m\u001b[1;33m\u001b[0m\u001b[0m\n\u001b[0m\u001b[0;32m     17\u001b[0m \u001b[0mprint\u001b[0m\u001b[1;33m(\u001b[0m\u001b[0ma\u001b[0m\u001b[1;33m,\u001b[0m\u001b[0mb\u001b[0m\u001b[1;33m,\u001b[0m\u001b[0mc\u001b[0m\u001b[1;33m,\u001b[0m\u001b[0md\u001b[0m\u001b[1;33m,\u001b[0m\u001b[0me\u001b[0m\u001b[1;33m)\u001b[0m\u001b[1;33m\u001b[0m\u001b[1;33m\u001b[0m\u001b[0m\n",
      "\u001b[1;32m<__array_function__ internals>\u001b[0m in \u001b[0;36mquantile\u001b[1;34m(*args, **kwargs)\u001b[0m\n",
      "\u001b[1;31mTypeError\u001b[0m: _quantile_dispatcher() missing 1 required positional argument: 'q'"
     ]
    }
   ],
   "source": [
    "resp_time = np.array([158,  85, 205,  24,  42, 175, 188, 149, 153, 171, 137,  55, 108,\n",
    "                       199, 177, 209, 218,  76, 103, 189, 110, 192, 136, 119,   4, 102,\n",
    "                       177, 212, 110,  37, 163,  32,  77,  22, 125, 184,  46, 139,  72,\n",
    "                       168, 133, 209, 148,  47, 102,  65, 160,  56,  11,  96, 169, 118,\n",
    "                        55, 135, 217,  49, 100,  85, 179,  15, 139, 199, 124, 142,  15,\n",
    "                        49, 168, 171, 168, 177, 147,  23, 199,  26,  51,  42,  90, 128,\n",
    "                       186, 169, 129,  70, 198, 111,  81, 150,  17, 177, 201,  10,  75,\n",
    "                       199,  55, 151, 183, 152, 119, 193, 110, 204])\n",
    "\n",
    "a=np.percentile(resp_time, 0)\n",
    "b=np.percentile(resp_time, 25)\n",
    "c=np.percentile(resp_time, 50)\n",
    "d=np.percentile(resp_time, 75)\n",
    "e=np.percentile(resp_time, 100)\n",
    "\n",
    "np.quantile(resp_time)\n",
    "print(a,b,c,d,e)\n"
   ]
  },
  {
   "cell_type": "code",
   "execution_count": 42,
   "id": "1ddf02ad-2e08-48af-89f6-0db8b9762312",
   "metadata": {},
   "outputs": [
    {
     "name": "stdout",
     "output_type": "stream",
     "text": [
      "뽀로로가 81표로 반장으로 선출되었습니다.\n"
     ]
    }
   ],
   "source": [
    "p = [\"뽀로로\", \"루피\", \"크롱\"]\n",
    "result = np.array([2, 1, 2, 2, 2, 2, 0, 2, 1, 1, 0, 0, 2, 0, 0, 1, 1, 2, 2, 2, 1, 1,\n",
    "                   1, 2, 0, 2, 2, 0, 1, 1, 0, 2, 1, 0, 1, 2, 0, 0, 1, 0, 1, 1, 1, 2,\n",
    "                   1, 1, 1, 0, 0, 0, 0, 1, 0, 0, 2, 0, 2, 2, 0, 0, 1, 1, 1, 0, 0, 2,\n",
    "                   2, 1, 0, 1, 2, 0, 2, 0, 0, 0, 2, 0, 0, 0, 0, 0, 1, 2, 1, 1, 2, 0,\n",
    "                   2, 0, 0, 0, 0, 2, 1, 2, 0, 2, 0, 0, 1, 0, 1, 2, 1, 2, 0, 2, 2, 1,\n",
    "                   2, 0, 0, 1, 1, 0, 1, 2, 1, 2, 0, 2, 2, 2, 2, 0, 2, 2, 0, 2, 0, 2,\n",
    "                   1, 1, 2, 1, 1, 0, 0, 1, 0, 0, 0, 2, 2, 0, 2, 0, 0, 0, 2, 0, 0, 0,\n",
    "                   2, 0, 1, 2, 1, 0, 2, 0, 0, 1, 2, 1, 1, 2, 2, 0, 0, 0, 0, 2, 2, 1,\n",
    "                   0, 1, 1, 2, 2, 1, 0, 0, 2, 0, 0, 0, 2, 0, 2, 2, 0, 2, 1, 0, 0, 2,\n",
    "                   0, 1])\n",
    "\n",
    "\n",
    "index, count = np.unique(result, return_counts=True)\n",
    "name = np.array(['뽀로로','루피','크롱'])\n",
    "a = np.argmax(count)\n",
    "name = name[a]\n",
    "print(f\"{name}가 {count[a]}표로 반장으로 선출되었습니다.\")"
   ]
  },
  {
   "cell_type": "code",
   "execution_count": null,
   "id": "480cae9e-b376-4027-8412-681a63a8dd71",
   "metadata": {},
   "outputs": [],
   "source": [
    "import collections\n",
    "p=[\"뽀로로\",\"루피\",\"크롱\"]\n",
    "x=np.array([2, 1, 2, 2, 2, 2, 0, 2, 1, 1, 0, 0, 2, 0, 0, 1, 1, 2, 2, 2, 1, 1,\n",
    "                   1, 2, 0, 2, 2, 0, 1, 1, 0, 2, 1, 0, 1, 2, 0, 0, 1, 0, 1, 1, 1, 2,\n",
    "                   1, 1, 1, 0, 0, 0, 0, 1, 0, 0, 2, 0, 2, 2, 0, 0, 1, 1, 1, 0, 0, 2,\n",
    "                   2, 1, 0, 1, 2, 0, 2, 0, 0, 0, 2, 0, 0, 0, 0, 0, 1, 2, 1, 1, 2, 0,\n",
    "                   2, 0, 0, 0, 0, 2, 1, 2, 0, 2, 0, 0, 1, 0, 1, 2, 1, 2, 0, 2, 2, 1,\n",
    "                   2, 0, 0, 1, 1, 0, 1, 2, 1, 2, 0, 2, 2, 2, 2, 0, 2, 2, 0, 2, 0, 2,\n",
    "                   1, 1, 2, 1, 1, 0, 0, 1, 0, 0, 0, 2, 2, 0, 2, 0, 0, 0, 2, 0, 0, 0,\n",
    "                   2, 0, 1, 2, 1, 0, 2, 0, 0, 1, 2, 1, 1, 2, 2, 0, 0, 0, 0, 2, 2, 1,\n",
    "                   0, 1, 1, 2, 2, 1, 0, 0, 2, 0, 0, 0, 2, 0, 2, 2, 0, 2, 1, 0, 0, 2,\n",
    "                   0, 1])\n",
    "dic = dict(collections.Counter(x))\n",
    "print(f'{p[max(dic,key=dic.get)]}가(이) {max(dic.values())}표로 반장으로 선출되었습니다.')"
   ]
  }
 ],
 "metadata": {
  "kernelspec": {
   "display_name": "Python 3 (ipykernel)",
   "language": "python",
   "name": "python3"
  },
  "language_info": {
   "codemirror_mode": {
    "name": "ipython",
    "version": 3
   },
   "file_extension": ".py",
   "mimetype": "text/x-python",
   "name": "python",
   "nbconvert_exporter": "python",
   "pygments_lexer": "ipython3",
   "version": "3.9.13"
  }
 },
 "nbformat": 4,
 "nbformat_minor": 5
}

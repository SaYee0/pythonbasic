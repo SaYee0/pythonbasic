{
 "cells": [
  {
   "cell_type": "code",
   "execution_count": 9,
   "id": "2e52f184-6a9b-4636-b792-e4cca7f8541b",
   "metadata": {},
   "outputs": [
    {
     "name": "stdout",
     "output_type": "stream",
     "text": [
      "range(0, 5)\n",
      "<class 'range'>\n"
     ]
    },
    {
     "data": {
      "text/plain": [
       "[0, 1, 2, 3, 4]"
      ]
     },
     "execution_count": 9,
     "metadata": {},
     "output_type": "execute_result"
    }
   ],
   "source": [
    "# range(a,b,c) 에서 a와 c는 생략가능, 생략시 디폴트값인 0, 1로 됨, b만 있으면 됌\n",
    "print(range(5))\n",
    "print(type(range(5))) \n",
    "# range()로 반환받은 결과 자료형은 range다.\n",
    "# list() 내장함수를 이용해 리스트로 변경 가능하다.\n",
    "list(range(5))"
   ]
  },
  {
   "cell_type": "code",
   "execution_count": 4,
   "id": "956c590e-fa1c-4a37-ac50-173fdf47fa6d",
   "metadata": {},
   "outputs": [
    {
     "name": "stdout",
     "output_type": "stream",
     "text": [
      "[2, 4, 6, 8, 10, 12, 14, 16, 18, 20, 22, 24, 26, 28, 30, 32, 34, 36, 38, 40, 42, 44, 46, 48, 50, 52, 54, 56, 58, 60, 62, 64, 66, 68, 70, 72, 74, 76, 78, 80, 82, 84, 86, 88, 90, 92, 94, 96, 98]\n"
     ]
    }
   ],
   "source": [
    "zzaksu_even_number = list(range(2,100,2))\n",
    "print(zzaksu_even_number)"
   ]
  },
  {
   "cell_type": "code",
   "execution_count": 12,
   "id": "362cbb39-325d-4f44-be93-f0ea447d4cb6",
   "metadata": {},
   "outputs": [
    {
     "name": "stdout",
     "output_type": "stream",
     "text": [
      "Hello world1\n",
      "Hello world2\n",
      "Hello world3\n",
      "Hello world4\n",
      "Hello world5\n",
      "Hello world6\n",
      "Hello world7\n",
      "Hello world8\n",
      "Hello world9\n",
      "Hello world10\n"
     ]
    },
    {
     "ename": "TypeError",
     "evalue": "'float' object cannot be interpreted as an integer",
     "output_type": "error",
     "traceback": [
      "\u001b[1;31m---------------------------------------------------------------------------\u001b[0m",
      "\u001b[1;31mTypeError\u001b[0m                                 Traceback (most recent call last)",
      "\u001b[1;32m~\\AppData\\Local\\Temp\\ipykernel_8884\\1413230452.py\u001b[0m in \u001b[0;36m<module>\u001b[1;34m\u001b[0m\n\u001b[0;32m      2\u001b[0m     \u001b[0mprint\u001b[0m\u001b[1;33m(\u001b[0m\u001b[1;34mf\"Hello world{i}\"\u001b[0m\u001b[1;33m)\u001b[0m\u001b[1;33m\u001b[0m\u001b[1;33m\u001b[0m\u001b[0m\n\u001b[0;32m      3\u001b[0m \u001b[1;33m\u001b[0m\u001b[0m\n\u001b[1;32m----> 4\u001b[1;33m \u001b[1;32mfor\u001b[0m \u001b[0mi\u001b[0m \u001b[1;32min\u001b[0m \u001b[0mrange\u001b[0m\u001b[1;33m(\u001b[0m\u001b[1;36m2.6\u001b[0m\u001b[1;33m)\u001b[0m\u001b[1;33m:\u001b[0m\u001b[1;33m\u001b[0m\u001b[1;33m\u001b[0m\u001b[0m\n\u001b[0m\u001b[0;32m      5\u001b[0m     \u001b[0mprint\u001b[0m\u001b[1;33m(\u001b[0m\u001b[1;34m\"{}번째 반복 중, 다음은 {}번째\"\u001b[0m\u001b[1;33m.\u001b[0m\u001b[0mformat\u001b[0m\u001b[1;33m(\u001b[0m\u001b[0mi\u001b[0m\u001b[1;33m,\u001b[0m\u001b[0mi\u001b[0m\u001b[1;33m+\u001b[0m\u001b[1;36m1\u001b[0m\u001b[1;33m)\u001b[0m\u001b[1;33m)\u001b[0m\u001b[1;33m\u001b[0m\u001b[1;33m\u001b[0m\u001b[0m\n",
      "\u001b[1;31mTypeError\u001b[0m: 'float' object cannot be interpreted as an integer"
     ]
    }
   ],
   "source": [
    "# f스트링\n",
    "for i in range(1,11):\n",
    "    print(f\"Hello world{i}\")\n",
    "\n",
    "# 쩜포맷\n",
    "for i in range(2.6):\n",
    "    print(\"{}번째 반복 중, 다음은 {}번째\".format(i,i+1))"
   ]
  },
  {
   "cell_type": "code",
   "execution_count": 13,
   "id": "05cd94c1-b435-45a3-906c-e5ff4b965360",
   "metadata": {},
   "outputs": [
    {
     "name": "stdin",
     "output_type": "stream",
     "text": [
      "인사 몇번 해드릴까요? 5\n"
     ]
    },
    {
     "name": "stdout",
     "output_type": "stream",
     "text": [
      "Hello world\n",
      "Hello world\n",
      "Hello world\n",
      "Hello world\n",
      "Hello world\n"
     ]
    }
   ],
   "source": [
    "times = int(input(\"인사 몇번 해드릴까요?\"))\n",
    "\n",
    "for i in range(times):\n",
    "    print(\"Hello world\")"
   ]
  },
  {
   "cell_type": "code",
   "execution_count": 15,
   "id": "312ed788-ee29-4416-a0e6-b6671b10201b",
   "metadata": {},
   "outputs": [
    {
     "name": "stdout",
     "output_type": "stream",
     "text": [
      "[5, 6, 7, 8, 9]\n",
      "[0, 3, 6, 9]\n",
      "[-10, -40, -70]\n"
     ]
    }
   ],
   "source": [
    "print(list(range(5,10)))\n",
    "print(list(range(0,10,3)))\n",
    "print(list(range(-10,-71,-30)))"
   ]
  },
  {
   "cell_type": "code",
   "execution_count": 16,
   "id": "2a45e4dd-4c41-4d4b-94d1-a5f752e79508",
   "metadata": {},
   "outputs": [
    {
     "name": "stdout",
     "output_type": "stream",
     "text": [
      "\n",
      "*\n",
      "**\n",
      "***\n",
      "****\n",
      "*****\n",
      "******\n",
      "*******\n",
      "********\n",
      "*********\n"
     ]
    }
   ],
   "source": [
    "for i in range(10):\n",
    "    print('*'*i)"
   ]
  },
  {
   "cell_type": "code",
   "execution_count": 34,
   "id": "13ca8629-ecaa-4307-b2cc-a93e966f2131",
   "metadata": {},
   "outputs": [
    {
     "name": "stdin",
     "output_type": "stream",
     "text": [
      "자연수 하나 입력해주세요 5\n"
     ]
    },
    {
     "name": "stdout",
     "output_type": "stream",
     "text": [
      "\n",
      "5\t5\t5\t5\t5\t\n",
      "\n",
      "4\t4\t4\t4\t\n",
      "\n",
      "3\t3\t3\t\n",
      "\n",
      "2\t2\t\n",
      "\n",
      "1\t\n",
      "\n"
     ]
    }
   ],
   "source": [
    "times = int(input(\"자연수 하나 입력해주세요\"))\n",
    "print()\n",
    "\n",
    "for i in range(times,0,-1):\n",
    "    print(\"{}\\t\".format(i)*i)\n",
    "    print()"
   ]
  },
  {
   "cell_type": "code",
   "execution_count": 1,
   "id": "db322da6-8726-48c7-b8b4-291bc9ac068f",
   "metadata": {},
   "outputs": [
    {
     "name": "stdin",
     "output_type": "stream",
     "text": [
      "자연수 하나 입력해주세요 5\n"
     ]
    },
    {
     "name": "stdout",
     "output_type": "stream",
     "text": [
      "5\t5\t5\t5\t5\t\n",
      "4\t4\t4\t4\t\n",
      "3\t3\t3\t\n",
      "2\t2\t\n",
      "1\t\n"
     ]
    }
   ],
   "source": [
    "# 위에 문제 for문 2개 사용해서 해결하기\n",
    "times = int(input(\"자연수 하나 입력해주세요\"))\n",
    "\n",
    "for i in range(times,0,-1):\n",
    "    for j in range(i):\n",
    "        print(i,end=\"\\t\")\n",
    "    print()"
   ]
  },
  {
   "cell_type": "code",
   "execution_count": 1,
   "id": "49e0800a-d358-4c6b-a47b-204642d103a8",
   "metadata": {},
   "outputs": [
    {
     "name": "stdin",
     "output_type": "stream",
     "text": [
      "자연수 하나 입력해주세요 5\n"
     ]
    },
    {
     "name": "stdout",
     "output_type": "stream",
     "text": [
      "5\t5\t5\t5\t5\t\n",
      "4\t4\t4\t4\t\n",
      "3\t3\t3\t\n",
      "2\t2\t\n",
      "1\t\n"
     ]
    }
   ],
   "source": [
    "# 위에 문제 for문 2개, 변수로 해결하기 \n",
    "times = int(input(\"자연수 하나 입력해주세요\"))\n",
    "a = \"\"\n",
    "\n",
    "for i in range(times,0,-1):\n",
    "    for j in range(i):\n",
    "        a += \n",
    "        print(i,end=\"\\t\")\n",
    "    print()"
   ]
  },
  {
   "cell_type": "code",
   "execution_count": 32,
   "id": "14dc85cd-a62e-4fc9-980b-a4a78a3b5022",
   "metadata": {},
   "outputs": [
    {
     "ename": "SyntaxError",
     "evalue": "invalid syntax (1762288399.py, line 7)",
     "output_type": "error",
     "traceback": [
      "\u001b[1;36m  File \u001b[1;32m\"C:\\Users\\Playdata\\AppData\\Local\\Temp\\ipykernel_8884\\1762288399.py\"\u001b[1;36m, line \u001b[1;32m7\u001b[0m\n\u001b[1;33m    a +=  별표 2n-1\u001b[0m\n\u001b[1;37m             ^\u001b[0m\n\u001b[1;31mSyntaxError\u001b[0m\u001b[1;31m:\u001b[0m invalid syntax\n"
     ]
    }
   ],
   "source": [
    "a = \"\"\n",
    "b = \"\"\n",
    "\n",
    "1 + 2*(층-1)\n",
    "for i in range(1,15):\n",
    "    for j in range(0,i):\n",
    "        a +=  별표 2n-1\n",
    "\n",
    "        "
   ]
  },
  {
   "cell_type": "code",
   "execution_count": 38,
   "id": "2fd3ea6d-d156-453e-9a7e-76ebb3645274",
   "metadata": {},
   "outputs": [
    {
     "name": "stdin",
     "output_type": "stream",
     "text": [
      "몇층 쌓을래? 5\n"
     ]
    },
    {
     "name": "stdout",
     "output_type": "stream",
     "text": [
      "*******************************************************************************************************************************************************************************************************************\n",
      "\n"
     ]
    }
   ],
   "source": [
    "times = int(input(\"몇층 쌓을래?\"))\n",
    "\n",
    "b = \"*\"\n",
    "\n",
    "for i in range(1,15):\n",
    "    for j in range(0,i):\n",
    "        a = \" \"*(times-j)   \n",
    "        b += \"**\"\n",
    "        c = a+b+a\n",
    "    c += \"\\n\"\n",
    "\n",
    "print(c)"
   ]
  },
  {
   "cell_type": "code",
   "execution_count": null,
   "id": "cba6b58a-34dc-49c4-ad57-c344678a44c6",
   "metadata": {},
   "outputs": [],
   "source": [
    "times = int(input(\"몇층 쌓을래?\"))\n",
    "\n",
    "for i in range(1,times+1):\n",
    "    if i == 1 or i == times:\n",
    "        print(\"* \"*times)\n",
    "    else :\n",
    "        print(\"*\"+\"  \"*(times-2)+\"*\")"
   ]
  },
  {
   "cell_type": "code",
   "execution_count": 42,
   "id": "4570c791-caf6-4b86-bfca-86cafcc29a9f",
   "metadata": {},
   "outputs": [
    {
     "name": "stdin",
     "output_type": "stream",
     "text": [
      "자연수를 입력하세요 100\n"
     ]
    },
    {
     "name": "stdout",
     "output_type": "stream",
     "text": [
      "입력한 값까지의 모든 홀수의 합을 구합니다.\n",
      "[1, 3, 5, 7, 9, 11, 13, 15, 17, 19, 21, 23, 25, 27, 29, 31, 33, 35, 37, 39, 41, 43, 45, 47, 49, 51, 53, 55, 57, 59, 61, 63, 65, 67, 69, 71, 73, 75, 77, 79, 81, 83, 85, 87, 89, 91, 93, 95, 97, 99]\n",
      "1+3+5+7+9+11+13+15+17+19+21+23+25+27+29+31+33+35+37+39+41+43+45+47+49+51+53+55+57+59+61+63+65+67+69+71+73+75+77+79+81+83+85+87+89+91+93+95+97+99=2500\n"
     ]
    }
   ],
   "source": [
    "num = int(input(\"자연수를 입력하세요\"))\n",
    "\n",
    "print(\"입력한 값까지의 모든 홀수의 합을 구합니다.\")\n",
    "a = list(range(1,num+1,2))\n",
    "print(a)\n",
    "\n",
    "x = 0\n",
    "y = \"\"\n",
    "\n",
    "for i in range(len(a)):\n",
    "    x += a[i] \n",
    "    if i < len(a)-1:\n",
    "        y += str(a[i]) + \"+\"\n",
    "    else :\n",
    "        y += str(a[i])\n",
    "    \n",
    "print(\"{}={}\".format(y,x))"
   ]
  },
  {
   "cell_type": "code",
   "execution_count": 29,
   "id": "222dca90-48c1-485e-b0f7-252ae4b1d425",
   "metadata": {},
   "outputs": [
    {
     "name": "stdin",
     "output_type": "stream",
     "text": [
      "1부터 입력한 자연수까지의 모든 홀수의 합을 구합니다 100\n"
     ]
    },
    {
     "name": "stdout",
     "output_type": "stream",
     "text": [
      "[1, 3, 5, 7, 9, 11, 13, 15, 17, 19, 21, 23, 25, 27, 29, 31, 33, 35, 37, 39, 41, 43, 45, 47, 49, 51, 53, 55, 57, 59, 61, 63, 65, 67, 69, 71, 73, 75, 77, 79, 81, 83, 85, 87, 89, 91, 93, 95, 97, 99]\n"
     ]
    },
    {
     "data": {
      "text/plain": [
       "1"
      ]
     },
     "execution_count": 29,
     "metadata": {},
     "output_type": "execute_result"
    }
   ],
   "source": [
    "n = int(input(\"1부터 입력한 자연수까지의 모든 홀수의 합을 구합니다\"))\n",
    "\n",
    "a = list(range(1,n+1,2))\n",
    "print(a)\n"
   ]
  },
  {
   "cell_type": "code",
   "execution_count": 44,
   "id": "1b2605cb-5a6e-4810-90a2-b5406d46fc36",
   "metadata": {},
   "outputs": [
    {
     "name": "stdout",
     "output_type": "stream",
     "text": [
      "5\n",
      "10\n"
     ]
    }
   ],
   "source": [
    "# 1. 합 어떻게 구할건지\n",
    "# 2. 수식 어떻게 표현할 건지 \n",
    "\n",
    "a = [1,2,3,4,5]\n",
    "print(len(a))\n",
    "\n",
    "x = 0 \n",
    "for i in range(0,len(a)):\n",
    "    x += i\n",
    "print(x)\n"
   ]
  },
  {
   "cell_type": "code",
   "execution_count": 48,
   "id": "d2338ab6-066f-442a-83b5-04efe2e09d5f",
   "metadata": {},
   "outputs": [
    {
     "name": "stdin",
     "output_type": "stream",
     "text": [
      "자연수를 입력하세요 10\n"
     ]
    },
    {
     "name": "stdout",
     "output_type": "stream",
     "text": [
      "1 + 3 + 5 + 7 + 9 = 25\n"
     ]
    }
   ],
   "source": [
    "# 다른 풀이\n",
    "num = int(input(\"자연수를 입력하세요\"))\n",
    "\n",
    "print(\"1\", end = \"\")\n",
    "result = 1\n",
    "\n",
    "for i in range(3, num+1):\n",
    "    if i % 2 == 1: #홀수\n",
    "        print(f\" + {i}\", end = \"\")\n",
    "        result += i \n",
    "        \n",
    "print(f' = {result}')"
   ]
  },
  {
   "cell_type": "code",
   "execution_count": 52,
   "id": "488fc259-75a4-4bc1-af7f-2bc1ad98cb43",
   "metadata": {},
   "outputs": [
    {
     "name": "stdin",
     "output_type": "stream",
     "text": [
      "계승을 구할 숫자를 입력하세요 6\n"
     ]
    },
    {
     "name": "stdout",
     "output_type": "stream",
     "text": [
      "720\n"
     ]
    }
   ],
   "source": [
    "num = int(input(\"계승을 구할 숫자를 입력하세요\"))\n",
    "\n",
    "a = 1\n",
    "for i in range(1, num+1):\n",
    "    a *= i\n",
    "print(a)"
   ]
  },
  {
   "cell_type": "code",
   "execution_count": 56,
   "id": "ebfadb31-66c0-4a86-aee9-ed86d72f878c",
   "metadata": {},
   "outputs": [
    {
     "name": "stdout",
     "output_type": "stream",
     "text": [
      "*\n",
      "**\n",
      "***\n",
      "****\n",
      "*****\n",
      "******\n",
      "*******\n",
      "********\n",
      "*********\n"
     ]
    }
   ],
   "source": [
    "output = ''\n",
    "\n",
    "for i in range(1,10):\n",
    "    output += \"*\"\n",
    "    print(output)                "
   ]
  },
  {
   "cell_type": "code",
   "execution_count": 4,
   "id": "447e46da-7987-4967-a654-b64b064817de",
   "metadata": {},
   "outputs": [
    {
     "name": "stdin",
     "output_type": "stream",
     "text": [
      "몇 층 쌓을래? 20\n"
     ]
    },
    {
     "name": "stdout",
     "output_type": "stream",
     "text": [
      "                    *\n",
      "                   ***\n",
      "                  *****\n",
      "                 *******\n",
      "                *********\n",
      "               ***********\n",
      "              *************\n",
      "             ***************\n",
      "            *****************\n",
      "           *******************\n",
      "          *********************\n",
      "         ***********************\n",
      "        *************************\n",
      "       ***************************\n",
      "      *****************************\n",
      "     *******************************\n",
      "    *********************************\n",
      "   ***********************************\n",
      "  *************************************\n",
      " ***************************************\n"
     ]
    }
   ],
   "source": [
    "times = int(input(\"몇 층 쌓을래?\"))\n",
    "\n",
    "for i in range(1,times+1):\n",
    "    a = \"*\"*(2*i-1)\n",
    "    b = \" \"*(times+1-i)\n",
    "    print(b+a)"
   ]
  },
  {
   "cell_type": "code",
   "execution_count": 3,
   "id": "479a02ea-af60-4360-800c-0a9a6db57f54",
   "metadata": {},
   "outputs": [
    {
     "name": "stdout",
     "output_type": "stream",
     "text": [
      "100 -420 250 1030 210 770 240 "
     ]
    }
   ],
   "source": [
    "x = [10,-42,25,103,21,77,24]\n",
    "\n",
    "for i in x:\n",
    "    print(10*i,end=\" \")"
   ]
  },
  {
   "cell_type": "code",
   "execution_count": 8,
   "id": "b759a3b3-deff-4e1d-8408-3da3bb2dc14f",
   "metadata": {},
   "outputs": [
    {
     "name": "stdin",
     "output_type": "stream",
     "text": [
      "구구단을 알려드립니다. 숫자를 입력하세요 7\n"
     ]
    },
    {
     "name": "stdout",
     "output_type": "stream",
     "text": [
      "7 * 1 = 7\n",
      "7 * 2 = 14\n",
      "7 * 3 = 21\n",
      "7 * 4 = 28\n",
      "7 * 5 = 35\n",
      "7 * 6 = 42\n",
      "7 * 7 = 49\n",
      "7 * 8 = 56\n",
      "7 * 9 = 63\n"
     ]
    }
   ],
   "source": [
    "num = int(input(\"구구단을 알려드립니다. 숫자를 입력하세요\"))\n",
    "\n",
    "for i in range(1,10):\n",
    "    print(num, \"*\", i, \"=\", num*i)"
   ]
  },
  {
   "cell_type": "code",
   "execution_count": 17,
   "id": "1e02c2fc-0aa8-4a6c-a8a2-14aa767986af",
   "metadata": {},
   "outputs": [
    {
     "name": "stdin",
     "output_type": "stream",
     "text": [
      "자연수를 입력해주세요 100\n"
     ]
    },
    {
     "name": "stdout",
     "output_type": "stream",
     "text": [
      "1 + 2 + 3 + 4 + 5 + 6 + 7 + 8 + 9 + 10 + 11 + 12 + 13 + 14 + 15 + 16 + 17 + 18 + 19 + 20 + 21 + 22 + 23 + 24 + 25 + 26 + 27 + 28 + 29 + 30 + 31 + 32 + 33 + 34 + 35 + 36 + 37 + 38 + 39 + 40 + 41 + 42 + 43 + 44 + 45 + 46 + 47 + 48 + 49 + 50 + 51 + 52 + 53 + 54 + 55 + 56 + 57 + 58 + 59 + 60 + 61 + 62 + 63 + 64 + 65 + 66 + 67 + 68 + 69 + 70 + 71 + 72 + 73 + 74 + 75 + 76 + 77 + 78 + 79 + 80 + 81 + 82 + 83 + 84 + 85 + 86 + 87 + 88 + 89 + 90 + 91 + 92 + 93 + 94 + 95 + 96 + 97 + 98 + 99 + 100 = 5050\n"
     ]
    }
   ],
   "source": [
    "num = int(input(\"자연수를 입력해주세요\"))\n",
    "\n",
    "result = 0\n",
    "for i in range(1,num+1):\n",
    "    result += i\n",
    "    if i != num:\n",
    "        print(i, \"+\", end = \" \")\n",
    "    else: \n",
    "        print(i, \"=\", end = \" \")\n",
    "    \n",
    "print(result)"
   ]
  },
  {
   "cell_type": "code",
   "execution_count": 22,
   "id": "b4f3b578-3cd4-4478-8ae9-3b9aafaa8e72",
   "metadata": {},
   "outputs": [
    {
     "name": "stdin",
     "output_type": "stream",
     "text": [
      "짝수합 구해드립니다. 10\n"
     ]
    },
    {
     "name": "stdout",
     "output_type": "stream",
     "text": [
      "2+4+6+8+10=30\n"
     ]
    }
   ],
   "source": [
    "num = int(input(\"짝수합 구해드립니다.\"))\n",
    "\n",
    "result = 0\n",
    "\n",
    "for i in range(1, num+1):\n",
    "    if i % 2 == 0:\n",
    "        result += i\n",
    "        if i != num:\n",
    "            print(i, \"+\", sep = '', end = '')\n",
    "        else:\n",
    "            print(i, \"=\", sep = '', end = '')\n",
    "print(result)"
   ]
  },
  {
   "cell_type": "code",
   "execution_count": 23,
   "id": "60c28c59-fe27-4c3f-9bc9-7d341406661d",
   "metadata": {},
   "outputs": [
    {
     "name": "stdout",
     "output_type": "stream",
     "text": [
      "*****\n",
      "*****\n",
      "*****\n",
      "*****\n",
      "*****\n"
     ]
    }
   ],
   "source": [
    "for i in range(5):\n",
    "    print(\"*****\")"
   ]
  },
  {
   "cell_type": "code",
   "execution_count": 36,
   "id": "b7b45bba-2558-4907-9c02-6bb63837a170",
   "metadata": {},
   "outputs": [
    {
     "name": "stdout",
     "output_type": "stream",
     "text": [
      "*****\n",
      "*****\n",
      "*****\n",
      "*****\n",
      "*****\n"
     ]
    }
   ],
   "source": [
    "for i in range(5):\n",
    "    for j in range(5):\n",
    "        print(\"*\", end='')\n",
    "    print()"
   ]
  },
  {
   "cell_type": "code",
   "execution_count": 31,
   "id": "44545762-50a1-4e46-b763-69d891ad2383",
   "metadata": {},
   "outputs": [
    {
     "name": "stdin",
     "output_type": "stream",
     "text": [
      "숫자입력: 10\n"
     ]
    },
    {
     "name": "stdout",
     "output_type": "stream",
     "text": [
      "**********\n",
      "**********\n",
      "**********\n",
      "**********\n",
      "**********\n",
      "**********\n",
      "**********\n",
      "**********\n",
      "**********\n",
      "**********\n"
     ]
    }
   ],
   "source": [
    "num = int(input(\"숫자입력:\"))\n",
    "\n",
    "for i in range(1,num+1):\n",
    "    print(\"*\"*num)"
   ]
  },
  {
   "cell_type": "code",
   "execution_count": 34,
   "id": "59368c41-36d9-4560-bc50-b11d08d8368d",
   "metadata": {},
   "outputs": [
    {
     "name": "stdin",
     "output_type": "stream",
     "text": [
      "숫자입력: 10\n"
     ]
    },
    {
     "name": "stdout",
     "output_type": "stream",
     "text": [
      "**********\n",
      "**********\n",
      "**********\n",
      "**********\n",
      "**********\n",
      "**********\n",
      "**********\n",
      "**********\n",
      "**********\n",
      "**********\n"
     ]
    }
   ],
   "source": [
    "num = int(input(\"숫자입력:\"))\n",
    "\n",
    "for i in range(num):\n",
    "    for j in range(num):\n",
    "        print(\"*\", end='')\n",
    "    print()"
   ]
  },
  {
   "cell_type": "code",
   "execution_count": null,
   "id": "70b0f432-85ea-4e24-b924-629a8e7ab539",
   "metadata": {},
   "outputs": [],
   "source": []
  }
 ],
 "metadata": {
  "kernelspec": {
   "display_name": "Python 3 (ipykernel)",
   "language": "python",
   "name": "python3"
  },
  "language_info": {
   "codemirror_mode": {
    "name": "ipython",
    "version": 3
   },
   "file_extension": ".py",
   "mimetype": "text/x-python",
   "name": "python",
   "nbconvert_exporter": "python",
   "pygments_lexer": "ipython3",
   "version": "3.9.13"
  }
 },
 "nbformat": 4,
 "nbformat_minor": 5
}

{
 "cells": [
  {
   "cell_type": "code",
   "execution_count": null,
   "id": "9fef5ed0-c453-4acf-b056-80670b07a051",
   "metadata": {},
   "outputs": [],
   "source": []
  }
 ],
 "metadata": {
  "kernelspec": {
   "display_name": "",
   "name": ""
  },
  "language_info": {
   "name": ""
  }
 },
 "nbformat": 4,
 "nbformat_minor": 5
}

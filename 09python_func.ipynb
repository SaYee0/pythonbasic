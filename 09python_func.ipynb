{
 "cells": [
  {
   "cell_type": "code",
   "execution_count": null,
   "id": "9fef5ed0-c453-4acf-b056-80670b07a051",
   "metadata": {},
   "outputs": [],
   "source": [
    "# def func(위치인자1, 위치인자2, *가변, 키워드인자, 키워드인자2, **가변 키워드)"
   ]
  },
  {
   "cell_type": "code",
   "execution_count": null,
   "id": "61f9c202-91a2-4bf4-b628-c53dce07a547",
   "metadata": {},
   "outputs": [],
   "source": [
    "def plus_ten(x):\n",
    "    return x + 10\n",
    "\n",
    "num = int(input(\"정수입력:\"))\n",
    "print(plus_ten(num))"
   ]
  },
  {
   "cell_type": "code",
   "execution_count": null,
   "id": "89a17dbb-c155-4587-afdb-01bb3e532eca",
   "metadata": {},
   "outputs": [],
   "source": [
    "def to_celsius(fahrenheit):\n",
    "    \n",
    "    '''화씨를 섭씨로 바꿔드립니다'''\n",
    "    \n",
    "    작성자: 조세연\n",
    "    작성일자: \"20230221\"\n",
    "    \n",
    "    return (fahrenheit - 32) * 5/9\n",
    "\n",
    "temp = float(input(\"온도 입력하세요:\"))\n",
    "print(to_celsius(temp))\n",
    "print(to_celsius.__doc__) #함수의 독 스트링을 반환"
   ]
  },
  {
   "cell_type": "code",
   "execution_count": 18,
   "id": "1b25f58f-202f-43be-9225-bdc8449f9ee7",
   "metadata": {},
   "outputs": [
    {
     "ename": "SyntaxError",
     "evalue": "invalid syntax (1709399550.py, line 12)",
     "output_type": "error",
     "traceback": [
      "\u001b[1;36m  File \u001b[1;32m\"C:\\Users\\Playdata\\AppData\\Local\\Temp\\ipykernel_13188\\1709399550.py\"\u001b[1;36m, line \u001b[1;32m12\u001b[0m\n\u001b[1;33m    if type(num) ==\u001b[0m\n\u001b[1;37m                    ^\u001b[0m\n\u001b[1;31mSyntaxError\u001b[0m\u001b[1;31m:\u001b[0m invalid syntax\n"
     ]
    }
   ],
   "source": [
    "def odd_even(num):\n",
    "    \"\"\"num가 짝수면 \"짝수\", 홀수면 \"홀수\" 반환\"\"\"\n",
    "    if type(num) is int:\n",
    "        if num % 2 == 0:\n",
    "            return \"짝수\"\n",
    "        else:\n",
    "            return \"홀수\"\n",
    "    else:\n",
    "          return\n",
    "    \n",
    "num = input(\"수를 입력하세요:\")\n",
    "if type(num) == \n",
    "\n",
    "\n",
    "# print(odd_even(10))\n",
    "# print(odd_even(9))\n",
    "# print(odd_even(\"가\"))\n",
    "# print(odd_even.__doc__)"
   ]
  },
  {
   "cell_type": "code",
   "execution_count": 19,
   "id": "7c2f620a-7d31-4fbc-ab6d-d2a9cf68389a",
   "metadata": {},
   "outputs": [],
   "source": [
    "def odd_even(num):\n",
    "    if type(num) is int and num > 0 :\n",
    "        return \"짝수\"* (num%2==0) or \"홀수\" # or의 경우, 왼쪽이 참이면 오른쪽은 계산 안한다.스트링은 1이다. 없으면 0이다. \n",
    "    else: \n",
    "        return"
   ]
  },
  {
   "cell_type": "code",
   "execution_count": 12,
   "id": "4d218634-1c04-4986-adeb-b02e5e2b3cee",
   "metadata": {},
   "outputs": [
    {
     "name": "stdout",
     "output_type": "stream",
     "text": [
      "10\n"
     ]
    }
   ],
   "source": [
    "def to_int(num):\n",
    "    if num.isdecimal():  #int로 변환할 수 있는 수인지를 확인하는 것 -> True 아니면 False나옴\n",
    "        num = int(num)\n",
    "        return num\n",
    "    return\n",
    "\n",
    "print(to_int(\"10\"))"
   ]
  },
  {
   "cell_type": "code",
   "execution_count": 26,
   "id": "3ad33137-6b34-4693-8a1c-a57f83658c5d",
   "metadata": {},
   "outputs": [
    {
     "name": "stdout",
     "output_type": "stream",
     "text": [
      "평년과 윤년을 구별하여 드립니다.\n"
     ]
    },
    {
     "name": "stdin",
     "output_type": "stream",
     "text": [
      "년도를 입력하세요 1900\n"
     ]
    },
    {
     "name": "stdout",
     "output_type": "stream",
     "text": [
      "평년\n"
     ]
    }
   ],
   "source": [
    "# 윤년 %4 ==0 \n",
    "# 평년 = %100==0 and %400!=0\n",
    "\n",
    "def year(num):\n",
    "    '''평년과 윤년을 구별하여 드립니다.'''\n",
    "    작성자: 조세연\n",
    "    작성일자: \"20230221\"\n",
    "    \n",
    "    if num % 4 ==0:\n",
    "        if num % 100 == 0 and num % 400 != 0:\n",
    "            return \"평년\"\n",
    "        return \"윤년\"\n",
    "    else:\n",
    "        return \"평년\"\n",
    "\n",
    "print(year.__doc__)    \n",
    "num = int(input(\"년도를 입력하세요\"))\n",
    "print(year(num))"
   ]
  },
  {
   "cell_type": "code",
   "execution_count": null,
   "id": "e4890e77-6399-4aa2-818b-287527b0d969",
   "metadata": {},
   "outputs": [],
   "source": [
    "def month(num):\n",
    "    '''달에 몇 일이 있는지 알려드립니다.\n",
    "       작성자: 조세연\n",
    "       작성일자: 20230221'''\n",
    "    if num.isdecimal() and 1<=int(num)<=12:\n",
    "        num = int(num)\n",
    "        if num in [1,3,5,6,7,10,12]:\n",
    "            return 31\n",
    "        elif num in [4,6,9,11]:\n",
    "            return 30\n",
    "        else:\n",
    "            return 28\n",
    "    else :\n",
    "        return \"월 입력을 다시 해주세요\"\n",
    "    \n",
    "num = input(\"달을 입력하세요\")\n",
    "print(month(num))"
   ]
  },
  {
   "cell_type": "code",
   "execution_count": 1,
   "id": "6e5360c0-887f-4015-93e8-18d0c6b14ebf",
   "metadata": {},
   "outputs": [
    {
     "name": "stdout",
     "output_type": "stream",
     "text": [
      "해당 연월에 몇 일이 있는지 알려드립니다.\n",
      "    작성자: 조세연\n",
      "    작성일자: 20230221\n"
     ]
    },
    {
     "name": "stdin",
     "output_type": "stream",
     "text": [
      "연도와 달을 입력하세요 1900,2\n"
     ]
    },
    {
     "name": "stdout",
     "output_type": "stream",
     "text": [
      "28\n"
     ]
    }
   ],
   "source": [
    "def date(num1, num2):\n",
    "    '''해당 연월에 몇 일이 있는지 알려드립니다.\n",
    "    작성자: 조세연\n",
    "    작성일자: 20230221'''\n",
    "    if num2 in [1,3,5,6,7,10,12]:\n",
    "        return 31\n",
    "    elif num2 in [4,6,9,11]:\n",
    "        return 30\n",
    "    else:\n",
    "        if num1 % 4 != 0 or (num1%100==0 and num1%400!=0):\n",
    "            return 28\n",
    "        else :\n",
    "            return 29\n",
    "\n",
    "print(date.__doc__)\n",
    "print()\n",
    "num1, num2 = map(int,input(\"연도와 달을 입력하세요\").split(\",\"))\n",
    "print(date(num1, num2))"
   ]
  },
  {
   "cell_type": "code",
   "execution_count": null,
   "id": "d6d9e8fd-d456-4463-881b-a994f0cc7941",
   "metadata": {},
   "outputs": [],
   "source": []
  }
 ],
 "metadata": {
  "kernelspec": {
   "display_name": "Python 3 (ipykernel)",
   "language": "python",
   "name": "python3"
  },
  "language_info": {
   "codemirror_mode": {
    "name": "ipython",
    "version": 3
   },
   "file_extension": ".py",
   "mimetype": "text/x-python",
   "name": "python",
   "nbconvert_exporter": "python",
   "pygments_lexer": "ipython3",
   "version": "3.9.13"
  }
 },
 "nbformat": 4,
 "nbformat_minor": 5
}
